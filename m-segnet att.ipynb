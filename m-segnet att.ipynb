{
 "cells": [
  {
   "cell_type": "code",
   "execution_count": 6,
   "id": "b134b077",
   "metadata": {},
   "outputs": [],
   "source": [
    "#Metrices\n",
    "\n",
    "import numpy as np\n",
    "import tensorflow as tf\n",
    "from tensorflow.keras import backend as K\n",
    "\n",
    "def iou(y_true, y_pred):\n",
    "    def f(y_true, y_pred):\n",
    "        intersection = (y_true * y_pred).sum()\n",
    "        union = y_true.sum() + y_pred.sum() - intersection\n",
    "        x = (intersection + 1e-15) / (union + 1e-15)\n",
    "        x = x.astype(np.float32)\n",
    "        return x\n",
    "    return tf.numpy_function(f, [y_true, y_pred], tf.float32)\n",
    "\n",
    "smooth = 1e-15\n",
    "def dice_coef(y_true, y_pred):\n",
    "    y_true = tf.keras.layers.Flatten()(y_true)\n",
    "    y_pred = tf.keras.layers.Flatten()(y_pred)\n",
    "    intersection = tf.reduce_sum(y_true * y_pred)\n",
    "    return (2. * intersection + smooth) / (tf.reduce_sum(y_true) + tf.reduce_sum(y_pred) + smooth)\n",
    "\n",
    "def dice_loss(y_true, y_pred):\n",
    "    return 1.0 - dice_coef(y_true, y_pred)"
   ]
  },
  {
   "cell_type": "code",
   "execution_count": 7,
   "id": "22a7d2ee",
   "metadata": {},
   "outputs": [],
   "source": [
    "#model\n",
    "\n",
    "from tensorflow.keras.layers import Conv2D, BatchNormalization, Activation, MaxPool2D, Conv2DTranspose, Concatenate, Input, Dropout\n",
    "from keras.layers import Input, Activation, Conv2D, MaxPooling2D, UpSampling2D, Dropout,BatchNormalization, AveragePooling2D, Layer\n",
    "from tensorflow.keras.models import Model\n",
    "\n",
    "def mnet(input_shape):\n",
    "\n",
    "    # Input\n",
    "    input1 = Input(input_shape)\n",
    "\n",
    "    # Encoder\n",
    "    conv1 = Conv2D(64, (1, 1), padding='same')(input1)\n",
    "    conv1 = BatchNormalization()(conv1)\n",
    "    conv1 = Activation('relu')(conv1)\n",
    "    conv1 = Dropout(0.2)(conv1)\n",
    "\n",
    "    conv1 = Concatenate()([input1, conv1])\n",
    "    conv1 = Conv2D(64, (1, 1), padding='same')(conv1)\n",
    "    conv1 = BatchNormalization()(conv1)\n",
    "    conv1 = Activation('relu')(conv1)\n",
    "    pool1 = MaxPool2D(pool_size=(2, 2))(conv1)\n",
    "\n",
    "    #\n",
    "    input2 = AveragePooling2D(pool_size=(2, 2))(input1)\n",
    "    conv21 = Concatenate()([input2, pool1])\n",
    "\n",
    "    conv2 = Conv2D(128, (1, 1), padding='same')(conv21)\n",
    "    conv2 = BatchNormalization()(conv2)\n",
    "    conv2 = Activation('relu')(conv2)\n",
    "    conv2 = Dropout(0.2)(conv2)\n",
    "\n",
    "    conv2 = Concatenate()([conv21, conv2])\n",
    "    conv2 = Conv2D(128, (1, 1), padding='same')(conv2)\n",
    "    conv2 = BatchNormalization()(conv2)\n",
    "    conv2 = Activation('relu')(conv2)\n",
    "    pool2 = MaxPool2D(pool_size=(2, 2))(conv2)\n",
    "\n",
    "    #\n",
    "    input3 = AveragePooling2D(pool_size=(2, 2))(input2)\n",
    "    conv31 = Concatenate()([input3, pool2])\n",
    "\n",
    "    conv3 = Conv2D(256, (1, 1), padding='same')(conv31)\n",
    "    conv3 = BatchNormalization()(conv3)\n",
    "    conv3 = Activation('relu')(conv3)\n",
    "    conv3 = Dropout(0.2)(conv3)\n",
    "    \n",
    "    conv3 = Concatenate()([conv31, conv3])\n",
    "    conv3 = Conv2D(256, (1, 1), padding='same')(conv3)\n",
    "    conv3 = BatchNormalization()(conv3)\n",
    "    conv3 = Activation('relu')(conv3)\n",
    "    pool3 = MaxPool2D(pool_size=(2, 2))(conv3)\n",
    "\n",
    "    #\n",
    "    input4 = AveragePooling2D(pool_size=(2, 2))(input3)\n",
    "    conv41 = Concatenate()([input4, pool3])\n",
    "\n",
    "    conv4 = Conv2D(512, (1, 1), padding='same')(conv41)\n",
    "    conv4 = BatchNormalization()(conv4)\n",
    "    conv4 = Activation('relu')(conv4)\n",
    "    conv4 = Dropout(0.2)(conv4)\n",
    "    \n",
    "    conv4 = Concatenate()([conv41, conv4])\n",
    "    conv4 = Conv2D(512, (1, 1), padding='same')(conv4)\n",
    "    conv4 = BatchNormalization()(conv4)\n",
    "    conv4 = Activation('relu')(conv4)\n",
    "    pool4 = MaxPool2D(pool_size=(2, 2))(conv4)\n",
    "\n",
    "    #\n",
    "    input5 = AveragePooling2D(pool_size=(2, 2))(input4)\n",
    "    conv51 = Concatenate()([input5, pool4])\n",
    "\n",
    "    conv5 = Conv2D(1024, (1, 1), padding='same')(conv51)\n",
    "    conv5 = BatchNormalization()(conv5)\n",
    "    conv5 = Activation('relu')(conv5)\n",
    "    conv5 = Dropout(0.2)(conv5)\n",
    "\n",
    "    conv5 = Concatenate()([conv51, conv5])\n",
    "    conv5 = Conv2D(1024, (1, 1), padding='same')(conv5)\n",
    "    conv5 = BatchNormalization()(conv5)\n",
    "    conv5 = Activation('relu')(conv5)\n",
    "\n",
    "    # Decoder\n",
    "    conv6 = UpSampling2D(size=(2, 2))(conv5)\n",
    "    conv4 = se_block(conv4)\n",
    "    conv61 = Concatenate()([conv4, conv6])\n",
    "\n",
    "    conv6 = Conv2D(512, (3, 3), padding='same')(conv61)\n",
    "    conv6 = BatchNormalization()(conv6)\n",
    "    conv6 = Activation('relu')(conv6)\n",
    "    conv6 = Dropout(0.2)(conv6)\n",
    "    \n",
    "    conv6 = Concatenate()([conv61, conv6])\n",
    "    conv6 = Conv2D(512, (3, 3), padding='same')(conv6)\n",
    "    conv6 = BatchNormalization()(conv6)\n",
    "    conv6 = Activation('relu')(conv6)\n",
    "\n",
    "    #\n",
    "    conv7 = UpSampling2D(size=(2, 2))(conv6)\n",
    "    conv3 = se_block(conv3)\n",
    "    conv71 = Concatenate()([conv3, conv7])\n",
    "\n",
    "    conv7 = Conv2D(256, (3, 3), padding='same')(conv71)\n",
    "    conv7 = BatchNormalization()(conv7)\n",
    "    conv7 = Activation('relu')(conv7)\n",
    "    conv7 = Dropout(0.2)(conv7)\n",
    "    \n",
    "    conv7 = Concatenate()([conv71, conv7])\n",
    "    conv7 = Conv2D(256, (3, 3), padding='same')(conv7)\n",
    "    conv7 = BatchNormalization()(conv7)\n",
    "    conv7 = Activation('relu')(conv7)\n",
    "\n",
    "    #\n",
    "    conv8 = UpSampling2D(size=(2, 2))(conv7)\n",
    "    conv2 = se_block(conv2)\n",
    "    conv81 = Concatenate()([conv2, conv8])\n",
    "\n",
    "    conv8 = Conv2D(128, (3, 3), padding='same')(conv81)\n",
    "    conv8 = BatchNormalization()(conv8)\n",
    "    conv8 = Activation('relu')(conv8)\n",
    "    conv8 = Dropout(0.2)(conv8)\n",
    "    \n",
    "    conv8 = Concatenate()([conv81, conv8])\n",
    "    conv8 = Conv2D(128, (3, 3), padding='same')(conv8)\n",
    "    conv8 = BatchNormalization()(conv8)\n",
    "    conv8 = Activation('relu')(conv8)\n",
    "\n",
    "    #\n",
    "    conv9 = UpSampling2D(size=(2, 2))(conv8)\n",
    "    conv1 = se_block(conv1)\n",
    "    conv91 = Concatenate()([conv1, conv9])\n",
    "\n",
    "    conv9 = Conv2D(64, (3, 3), padding='same')(conv91)\n",
    "    conv9 = BatchNormalization()(conv9)\n",
    "    conv9 = Activation('relu')(conv9)\n",
    "    conv9 = Dropout(0.2)(conv9)\n",
    "    \n",
    "    conv9 = Concatenate()([conv91, conv9])\n",
    "    conv9 = Conv2D(64, (3, 3), padding='same')(conv9)\n",
    "    conv9 = BatchNormalization()(conv9)\n",
    "    conv9 = Activation('relu')(conv9)\n",
    "\n",
    "    # Final\n",
    "    conv101 = UpSampling2D(size=(8, 8))(conv6)\n",
    "    conv102 = UpSampling2D(size=(4, 4))(conv7)\n",
    "    conv103 = UpSampling2D(size=(2, 2))(conv8)\n",
    "    conv10 = Concatenate()([conv101, conv102, conv103, conv9])\n",
    "    outputs = Conv2D(1, 1, activation='sigmoid')(conv10)\n",
    "\n",
    "    model = Model(input1, outputs)\n",
    "    \n",
    "    return model"
   ]
  },
  {
   "cell_type": "code",
   "execution_count": 8,
   "id": "5a13a7ac",
   "metadata": {},
   "outputs": [],
   "source": [
    "from keras.layers import GlobalAveragePooling2D, GlobalMaxPooling2D, Reshape, Dense, multiply, Permute, Concatenate, Conv2D, Add, Activation, Lambda\n",
    "from keras import backend as K\n",
    "from keras.activations import sigmoid\n",
    "import tensorflow as tf\n",
    "\n",
    "def attach_attention_module(net, attention_module):\n",
    "  if attention_module == 'se_block': # SE_block\n",
    "    net = se_block(net)\n",
    "  elif attention_module == 'cbam_block': # CBAM_block\n",
    "    net = cbam_block(net)\n",
    "  else:\n",
    "    raise Exception(\"'{}' is not supported attention module!\".format(attention_module))\n",
    "\n",
    "  return net\n",
    "\n",
    "def se_block(input_feature, ratio=8):\n",
    "\t\"\"\"Contains the implementation of Squeeze-and-Excitation(SE) block.\n",
    "\tAs described in https://arxiv.org/abs/1709.01507.\n",
    "\t\"\"\"\n",
    "\t\n",
    "\tchannel_axis = 1 if K.image_data_format() == \"channels_first\" else -1\n",
    "\tchannel = input_feature.shape[channel_axis]\n",
    "\n",
    "\tse_feature = GlobalAveragePooling2D()(input_feature)\n",
    "\tse_feature = Reshape((1, 1, channel))(se_feature)\n",
    "\tassert se_feature.shape[1:] == (1,1,channel)\n",
    "\tse_feature = Dense(channel // ratio,\n",
    "\t\t\t\t\t   activation='relu',\n",
    "\t\t\t\t\t   kernel_initializer='he_normal',\n",
    "\t\t\t\t\t   use_bias=True,\n",
    "\t\t\t\t\t   bias_initializer='zeros')(se_feature)\n",
    "\tassert se_feature.shape[1:] == (1,1,channel//ratio)\n",
    "\tse_feature = Dense(channel,\n",
    "\t\t\t\t\t   activation='sigmoid',\n",
    "\t\t\t\t\t   kernel_initializer='he_normal',\n",
    "\t\t\t\t\t   use_bias=True,\n",
    "\t\t\t\t\t   bias_initializer='zeros')(se_feature)\n",
    "\tassert se_feature.shape[1:] == (1,1,channel)\n",
    "\tif K.image_data_format() == 'channels_first':\n",
    "\t\tse_feature = Permute((3, 1, 2))(se_feature)\n",
    "\n",
    "\tse_feature = multiply([input_feature, se_feature])\n",
    "\treturn se_feature\n",
    "\n",
    "def cbam_block(cbam_feature, ratio=8):\n",
    "\t\"\"\"Contains the implementation of Convolutional Block Attention Module(CBAM) block.\n",
    "\tAs described in https://arxiv.org/abs/1807.06521.\n",
    "\t\"\"\"\n",
    "\t\n",
    "\tcbam_feature = channel_attention(cbam_feature, ratio)\n",
    "\tcbam_feature = spatial_attention(cbam_feature)\n",
    "\treturn cbam_feature\n",
    "\n",
    "def channel_attention(input_feature, ratio=8):\n",
    "\t\n",
    "\tchannel_axis = 1 if K.image_data_format() == \"channels_first\" else -1\n",
    "\tchannel = input_feature.shape[channel_axis]\n",
    "\t\n",
    "\tshared_layer_one = Dense(channel//ratio,\n",
    "\t\t\t\t\t\t\t activation='relu',\n",
    "\t\t\t\t\t\t\t kernel_initializer='he_normal',\n",
    "\t\t\t\t\t\t\t use_bias=True,\n",
    "\t\t\t\t\t\t\t bias_initializer='zeros')\n",
    "\tshared_layer_two = Dense(channel,\n",
    "\t\t\t\t\t\t\t kernel_initializer='he_normal',\n",
    "\t\t\t\t\t\t\t use_bias=True,\n",
    "\t\t\t\t\t\t\t bias_initializer='zeros')\n",
    "\t\n",
    "\tavg_pool = GlobalAveragePooling2D()(input_feature)    \n",
    "\tavg_pool = Reshape((1,1,channel))(avg_pool)\n",
    "\tassert avg_pool.shape[1:] == (1,1,channel)\n",
    "\tavg_pool = shared_layer_one(avg_pool)\n",
    "\tassert avg_pool.shape[1:] == (1,1,channel//ratio)\n",
    "\tavg_pool = shared_layer_two(avg_pool)\n",
    "\tassert avg_pool._keras_shape[1:] == (1,1,channel)\n",
    "\t\n",
    "\tmax_pool = GlobalMaxPooling2D()(input_feature)\n",
    "\tmax_pool = Reshape((1,1,channel))(max_pool)\n",
    "\tassert max_pool._keras_shape[1:] == (1,1,channel)\n",
    "\tmax_pool = shared_layer_one(max_pool)\n",
    "\tassert max_pool._keras_shape[1:] == (1,1,channel//ratio)\n",
    "\tmax_pool = shared_layer_two(max_pool)\n",
    "\tassert max_pool._keras_shape[1:] == (1,1,channel)\n",
    "\t\n",
    "\tcbam_feature = Add()([avg_pool,max_pool])\n",
    "\tcbam_feature = Activation('sigmoid')(cbam_feature)\n",
    "\t\n",
    "\tif K.image_data_format() == \"channels_first\":\n",
    "\t\tcbam_feature = Permute((3, 1, 2))(cbam_feature)\n",
    "\t\n",
    "\treturn multiply([input_feature, cbam_feature])\n",
    "\n",
    "def spatial_attention(input_feature):\n",
    "\tkernel_size = 7\n",
    "\t\n",
    "\tif K.image_data_format() == \"channels_first\":\n",
    "\t\tchannel = input_feature._keras_shape[1]\n",
    "\t\tcbam_feature = Permute((2,3,1))(input_feature)\n",
    "\telse:\n",
    "\t\tchannel = input_feature._keras_shape[-1]\n",
    "\t\tcbam_feature = input_feature\n",
    "\t\n",
    "\tavg_pool = Lambda(lambda x: K.mean(x, axis=3, keepdims=True))(cbam_feature)\n",
    "\tassert avg_pool._keras_shape[-1] == 1\n",
    "\tmax_pool = Lambda(lambda x: K.max(x, axis=3, keepdims=True))(cbam_feature)\n",
    "\tassert max_pool._keras_shape[-1] == 1\n",
    "\tconcat = Concatenate(axis=3)([avg_pool, max_pool])\n",
    "\tassert concat._keras_shape[-1] == 2\n",
    "\tcbam_feature = Conv2D(filters = 1,\n",
    "\t\t\t\t\tkernel_size=kernel_size,\n",
    "\t\t\t\t\tstrides=1,\n",
    "\t\t\t\t\tpadding='same',\n",
    "\t\t\t\t\tactivation='sigmoid',\n",
    "\t\t\t\t\tkernel_initializer='he_normal',\n",
    "\t\t\t\t\tuse_bias=False)(concat)\t\n",
    "\tassert cbam_feature._keras_shape[-1] == 1\n",
    "\t\n",
    "\tif K.image_data_format() == \"channels_first\":\n",
    "\t\tcbam_feature = Permute((3, 1, 2))(cbam_feature)\n",
    "\t\t\n",
    "\treturn multiply([input_feature, cbam_feature])"
   ]
  },
  {
   "cell_type": "code",
   "execution_count": 29,
   "id": "aa359b61",
   "metadata": {},
   "outputs": [
    {
     "data": {
      "text/plain": [
       "<keras.engine.functional.Functional at 0x22e2ed1bb20>"
      ]
     },
     "execution_count": 29,
     "metadata": {},
     "output_type": "execute_result"
    }
   ],
   "source": [
    "mnet((256,256,3))"
   ]
  },
  {
   "cell_type": "code",
   "execution_count": 10,
   "id": "565f681c",
   "metadata": {},
   "outputs": [
    {
     "name": "stdout",
     "output_type": "stream",
     "text": [
      "Train: 900 - 900\n",
      "Valid: 300 - 300\n",
      "Test: 300 - 300\n"
     ]
    },
    {
     "ename": "AttributeError",
     "evalue": "'tuple' object has no attribute 'layer'",
     "output_type": "error",
     "traceback": [
      "\u001b[1;31m---------------------------------------------------------------------------\u001b[0m",
      "\u001b[1;31mAttributeError\u001b[0m                            Traceback (most recent call last)",
      "\u001b[1;32m~\\AppData\\Local\\Temp\\ipykernel_7236\\816405299.py\u001b[0m in \u001b[0;36m<module>\u001b[1;34m\u001b[0m\n\u001b[0;32m    113\u001b[0m \u001b[1;33m\u001b[0m\u001b[0m\n\u001b[0;32m    114\u001b[0m     \u001b[1;34m\"\"\" Model \"\"\"\u001b[0m\u001b[1;33m\u001b[0m\u001b[1;33m\u001b[0m\u001b[0m\n\u001b[1;32m--> 115\u001b[1;33m     \u001b[0mmodel\u001b[0m \u001b[1;33m=\u001b[0m \u001b[0mmnet\u001b[0m\u001b[1;33m(\u001b[0m\u001b[1;33m(\u001b[0m\u001b[0mH\u001b[0m\u001b[1;33m,\u001b[0m \u001b[0mW\u001b[0m\u001b[1;33m,\u001b[0m \u001b[1;36m3\u001b[0m\u001b[1;33m)\u001b[0m\u001b[1;33m)\u001b[0m\u001b[1;33m\u001b[0m\u001b[1;33m\u001b[0m\u001b[0m\n\u001b[0m\u001b[0;32m    116\u001b[0m     \u001b[0mmetrics\u001b[0m \u001b[1;33m=\u001b[0m \u001b[1;33m[\u001b[0m\u001b[0mdice_coef\u001b[0m\u001b[1;33m,\u001b[0m \u001b[0miou\u001b[0m\u001b[1;33m,\u001b[0m \u001b[0mRecall\u001b[0m\u001b[1;33m(\u001b[0m\u001b[1;33m)\u001b[0m\u001b[1;33m,\u001b[0m \u001b[0mPrecision\u001b[0m\u001b[1;33m(\u001b[0m\u001b[1;33m)\u001b[0m\u001b[1;33m]\u001b[0m\u001b[1;33m\u001b[0m\u001b[1;33m\u001b[0m\u001b[0m\n\u001b[0;32m    117\u001b[0m     \u001b[0mmodel\u001b[0m\u001b[1;33m.\u001b[0m\u001b[0mcompile\u001b[0m\u001b[1;33m(\u001b[0m\u001b[0mloss\u001b[0m\u001b[1;33m=\u001b[0m\u001b[1;34m\"binary_crossentropy\"\u001b[0m\u001b[1;33m,\u001b[0m \u001b[0moptimizer\u001b[0m\u001b[1;33m=\u001b[0m\u001b[0mAdam\u001b[0m\u001b[1;33m(\u001b[0m\u001b[0mlr\u001b[0m\u001b[1;33m)\u001b[0m\u001b[1;33m,\u001b[0m \u001b[0mmetrics\u001b[0m\u001b[1;33m=\u001b[0m\u001b[0mmetrics\u001b[0m\u001b[1;33m)\u001b[0m\u001b[1;33m\u001b[0m\u001b[1;33m\u001b[0m\u001b[0m\n",
      "\u001b[1;32m~\\AppData\\Local\\Temp\\ipykernel_7236\\2136072563.py\u001b[0m in \u001b[0;36mmnet\u001b[1;34m(input_shape)\u001b[0m\n\u001b[0;32m     20\u001b[0m     \u001b[0mconv1\u001b[0m \u001b[1;33m=\u001b[0m \u001b[0mBatchNormalization\u001b[0m\u001b[1;33m(\u001b[0m\u001b[1;33m)\u001b[0m\u001b[1;33m(\u001b[0m\u001b[0mconv1\u001b[0m\u001b[1;33m)\u001b[0m\u001b[1;33m\u001b[0m\u001b[1;33m\u001b[0m\u001b[0m\n\u001b[0;32m     21\u001b[0m     \u001b[0mconv1\u001b[0m \u001b[1;33m=\u001b[0m \u001b[0mActivation\u001b[0m\u001b[1;33m(\u001b[0m\u001b[1;34m'relu'\u001b[0m\u001b[1;33m)\u001b[0m\u001b[1;33m(\u001b[0m\u001b[0mconv1\u001b[0m\u001b[1;33m)\u001b[0m\u001b[1;33m\u001b[0m\u001b[1;33m\u001b[0m\u001b[0m\n\u001b[1;32m---> 22\u001b[1;33m     \u001b[0mpool1\u001b[0m \u001b[1;33m=\u001b[0m \u001b[0mMaxPool2D\u001b[0m\u001b[1;33m(\u001b[0m\u001b[0mpool_size\u001b[0m\u001b[1;33m=\u001b[0m\u001b[1;33m(\u001b[0m\u001b[1;36m2\u001b[0m\u001b[1;33m,\u001b[0m \u001b[1;36m2\u001b[0m\u001b[1;33m)\u001b[0m\u001b[1;33m)\u001b[0m\u001b[1;33m(\u001b[0m\u001b[0mconv1\u001b[0m\u001b[1;33m)\u001b[0m\u001b[1;33m\u001b[0m\u001b[1;33m\u001b[0m\u001b[0m\n\u001b[0m\u001b[0;32m     23\u001b[0m \u001b[1;33m\u001b[0m\u001b[0m\n\u001b[0;32m     24\u001b[0m     \u001b[1;31m#\u001b[0m\u001b[1;33m\u001b[0m\u001b[1;33m\u001b[0m\u001b[1;33m\u001b[0m\u001b[0m\n",
      "\u001b[1;32m~\\anaconda3\\envs\\ai\\lib\\site-packages\\tensorflow_core\\python\\keras\\engine\\base_layer.py\u001b[0m in \u001b[0;36m__call__\u001b[1;34m(self, inputs, *args, **kwargs)\u001b[0m\n\u001b[0;32m    872\u001b[0m               \u001b[0mkwargs\u001b[0m\u001b[1;33m.\u001b[0m\u001b[0mpop\u001b[0m\u001b[1;33m(\u001b[0m\u001b[1;34m'mask'\u001b[0m\u001b[1;33m)\u001b[0m\u001b[1;33m\u001b[0m\u001b[1;33m\u001b[0m\u001b[0m\n\u001b[0;32m    873\u001b[0m             inputs, outputs = self._set_connectivity_metadata_(\n\u001b[1;32m--> 874\u001b[1;33m                 inputs, outputs, args, kwargs)\n\u001b[0m\u001b[0;32m    875\u001b[0m           \u001b[0mself\u001b[0m\u001b[1;33m.\u001b[0m\u001b[0m_handle_activity_regularization\u001b[0m\u001b[1;33m(\u001b[0m\u001b[0minputs\u001b[0m\u001b[1;33m,\u001b[0m \u001b[0moutputs\u001b[0m\u001b[1;33m)\u001b[0m\u001b[1;33m\u001b[0m\u001b[1;33m\u001b[0m\u001b[0m\n\u001b[0;32m    876\u001b[0m           \u001b[0mself\u001b[0m\u001b[1;33m.\u001b[0m\u001b[0m_set_mask_metadata\u001b[0m\u001b[1;33m(\u001b[0m\u001b[0minputs\u001b[0m\u001b[1;33m,\u001b[0m \u001b[0moutputs\u001b[0m\u001b[1;33m,\u001b[0m \u001b[0minput_masks\u001b[0m\u001b[1;33m)\u001b[0m\u001b[1;33m\u001b[0m\u001b[1;33m\u001b[0m\u001b[0m\n",
      "\u001b[1;32m~\\anaconda3\\envs\\ai\\lib\\site-packages\\tensorflow_core\\python\\keras\\engine\\base_layer.py\u001b[0m in \u001b[0;36m_set_connectivity_metadata_\u001b[1;34m(self, inputs, outputs, args, kwargs)\u001b[0m\n\u001b[0;32m   2036\u001b[0m     \u001b[1;31m# This updates the layer history of the output tensor(s).\u001b[0m\u001b[1;33m\u001b[0m\u001b[1;33m\u001b[0m\u001b[1;33m\u001b[0m\u001b[0m\n\u001b[0;32m   2037\u001b[0m     self._add_inbound_node(\n\u001b[1;32m-> 2038\u001b[1;33m         input_tensors=inputs, output_tensors=outputs, arguments=arguments)\n\u001b[0m\u001b[0;32m   2039\u001b[0m     \u001b[1;32mreturn\u001b[0m \u001b[0minputs\u001b[0m\u001b[1;33m,\u001b[0m \u001b[0moutputs\u001b[0m\u001b[1;33m\u001b[0m\u001b[1;33m\u001b[0m\u001b[0m\n\u001b[0;32m   2040\u001b[0m \u001b[1;33m\u001b[0m\u001b[0m\n",
      "\u001b[1;32m~\\anaconda3\\envs\\ai\\lib\\site-packages\\tensorflow_core\\python\\keras\\engine\\base_layer.py\u001b[0m in \u001b[0;36m_add_inbound_node\u001b[1;34m(self, input_tensors, output_tensors, arguments)\u001b[0m\n\u001b[0;32m   2052\u001b[0m     \"\"\"\n\u001b[0;32m   2053\u001b[0m     inbound_layers = nest.map_structure(lambda t: t._keras_history.layer,\n\u001b[1;32m-> 2054\u001b[1;33m                                         input_tensors)\n\u001b[0m\u001b[0;32m   2055\u001b[0m     node_indices = nest.map_structure(lambda t: t._keras_history.node_index,\n\u001b[0;32m   2056\u001b[0m                                       input_tensors)\n",
      "\u001b[1;32m~\\anaconda3\\envs\\ai\\lib\\site-packages\\tensorflow_core\\python\\util\\nest.py\u001b[0m in \u001b[0;36mmap_structure\u001b[1;34m(func, *structure, **kwargs)\u001b[0m\n\u001b[0;32m    533\u001b[0m \u001b[1;33m\u001b[0m\u001b[0m\n\u001b[0;32m    534\u001b[0m   return pack_sequence_as(\n\u001b[1;32m--> 535\u001b[1;33m       \u001b[0mstructure\u001b[0m\u001b[1;33m[\u001b[0m\u001b[1;36m0\u001b[0m\u001b[1;33m]\u001b[0m\u001b[1;33m,\u001b[0m \u001b[1;33m[\u001b[0m\u001b[0mfunc\u001b[0m\u001b[1;33m(\u001b[0m\u001b[1;33m*\u001b[0m\u001b[0mx\u001b[0m\u001b[1;33m)\u001b[0m \u001b[1;32mfor\u001b[0m \u001b[0mx\u001b[0m \u001b[1;32min\u001b[0m \u001b[0mentries\u001b[0m\u001b[1;33m]\u001b[0m\u001b[1;33m,\u001b[0m\u001b[1;33m\u001b[0m\u001b[1;33m\u001b[0m\u001b[0m\n\u001b[0m\u001b[0;32m    536\u001b[0m       expand_composites=expand_composites)\n\u001b[0;32m    537\u001b[0m \u001b[1;33m\u001b[0m\u001b[0m\n",
      "\u001b[1;32m~\\anaconda3\\envs\\ai\\lib\\site-packages\\tensorflow_core\\python\\util\\nest.py\u001b[0m in \u001b[0;36m<listcomp>\u001b[1;34m(.0)\u001b[0m\n\u001b[0;32m    533\u001b[0m \u001b[1;33m\u001b[0m\u001b[0m\n\u001b[0;32m    534\u001b[0m   return pack_sequence_as(\n\u001b[1;32m--> 535\u001b[1;33m       \u001b[0mstructure\u001b[0m\u001b[1;33m[\u001b[0m\u001b[1;36m0\u001b[0m\u001b[1;33m]\u001b[0m\u001b[1;33m,\u001b[0m \u001b[1;33m[\u001b[0m\u001b[0mfunc\u001b[0m\u001b[1;33m(\u001b[0m\u001b[1;33m*\u001b[0m\u001b[0mx\u001b[0m\u001b[1;33m)\u001b[0m \u001b[1;32mfor\u001b[0m \u001b[0mx\u001b[0m \u001b[1;32min\u001b[0m \u001b[0mentries\u001b[0m\u001b[1;33m]\u001b[0m\u001b[1;33m,\u001b[0m\u001b[1;33m\u001b[0m\u001b[1;33m\u001b[0m\u001b[0m\n\u001b[0m\u001b[0;32m    536\u001b[0m       expand_composites=expand_composites)\n\u001b[0;32m    537\u001b[0m \u001b[1;33m\u001b[0m\u001b[0m\n",
      "\u001b[1;32m~\\anaconda3\\envs\\ai\\lib\\site-packages\\tensorflow_core\\python\\keras\\engine\\base_layer.py\u001b[0m in \u001b[0;36m<lambda>\u001b[1;34m(t)\u001b[0m\n\u001b[0;32m   2051\u001b[0m             \u001b[0;31m`\u001b[0m\u001b[0mcall\u001b[0m\u001b[0;31m`\u001b[0m \u001b[0mmethod\u001b[0m \u001b[0mof\u001b[0m \u001b[0mthe\u001b[0m \u001b[0mlayer\u001b[0m \u001b[0mat\u001b[0m \u001b[0mthe\u001b[0m \u001b[0mcall\u001b[0m \u001b[0mthat\u001b[0m \u001b[0mcreated\u001b[0m \u001b[0mthe\u001b[0m \u001b[0mnode\u001b[0m\u001b[1;33m.\u001b[0m\u001b[1;33m\u001b[0m\u001b[1;33m\u001b[0m\u001b[0m\n\u001b[0;32m   2052\u001b[0m     \"\"\"\n\u001b[1;32m-> 2053\u001b[1;33m     inbound_layers = nest.map_structure(lambda t: t._keras_history.layer,\n\u001b[0m\u001b[0;32m   2054\u001b[0m                                         input_tensors)\n\u001b[0;32m   2055\u001b[0m     node_indices = nest.map_structure(lambda t: t._keras_history.node_index,\n",
      "\u001b[1;31mAttributeError\u001b[0m: 'tuple' object has no attribute 'layer'"
     ]
    }
   ],
   "source": [
    "#train\n",
    "\n",
    "import os\n",
    "#os.environ[\"TF_CPP_MIN_LOG_LEVEL\"] = \"0\"\n",
    "import numpy as np\n",
    "import cv2\n",
    "from glob import glob\n",
    "from sklearn.utils import shuffle\n",
    "from sklearn.model_selection import train_test_split\n",
    "import tensorflow as tf\n",
    "from tensorflow.keras.callbacks import ModelCheckpoint, CSVLogger, ReduceLROnPlateau, EarlyStopping, TensorBoard\n",
    "from tensorflow.keras.optimizers import Adam\n",
    "from tensorflow.keras.metrics import Recall, Precision\n",
    "#from model import build_unet\n",
    "#from metrics import dice_coef, iou\n",
    "\n",
    "H = 256\n",
    "W = 256\n",
    "\n",
    "def create_dir(path):\n",
    "    if not os.path.exists(path):\n",
    "        os.makedirs(path)\n",
    "\n",
    "def shuffling(x, y):\n",
    "    x, y = shuffle(x, y, random_state=42)\n",
    "    return x, y\n",
    "\n",
    "def load_data(dataset_path, split=0.2):\n",
    "    dataset_path = os.getcwd()\n",
    "    dataset_path=dataset_path+\"/dataset/\"\n",
    "    images = sorted(glob(os.path.join(dataset_path, \"images\", \"*.jpg\")))\n",
    "    masks = sorted(glob(os.path.join(dataset_path, \"tooth-semantic-masks\", \"*.png\")))\n",
    "\n",
    "    test_size = int(len(images) * split)\n",
    "\n",
    "    train_x, valid_x = train_test_split(images, test_size=test_size, random_state=42)\n",
    "    train_y, valid_y = train_test_split(masks, test_size=test_size, random_state=42)\n",
    "\n",
    "    train_x, test_x = train_test_split(train_x, test_size=test_size, random_state=42)\n",
    "    train_y, test_y = train_test_split(train_y, test_size=test_size, random_state=42)\n",
    "\n",
    "    return (train_x, train_y), (valid_x, valid_y), (test_x, test_y)\n",
    "\n",
    "def read_image(path):\n",
    "    path = path.decode()\n",
    "    x = cv2.imread(path, cv2.IMREAD_COLOR)  ## (H, W, 3)\n",
    "    x = cv2.resize(x, (W, H))\n",
    "    x = x/255.0\n",
    "    x = x.astype(np.float32)\n",
    "    return x                                ## (256, 256, 3)\n",
    "\n",
    "def read_mask(path):\n",
    "    path = path.decode()\n",
    "    x = cv2.imread(path, cv2.IMREAD_GRAYSCALE)  ## (H, W)\n",
    "    x = cv2.resize(x, (W, H))\n",
    "    x = x/255.0\n",
    "    x = x.astype(np.float32)                    ## (256, 256)\n",
    "    x = np.expand_dims(x, axis=-1)              ## (256, 256, 1)\n",
    "    return x\n",
    "\n",
    "def tf_parse(x, y):\n",
    "    def _parse(x, y):\n",
    "        x = read_image(x)\n",
    "        y = read_mask(y)\n",
    "        return x, y\n",
    "\n",
    "    x, y = tf.numpy_function(_parse, [x, y], [tf.float32, tf.float32])\n",
    "    x.set_shape([H, W, 3])\n",
    "    y.set_shape([H, W, 1])\n",
    "    return x, y\n",
    "\n",
    "def tf_dataset(X, Y, batch):\n",
    "    dataset = tf.data.Dataset.from_tensor_slices((X, Y))\n",
    "    dataset = dataset.map(tf_parse)\n",
    "    dataset = dataset.batch(batch)\n",
    "    dataset = dataset.prefetch(10)\n",
    "    return dataset\n",
    "\n",
    "if __name__ == \"__main__\":\n",
    "    \"\"\" Seeding \"\"\"\n",
    "    np.random.seed(42)\n",
    "    tf.random.set_seed(42)\n",
    "\n",
    "    \"\"\" Folder for saving data \"\"\"\n",
    "    create_dir(\"filesmnet\")\n",
    "\n",
    "    \"\"\" Hyperparameters \"\"\"\n",
    "    batch_size = 1\n",
    "    lr = 1e-4 ## (0.0001)\n",
    "    num_epoch = 1\n",
    "    model_path = \"filesmnet/model.h5\"\n",
    "    csv_path = \"filesmnet/data.csv\"\n",
    "\n",
    "    \"\"\" Dataset : 60/20/20 \"\"\"\n",
    "    dataset_path = os.getcwd()\n",
    "    (train_x, train_y), (valid_x, valid_y), (test_x, test_y) = load_data(dataset_path)\n",
    "\n",
    "    print(f\"Train: {len(train_x)} - {len(train_y)}\")\n",
    "    print(f\"Valid: {len(valid_x)} - {len(valid_y)}\")\n",
    "    print(f\"Test: {len(test_x)} - {len(test_y)}\")\n",
    "\n",
    "    train_dataset = tf_dataset(train_x, train_y, batch_size)\n",
    "    valid_dataset = tf_dataset(valid_x, valid_y, batch_size)\n",
    "\n",
    "    train_steps = len(train_x)//batch_size\n",
    "    valid_steps = len(valid_x)//batch_size\n",
    "\n",
    "    if len(train_x) % batch_size != 0:\n",
    "        train_steps += 1\n",
    "\n",
    "    if len(valid_x) % batch_size != 0:\n",
    "        valid_steps += 1\n",
    "\n",
    "    \"\"\" Model \"\"\"\n",
    "    model = mnet((H, W, 3))\n",
    "    metrics = [dice_coef, iou, Recall(), Precision()]\n",
    "    model.compile(loss=\"binary_crossentropy\", optimizer=Adam(lr), metrics=metrics)\n",
    "    model.summary()\n",
    "\n",
    "    callbacks = [\n",
    "        ModelCheckpoint(model_path, verbose=1, save_best_only=True),\n",
    "        ReduceLROnPlateau(monitor='val_loss', factor=0.1, patience=5, min_lr=1e-7, verbose=1),\n",
    "        CSVLogger(csv_path),\n",
    "        TensorBoard(),\n",
    "        EarlyStopping(monitor='val_loss', patience=20, restore_best_weights=False)\n",
    "    ]\n",
    "\n",
    "    model.fit(\n",
    "        train_dataset,\n",
    "        epochs=num_epoch,\n",
    "        validation_data=valid_dataset,\n",
    "        steps_per_epoch=train_steps,\n",
    "        validation_steps=valid_steps,\n",
    "        callbacks=callbacks\n",
    "    )"
   ]
  },
  {
   "cell_type": "code",
   "execution_count": 4,
   "id": "0926d562",
   "metadata": {},
   "outputs": [
    {
     "name": "stderr",
     "output_type": "stream",
     "text": [
      "\r",
      "  0%|                                                                                          | 0/300 [00:00<?, ?it/s]"
     ]
    },
    {
     "name": "stdout",
     "output_type": "stream",
     "text": [
      "1/1 [==============================] - 1s 771ms/step\n"
     ]
    },
    {
     "name": "stderr",
     "output_type": "stream",
     "text": [
      "\r",
      "  0%|▎                                                                                 | 1/300 [00:00<04:20,  1.15it/s]"
     ]
    },
    {
     "name": "stdout",
     "output_type": "stream",
     "text": [
      "resultsmnet/images\\cate6-00093.jpg\n",
      "1/1 [==============================] - 1s 503ms/step\n"
     ]
    },
    {
     "name": "stderr",
     "output_type": "stream",
     "text": [
      "\r",
      "  1%|▌                                                                                 | 2/300 [00:01<03:32,  1.40it/s]"
     ]
    },
    {
     "name": "stdout",
     "output_type": "stream",
     "text": [
      "resultsmnet/images\\cate2-00058.jpg\n",
      "1/1 [==============================] - 1s 500ms/step\n"
     ]
    },
    {
     "name": "stderr",
     "output_type": "stream",
     "text": [
      "\r",
      "  1%|▊                                                                                 | 3/300 [00:02<03:17,  1.51it/s]"
     ]
    },
    {
     "name": "stdout",
     "output_type": "stream",
     "text": [
      "resultsmnet/images\\cate3-00004.jpg\n",
      "1/1 [==============================] - 1s 511ms/step\n"
     ]
    },
    {
     "name": "stderr",
     "output_type": "stream",
     "text": [
      "\r",
      "  1%|█                                                                                 | 4/300 [00:02<03:10,  1.55it/s]"
     ]
    },
    {
     "name": "stdout",
     "output_type": "stream",
     "text": [
      "resultsmnet/images\\cate2-00147.jpg\n",
      "1/1 [==============================] - 1s 503ms/step\n"
     ]
    },
    {
     "name": "stderr",
     "output_type": "stream",
     "text": [
      "\r",
      "  2%|█▎                                                                                | 5/300 [00:03<03:06,  1.59it/s]"
     ]
    },
    {
     "name": "stdout",
     "output_type": "stream",
     "text": [
      "resultsmnet/images\\cate5-00027.jpg\n",
      "1/1 [==============================] - 1s 508ms/step\n"
     ]
    },
    {
     "name": "stderr",
     "output_type": "stream",
     "text": [
      "\r",
      "  2%|█▋                                                                                | 6/300 [00:03<03:03,  1.60it/s]"
     ]
    },
    {
     "name": "stdout",
     "output_type": "stream",
     "text": [
      "resultsmnet/images\\cate2-00014.jpg\n",
      "1/1 [==============================] - 1s 518ms/step\n"
     ]
    },
    {
     "name": "stderr",
     "output_type": "stream",
     "text": [
      "\r",
      "  2%|█▉                                                                                | 7/300 [00:04<03:02,  1.61it/s]"
     ]
    },
    {
     "name": "stdout",
     "output_type": "stream",
     "text": [
      "resultsmnet/images\\cate2-00040.jpg\n",
      "1/1 [==============================] - 1s 515ms/step\n"
     ]
    },
    {
     "name": "stderr",
     "output_type": "stream",
     "text": [
      "\r",
      "  3%|██▏                                                                               | 8/300 [00:05<03:01,  1.61it/s]"
     ]
    },
    {
     "name": "stdout",
     "output_type": "stream",
     "text": [
      "resultsmnet/images\\cate8-00359.jpg\n",
      "1/1 [==============================] - 1s 505ms/step\n"
     ]
    },
    {
     "name": "stderr",
     "output_type": "stream",
     "text": [
      "\r",
      "  3%|██▍                                                                               | 9/300 [00:05<03:00,  1.61it/s]"
     ]
    },
    {
     "name": "stdout",
     "output_type": "stream",
     "text": [
      "resultsmnet/images\\cate6-00055.jpg\n",
      "1/1 [==============================] - 1s 508ms/step\n"
     ]
    },
    {
     "name": "stderr",
     "output_type": "stream",
     "text": [
      "\r",
      "  3%|██▋                                                                              | 10/300 [00:06<02:59,  1.62it/s]"
     ]
    },
    {
     "name": "stdout",
     "output_type": "stream",
     "text": [
      "resultsmnet/images\\cate5-00092.jpg\n",
      "1/1 [==============================] - 1s 505ms/step\n"
     ]
    },
    {
     "name": "stderr",
     "output_type": "stream",
     "text": [
      "\r",
      "  4%|██▉                                                                              | 11/300 [00:06<02:58,  1.62it/s]"
     ]
    },
    {
     "name": "stdout",
     "output_type": "stream",
     "text": [
      "resultsmnet/images\\cate6-00154.jpg\n",
      "1/1 [==============================] - 1s 519ms/step\n"
     ]
    },
    {
     "name": "stderr",
     "output_type": "stream",
     "text": [
      "\r",
      "  4%|███▏                                                                             | 12/300 [00:07<02:58,  1.62it/s]"
     ]
    },
    {
     "name": "stdout",
     "output_type": "stream",
     "text": [
      "resultsmnet/images\\cate8-00109.jpg\n",
      "1/1 [==============================] - 1s 512ms/step\n"
     ]
    },
    {
     "name": "stderr",
     "output_type": "stream",
     "text": [
      "\r",
      "  4%|███▌                                                                             | 13/300 [00:08<02:56,  1.62it/s]"
     ]
    },
    {
     "name": "stdout",
     "output_type": "stream",
     "text": [
      "resultsmnet/images\\cate8-00199.jpg\n",
      "1/1 [==============================] - 1s 505ms/step\n"
     ]
    },
    {
     "name": "stderr",
     "output_type": "stream",
     "text": [
      "\r",
      "  5%|███▊                                                                             | 14/300 [00:08<02:55,  1.63it/s]"
     ]
    },
    {
     "name": "stdout",
     "output_type": "stream",
     "text": [
      "resultsmnet/images\\cate7-00089.jpg\n",
      "1/1 [==============================] - 1s 508ms/step\n"
     ]
    },
    {
     "name": "stderr",
     "output_type": "stream",
     "text": [
      "\r",
      "  5%|████                                                                             | 15/300 [00:09<02:54,  1.63it/s]"
     ]
    },
    {
     "name": "stdout",
     "output_type": "stream",
     "text": [
      "resultsmnet/images\\cate8-00421.jpg\n",
      "1/1 [==============================] - 1s 516ms/step\n"
     ]
    },
    {
     "name": "stderr",
     "output_type": "stream",
     "text": [
      "\r",
      "  5%|████▎                                                                            | 16/300 [00:10<02:53,  1.63it/s]"
     ]
    },
    {
     "name": "stdout",
     "output_type": "stream",
     "text": [
      "resultsmnet/images\\cate10-00057.jpg\n",
      "1/1 [==============================] - 1s 512ms/step\n"
     ]
    },
    {
     "name": "stderr",
     "output_type": "stream",
     "text": [
      "\r",
      "  6%|████▌                                                                            | 17/300 [00:10<02:52,  1.64it/s]"
     ]
    },
    {
     "name": "stdout",
     "output_type": "stream",
     "text": [
      "resultsmnet/images\\cate2-00068.jpg\n",
      "1/1 [==============================] - 1s 506ms/step\n"
     ]
    },
    {
     "name": "stderr",
     "output_type": "stream",
     "text": [
      "\r",
      "  6%|████▊                                                                            | 18/300 [00:11<02:51,  1.64it/s]"
     ]
    },
    {
     "name": "stdout",
     "output_type": "stream",
     "text": [
      "resultsmnet/images\\cate8-00192.jpg\n",
      "1/1 [==============================] - 1s 535ms/step\n"
     ]
    },
    {
     "name": "stderr",
     "output_type": "stream",
     "text": [
      "\r",
      "  6%|█████▏                                                                           | 19/300 [00:11<02:53,  1.62it/s]"
     ]
    },
    {
     "name": "stdout",
     "output_type": "stream",
     "text": [
      "resultsmnet/images\\cate2-00117.jpg\n",
      "1/1 [==============================] - 1s 513ms/step\n"
     ]
    },
    {
     "name": "stderr",
     "output_type": "stream",
     "text": [
      "\r",
      "  7%|█████▍                                                                           | 20/300 [00:12<02:51,  1.63it/s]"
     ]
    },
    {
     "name": "stdout",
     "output_type": "stream",
     "text": [
      "resultsmnet/images\\cate9-00013.jpg\n",
      "1/1 [==============================] - 1s 512ms/step\n"
     ]
    },
    {
     "name": "stderr",
     "output_type": "stream",
     "text": [
      "\r",
      "  7%|█████▋                                                                           | 21/300 [00:13<02:50,  1.64it/s]"
     ]
    },
    {
     "name": "stdout",
     "output_type": "stream",
     "text": [
      "resultsmnet/images\\cate6-00157.jpg\n",
      "1/1 [==============================] - 1s 518ms/step\n"
     ]
    },
    {
     "name": "stderr",
     "output_type": "stream",
     "text": [
      "\r",
      "  7%|█████▉                                                                           | 22/300 [00:13<02:51,  1.63it/s]"
     ]
    },
    {
     "name": "stdout",
     "output_type": "stream",
     "text": [
      "resultsmnet/images\\cate8-00333.jpg\n",
      "1/1 [==============================] - 1s 509ms/step\n"
     ]
    },
    {
     "name": "stderr",
     "output_type": "stream",
     "text": [
      "\r",
      "  8%|██████▏                                                                          | 23/300 [00:14<02:49,  1.63it/s]"
     ]
    },
    {
     "name": "stdout",
     "output_type": "stream",
     "text": [
      "resultsmnet/images\\cate10-00113.jpg\n",
      "1/1 [==============================] - 1s 517ms/step\n"
     ]
    },
    {
     "name": "stderr",
     "output_type": "stream",
     "text": [
      "\r",
      "  8%|██████▍                                                                          | 24/300 [00:14<02:49,  1.63it/s]"
     ]
    },
    {
     "name": "stdout",
     "output_type": "stream",
     "text": [
      "resultsmnet/images\\cate5-00038.jpg\n",
      "1/1 [==============================] - 1s 511ms/step\n"
     ]
    },
    {
     "name": "stderr",
     "output_type": "stream",
     "text": [
      "\r",
      "  8%|██████▊                                                                          | 25/300 [00:15<02:48,  1.63it/s]"
     ]
    },
    {
     "name": "stdout",
     "output_type": "stream",
     "text": [
      "resultsmnet/images\\cate8-00341.jpg\n",
      "1/1 [==============================] - 1s 517ms/step\n"
     ]
    },
    {
     "name": "stderr",
     "output_type": "stream",
     "text": [
      "\r",
      "  9%|███████                                                                          | 26/300 [00:16<02:47,  1.64it/s]"
     ]
    },
    {
     "name": "stdout",
     "output_type": "stream",
     "text": [
      "resultsmnet/images\\cate2-00138.jpg\n",
      "1/1 [==============================] - 1s 510ms/step\n"
     ]
    },
    {
     "name": "stderr",
     "output_type": "stream",
     "text": [
      "\r",
      "  9%|███████▎                                                                         | 27/300 [00:16<02:46,  1.64it/s]"
     ]
    },
    {
     "name": "stdout",
     "output_type": "stream",
     "text": [
      "resultsmnet/images\\cate1-00042.jpg\n",
      "1/1 [==============================] - 1s 525ms/step\n"
     ]
    },
    {
     "name": "stderr",
     "output_type": "stream",
     "text": [
      "\r",
      "  9%|███████▌                                                                         | 28/300 [00:17<02:46,  1.64it/s]"
     ]
    },
    {
     "name": "stdout",
     "output_type": "stream",
     "text": [
      "resultsmnet/images\\cate8-00426.jpg\n",
      "1/1 [==============================] - 1s 508ms/step\n"
     ]
    },
    {
     "name": "stderr",
     "output_type": "stream",
     "text": [
      "\r",
      " 10%|███████▊                                                                         | 29/300 [00:18<02:45,  1.64it/s]"
     ]
    },
    {
     "name": "stdout",
     "output_type": "stream",
     "text": [
      "resultsmnet/images\\cate2-00028.jpg\n",
      "1/1 [==============================] - 1s 505ms/step\n"
     ]
    },
    {
     "name": "stderr",
     "output_type": "stream",
     "text": [
      "\r",
      " 10%|████████                                                                         | 30/300 [00:18<02:43,  1.65it/s]"
     ]
    },
    {
     "name": "stdout",
     "output_type": "stream",
     "text": [
      "resultsmnet/images\\cate2-00160.jpg\n",
      "1/1 [==============================] - 1s 512ms/step\n"
     ]
    },
    {
     "name": "stderr",
     "output_type": "stream",
     "text": [
      "\r",
      " 10%|████████▎                                                                        | 31/300 [00:19<02:42,  1.65it/s]"
     ]
    },
    {
     "name": "stdout",
     "output_type": "stream",
     "text": [
      "resultsmnet/images\\cate8-00277.jpg\n",
      "1/1 [==============================] - 1s 519ms/step\n"
     ]
    },
    {
     "name": "stderr",
     "output_type": "stream",
     "text": [
      "\r",
      " 11%|████████▋                                                                        | 32/300 [00:19<02:42,  1.65it/s]"
     ]
    },
    {
     "name": "stdout",
     "output_type": "stream",
     "text": [
      "resultsmnet/images\\cate4-00065.jpg\n",
      "1/1 [==============================] - 1s 510ms/step\n"
     ]
    },
    {
     "name": "stderr",
     "output_type": "stream",
     "text": [
      "\r",
      " 11%|████████▉                                                                        | 33/300 [00:20<02:41,  1.65it/s]"
     ]
    },
    {
     "name": "stdout",
     "output_type": "stream",
     "text": [
      "resultsmnet/images\\cate1-00069.jpg\n",
      "1/1 [==============================] - 1s 505ms/step\n"
     ]
    },
    {
     "name": "stderr",
     "output_type": "stream",
     "text": [
      "\r",
      " 11%|█████████▏                                                                       | 34/300 [00:21<02:40,  1.65it/s]"
     ]
    },
    {
     "name": "stdout",
     "output_type": "stream",
     "text": [
      "resultsmnet/images\\cate1-00037.jpg\n",
      "1/1 [==============================] - 1s 511ms/step\n"
     ]
    },
    {
     "name": "stderr",
     "output_type": "stream",
     "text": [
      "\r",
      " 12%|█████████▍                                                                       | 35/300 [00:21<02:39,  1.66it/s]"
     ]
    },
    {
     "name": "stdout",
     "output_type": "stream",
     "text": [
      "resultsmnet/images\\cate8-00027.jpg\n",
      "1/1 [==============================] - 1s 504ms/step\n"
     ]
    },
    {
     "name": "stderr",
     "output_type": "stream",
     "text": [
      "\r",
      " 12%|█████████▋                                                                       | 36/300 [00:22<02:39,  1.66it/s]"
     ]
    },
    {
     "name": "stdout",
     "output_type": "stream",
     "text": [
      "resultsmnet/images\\cate4-00052.jpg\n",
      "1/1 [==============================] - 1s 503ms/step\n"
     ]
    },
    {
     "name": "stderr",
     "output_type": "stream",
     "text": [
      "\r",
      " 12%|█████████▉                                                                       | 37/300 [00:22<02:38,  1.66it/s]"
     ]
    },
    {
     "name": "stdout",
     "output_type": "stream",
     "text": [
      "resultsmnet/images\\cate8-00152.jpg\n",
      "1/1 [==============================] - 1s 506ms/step\n"
     ]
    },
    {
     "name": "stderr",
     "output_type": "stream",
     "text": [
      "\r",
      " 13%|██████████▎                                                                      | 38/300 [00:23<02:37,  1.66it/s]"
     ]
    },
    {
     "name": "stdout",
     "output_type": "stream",
     "text": [
      "resultsmnet/images\\cate10-00083.jpg\n",
      "1/1 [==============================] - 1s 503ms/step\n"
     ]
    },
    {
     "name": "stderr",
     "output_type": "stream",
     "text": [
      "\r",
      " 13%|██████████▌                                                                      | 39/300 [00:24<02:37,  1.66it/s]"
     ]
    },
    {
     "name": "stdout",
     "output_type": "stream",
     "text": [
      "resultsmnet/images\\cate8-00220.jpg\n",
      "1/1 [==============================] - 0s 498ms/step\n"
     ]
    },
    {
     "name": "stderr",
     "output_type": "stream",
     "text": [
      "\r",
      " 13%|██████████▊                                                                      | 40/300 [00:24<02:36,  1.66it/s]"
     ]
    },
    {
     "name": "stdout",
     "output_type": "stream",
     "text": [
      "resultsmnet/images\\cate10-00095.jpg\n",
      "1/1 [==============================] - 1s 502ms/step\n"
     ]
    },
    {
     "name": "stderr",
     "output_type": "stream",
     "text": [
      "\r",
      " 14%|███████████                                                                      | 41/300 [00:25<02:35,  1.66it/s]"
     ]
    },
    {
     "name": "stdout",
     "output_type": "stream",
     "text": [
      "resultsmnet/images\\cate8-00379.jpg\n",
      "1/1 [==============================] - 1s 511ms/step\n"
     ]
    },
    {
     "name": "stderr",
     "output_type": "stream",
     "text": [
      "\r",
      " 14%|███████████▎                                                                     | 42/300 [00:25<02:36,  1.65it/s]"
     ]
    },
    {
     "name": "stdout",
     "output_type": "stream",
     "text": [
      "resultsmnet/images\\cate2-00183.jpg\n",
      "1/1 [==============================] - 1s 504ms/step\n"
     ]
    },
    {
     "name": "stderr",
     "output_type": "stream",
     "text": [
      "\r",
      " 14%|███████████▌                                                                     | 43/300 [00:26<02:35,  1.65it/s]"
     ]
    },
    {
     "name": "stdout",
     "output_type": "stream",
     "text": [
      "resultsmnet/images\\cate8-00079.jpg\n",
      "1/1 [==============================] - 1s 500ms/step\n"
     ]
    },
    {
     "name": "stderr",
     "output_type": "stream",
     "text": [
      "\r",
      " 15%|███████████▉                                                                     | 44/300 [00:27<02:34,  1.66it/s]"
     ]
    },
    {
     "name": "stdout",
     "output_type": "stream",
     "text": [
      "resultsmnet/images\\cate8-00170.jpg\n",
      "1/1 [==============================] - 1s 517ms/step\n"
     ]
    },
    {
     "name": "stderr",
     "output_type": "stream",
     "text": [
      "\r",
      " 15%|████████████▏                                                                    | 45/300 [00:27<02:34,  1.65it/s]"
     ]
    },
    {
     "name": "stdout",
     "output_type": "stream",
     "text": [
      "resultsmnet/images\\cate8-00420.jpg\n",
      "1/1 [==============================] - 1s 512ms/step\n"
     ]
    },
    {
     "name": "stderr",
     "output_type": "stream",
     "text": [
      "\r",
      " 15%|████████████▍                                                                    | 46/300 [00:28<02:33,  1.65it/s]"
     ]
    },
    {
     "name": "stdout",
     "output_type": "stream",
     "text": [
      "resultsmnet/images\\cate5-00068.jpg\n",
      "1/1 [==============================] - 1s 500ms/step\n"
     ]
    },
    {
     "name": "stderr",
     "output_type": "stream",
     "text": [
      "\r",
      " 16%|████████████▋                                                                    | 47/300 [00:28<02:33,  1.65it/s]"
     ]
    },
    {
     "name": "stdout",
     "output_type": "stream",
     "text": [
      "resultsmnet/images\\cate2-00124.jpg\n",
      "1/1 [==============================] - 1s 514ms/step\n"
     ]
    },
    {
     "name": "stderr",
     "output_type": "stream",
     "text": [
      "\r",
      " 16%|████████████▉                                                                    | 48/300 [00:29<02:32,  1.65it/s]"
     ]
    },
    {
     "name": "stdout",
     "output_type": "stream",
     "text": [
      "resultsmnet/images\\cate6-00129.jpg\n",
      "1/1 [==============================] - 1s 504ms/step\n"
     ]
    },
    {
     "name": "stderr",
     "output_type": "stream",
     "text": [
      "\r",
      " 16%|█████████████▏                                                                   | 49/300 [00:30<02:32,  1.65it/s]"
     ]
    },
    {
     "name": "stdout",
     "output_type": "stream",
     "text": [
      "resultsmnet/images\\cate8-00179.jpg\n",
      "1/1 [==============================] - 0s 498ms/step\n"
     ]
    },
    {
     "name": "stderr",
     "output_type": "stream",
     "text": [
      "\r",
      " 17%|█████████████▌                                                                   | 50/300 [00:30<02:31,  1.65it/s]"
     ]
    },
    {
     "name": "stdout",
     "output_type": "stream",
     "text": [
      "resultsmnet/images\\cate4-00115.jpg\n",
      "1/1 [==============================] - 1s 501ms/step\n"
     ]
    },
    {
     "name": "stderr",
     "output_type": "stream",
     "text": [
      "\r",
      " 17%|█████████████▊                                                                   | 51/300 [00:31<02:30,  1.66it/s]"
     ]
    },
    {
     "name": "stdout",
     "output_type": "stream",
     "text": [
      "resultsmnet/images\\cate6-00048.jpg\n",
      "1/1 [==============================] - 1s 513ms/step\n"
     ]
    },
    {
     "name": "stderr",
     "output_type": "stream",
     "text": [
      "\r",
      " 17%|██████████████                                                                   | 52/300 [00:31<02:30,  1.65it/s]"
     ]
    },
    {
     "name": "stdout",
     "output_type": "stream",
     "text": [
      "resultsmnet/images\\cate4-00056.jpg\n",
      "1/1 [==============================] - 0s 493ms/step\n"
     ]
    },
    {
     "name": "stderr",
     "output_type": "stream",
     "text": [
      "\r",
      " 18%|██████████████▎                                                                  | 53/300 [00:32<02:28,  1.66it/s]"
     ]
    },
    {
     "name": "stdout",
     "output_type": "stream",
     "text": [
      "resultsmnet/images\\cate5-00032.jpg\n",
      "1/1 [==============================] - 1s 511ms/step\n"
     ]
    },
    {
     "name": "stderr",
     "output_type": "stream",
     "text": [
      "\r",
      " 18%|██████████████▌                                                                  | 54/300 [00:33<02:27,  1.66it/s]"
     ]
    },
    {
     "name": "stdout",
     "output_type": "stream",
     "text": [
      "resultsmnet/images\\cate5-00021.jpg\n",
      "1/1 [==============================] - 1s 514ms/step\n"
     ]
    },
    {
     "name": "stderr",
     "output_type": "stream",
     "text": [
      "\r",
      " 18%|██████████████▊                                                                  | 55/300 [00:33<02:27,  1.66it/s]"
     ]
    },
    {
     "name": "stdout",
     "output_type": "stream",
     "text": [
      "resultsmnet/images\\cate4-00003.jpg\n",
      "1/1 [==============================] - 1s 508ms/step\n"
     ]
    },
    {
     "name": "stderr",
     "output_type": "stream",
     "text": [
      "\r",
      " 19%|███████████████                                                                  | 56/300 [00:34<02:27,  1.66it/s]"
     ]
    },
    {
     "name": "stdout",
     "output_type": "stream",
     "text": [
      "resultsmnet/images\\cate2-00024.jpg\n",
      "1/1 [==============================] - 1s 505ms/step\n"
     ]
    },
    {
     "name": "stderr",
     "output_type": "stream",
     "text": [
      "\r",
      " 19%|███████████████▍                                                                 | 57/300 [00:34<02:26,  1.66it/s]"
     ]
    },
    {
     "name": "stdout",
     "output_type": "stream",
     "text": [
      "resultsmnet/images\\cate7-00099.jpg\n",
      "1/1 [==============================] - 1s 512ms/step\n"
     ]
    },
    {
     "name": "stderr",
     "output_type": "stream",
     "text": [
      "\r",
      " 19%|███████████████▋                                                                 | 58/300 [00:35<02:25,  1.66it/s]"
     ]
    },
    {
     "name": "stdout",
     "output_type": "stream",
     "text": [
      "resultsmnet/images\\cate4-00007.jpg\n",
      "1/1 [==============================] - 1s 503ms/step\n"
     ]
    },
    {
     "name": "stderr",
     "output_type": "stream",
     "text": [
      "\r",
      " 20%|███████████████▉                                                                 | 59/300 [00:36<02:25,  1.66it/s]"
     ]
    },
    {
     "name": "stdout",
     "output_type": "stream",
     "text": [
      "resultsmnet/images\\cate8-00411.jpg\n",
      "1/1 [==============================] - 1s 511ms/step\n"
     ]
    },
    {
     "name": "stderr",
     "output_type": "stream",
     "text": [
      "\r",
      " 20%|████████████████▏                                                                | 60/300 [00:36<02:24,  1.66it/s]"
     ]
    },
    {
     "name": "stdout",
     "output_type": "stream",
     "text": [
      "resultsmnet/images\\cate6-00096.jpg\n",
      "1/1 [==============================] - 1s 509ms/step\n"
     ]
    },
    {
     "name": "stderr",
     "output_type": "stream",
     "text": [
      "\r",
      " 20%|████████████████▍                                                                | 61/300 [00:37<02:24,  1.66it/s]"
     ]
    },
    {
     "name": "stdout",
     "output_type": "stream",
     "text": [
      "resultsmnet/images\\cate2-00189.jpg\n",
      "1/1 [==============================] - 1s 507ms/step\n"
     ]
    },
    {
     "name": "stderr",
     "output_type": "stream",
     "text": [
      "\r",
      " 21%|████████████████▋                                                                | 62/300 [00:37<02:23,  1.65it/s]"
     ]
    },
    {
     "name": "stdout",
     "output_type": "stream",
     "text": [
      "resultsmnet/images\\cate8-00071.jpg\n",
      "1/1 [==============================] - 1s 502ms/step\n"
     ]
    },
    {
     "name": "stderr",
     "output_type": "stream",
     "text": [
      "\r",
      " 21%|█████████████████                                                                | 63/300 [00:38<02:23,  1.66it/s]"
     ]
    },
    {
     "name": "stdout",
     "output_type": "stream",
     "text": [
      "resultsmnet/images\\cate4-00025.jpg\n",
      "1/1 [==============================] - 1s 501ms/step\n"
     ]
    },
    {
     "name": "stderr",
     "output_type": "stream",
     "text": [
      "\r",
      " 21%|█████████████████▎                                                               | 64/300 [00:39<02:22,  1.66it/s]"
     ]
    },
    {
     "name": "stdout",
     "output_type": "stream",
     "text": [
      "resultsmnet/images\\cate8-00180.jpg\n",
      "1/1 [==============================] - 1s 502ms/step\n"
     ]
    },
    {
     "name": "stderr",
     "output_type": "stream",
     "text": [
      "\r",
      " 22%|█████████████████▌                                                               | 65/300 [00:39<02:21,  1.66it/s]"
     ]
    },
    {
     "name": "stdout",
     "output_type": "stream",
     "text": [
      "resultsmnet/images\\cate4-00100.jpg\n",
      "1/1 [==============================] - 1s 501ms/step\n"
     ]
    },
    {
     "name": "stderr",
     "output_type": "stream",
     "text": [
      "\r",
      " 22%|█████████████████▊                                                               | 66/300 [00:40<02:21,  1.66it/s]"
     ]
    },
    {
     "name": "stdout",
     "output_type": "stream",
     "text": [
      "resultsmnet/images\\cate2-00213.jpg\n",
      "1/1 [==============================] - 0s 493ms/step\n"
     ]
    },
    {
     "name": "stderr",
     "output_type": "stream",
     "text": [
      "\r",
      " 22%|██████████████████                                                               | 67/300 [00:40<02:20,  1.66it/s]"
     ]
    },
    {
     "name": "stdout",
     "output_type": "stream",
     "text": [
      "resultsmnet/images\\cate4-00099.jpg\n",
      "1/1 [==============================] - 1s 512ms/step\n"
     ]
    },
    {
     "name": "stderr",
     "output_type": "stream",
     "text": [
      "\r",
      " 23%|██████████████████▎                                                              | 68/300 [00:41<02:19,  1.66it/s]"
     ]
    },
    {
     "name": "stdout",
     "output_type": "stream",
     "text": [
      "resultsmnet/images\\cate6-00034.jpg\n",
      "1/1 [==============================] - 1s 505ms/step\n"
     ]
    },
    {
     "name": "stderr",
     "output_type": "stream",
     "text": [
      "\r",
      " 23%|██████████████████▋                                                              | 69/300 [00:42<02:19,  1.65it/s]"
     ]
    },
    {
     "name": "stdout",
     "output_type": "stream",
     "text": [
      "resultsmnet/images\\cate1-00008.jpg\n",
      "1/1 [==============================] - 1s 501ms/step\n"
     ]
    },
    {
     "name": "stderr",
     "output_type": "stream",
     "text": [
      "\r",
      " 23%|██████████████████▉                                                              | 70/300 [00:42<02:18,  1.66it/s]"
     ]
    },
    {
     "name": "stdout",
     "output_type": "stream",
     "text": [
      "resultsmnet/images\\cate5-00052.jpg\n",
      "1/1 [==============================] - 1s 507ms/step\n"
     ]
    },
    {
     "name": "stderr",
     "output_type": "stream",
     "text": [
      "\r",
      " 24%|███████████████████▏                                                             | 71/300 [00:43<02:17,  1.66it/s]"
     ]
    },
    {
     "name": "stdout",
     "output_type": "stream",
     "text": [
      "resultsmnet/images\\cate10-00111.jpg\n",
      "1/1 [==============================] - 1s 503ms/step\n"
     ]
    },
    {
     "name": "stderr",
     "output_type": "stream",
     "text": [
      "\r",
      " 24%|███████████████████▍                                                             | 72/300 [00:43<02:17,  1.66it/s]"
     ]
    },
    {
     "name": "stdout",
     "output_type": "stream",
     "text": [
      "resultsmnet/images\\cate6-00015.jpg\n",
      "1/1 [==============================] - 0s 497ms/step\n"
     ]
    },
    {
     "name": "stderr",
     "output_type": "stream",
     "text": [
      "\r",
      " 24%|███████████████████▋                                                             | 73/300 [00:44<02:16,  1.66it/s]"
     ]
    },
    {
     "name": "stdout",
     "output_type": "stream",
     "text": [
      "resultsmnet/images\\cate4-00014.jpg\n",
      "1/1 [==============================] - 1s 502ms/step\n"
     ]
    },
    {
     "name": "stderr",
     "output_type": "stream",
     "text": [
      "\r",
      " 25%|███████████████████▉                                                             | 74/300 [00:45<02:15,  1.66it/s]"
     ]
    },
    {
     "name": "stdout",
     "output_type": "stream",
     "text": [
      "resultsmnet/images\\cate7-00041.jpg\n",
      "1/1 [==============================] - 1s 502ms/step\n"
     ]
    },
    {
     "name": "stderr",
     "output_type": "stream",
     "text": [
      "\r",
      " 25%|████████████████████▎                                                            | 75/300 [00:45<02:15,  1.66it/s]"
     ]
    },
    {
     "name": "stdout",
     "output_type": "stream",
     "text": [
      "resultsmnet/images\\cate8-00439.jpg\n",
      "1/1 [==============================] - 0s 500ms/step\n"
     ]
    },
    {
     "name": "stderr",
     "output_type": "stream",
     "text": [
      "\r",
      " 25%|████████████████████▌                                                            | 76/300 [00:46<02:14,  1.66it/s]"
     ]
    },
    {
     "name": "stdout",
     "output_type": "stream",
     "text": [
      "resultsmnet/images\\cate10-00033.jpg\n",
      "1/1 [==============================] - 0s 498ms/step\n"
     ]
    },
    {
     "name": "stderr",
     "output_type": "stream",
     "text": [
      "\r",
      " 26%|████████████████████▊                                                            | 77/300 [00:46<02:13,  1.66it/s]"
     ]
    },
    {
     "name": "stdout",
     "output_type": "stream",
     "text": [
      "resultsmnet/images\\cate6-00040.jpg\n",
      "1/1 [==============================] - 1s 518ms/step\n"
     ]
    },
    {
     "name": "stderr",
     "output_type": "stream",
     "text": [
      "\r",
      " 26%|█████████████████████                                                            | 78/300 [00:47<02:13,  1.66it/s]"
     ]
    },
    {
     "name": "stdout",
     "output_type": "stream",
     "text": [
      "resultsmnet/images\\cate5-00025.jpg\n",
      "1/1 [==============================] - 1s 510ms/step\n"
     ]
    },
    {
     "name": "stderr",
     "output_type": "stream",
     "text": [
      "\r",
      " 26%|█████████████████████▎                                                           | 79/300 [00:48<02:13,  1.66it/s]"
     ]
    },
    {
     "name": "stdout",
     "output_type": "stream",
     "text": [
      "resultsmnet/images\\cate4-00134.jpg\n",
      "1/1 [==============================] - 1s 507ms/step\n"
     ]
    },
    {
     "name": "stderr",
     "output_type": "stream",
     "text": [
      "\r",
      " 27%|█████████████████████▌                                                           | 80/300 [00:48<02:12,  1.66it/s]"
     ]
    },
    {
     "name": "stdout",
     "output_type": "stream",
     "text": [
      "resultsmnet/images\\cate5-00061.jpg\n",
      "1/1 [==============================] - 0s 493ms/step\n"
     ]
    },
    {
     "name": "stderr",
     "output_type": "stream",
     "text": [
      "\r",
      " 27%|█████████████████████▊                                                           | 81/300 [00:49<02:13,  1.64it/s]"
     ]
    },
    {
     "name": "stdout",
     "output_type": "stream",
     "text": [
      "resultsmnet/images\\cate5-00107.jpg\n",
      "1/1 [==============================] - 1s 513ms/step\n"
     ]
    },
    {
     "name": "stderr",
     "output_type": "stream",
     "text": [
      "\r",
      " 27%|██████████████████████▏                                                          | 82/300 [00:49<02:12,  1.64it/s]"
     ]
    },
    {
     "name": "stdout",
     "output_type": "stream",
     "text": [
      "resultsmnet/images\\cate8-00292.jpg\n",
      "1/1 [==============================] - 0s 496ms/step\n"
     ]
    },
    {
     "name": "stderr",
     "output_type": "stream",
     "text": [
      "\r",
      " 28%|██████████████████████▍                                                          | 83/300 [00:50<02:11,  1.65it/s]"
     ]
    },
    {
     "name": "stdout",
     "output_type": "stream",
     "text": [
      "resultsmnet/images\\cate8-00417.jpg\n",
      "1/1 [==============================] - 0s 496ms/step\n"
     ]
    },
    {
     "name": "stderr",
     "output_type": "stream",
     "text": [
      "\r",
      " 28%|██████████████████████▋                                                          | 84/300 [00:51<02:10,  1.66it/s]"
     ]
    },
    {
     "name": "stdout",
     "output_type": "stream",
     "text": [
      "resultsmnet/images\\cate10-00037.jpg\n",
      "1/1 [==============================] - 1s 511ms/step\n"
     ]
    },
    {
     "name": "stderr",
     "output_type": "stream",
     "text": [
      "\r",
      " 28%|██████████████████████▉                                                          | 85/300 [00:51<02:09,  1.66it/s]"
     ]
    },
    {
     "name": "stdout",
     "output_type": "stream",
     "text": [
      "resultsmnet/images\\cate9-00038.jpg\n",
      "1/1 [==============================] - 1s 510ms/step\n"
     ]
    },
    {
     "name": "stderr",
     "output_type": "stream",
     "text": [
      "\r",
      " 29%|███████████████████████▏                                                         | 86/300 [00:52<02:11,  1.63it/s]"
     ]
    },
    {
     "name": "stdout",
     "output_type": "stream",
     "text": [
      "resultsmnet/images\\cate8-00259.jpg\n",
      "1/1 [==============================] - 1s 501ms/step\n"
     ]
    },
    {
     "name": "stderr",
     "output_type": "stream",
     "text": [
      "\r",
      " 29%|███████████████████████▍                                                         | 87/300 [00:53<02:10,  1.63it/s]"
     ]
    },
    {
     "name": "stdout",
     "output_type": "stream",
     "text": [
      "resultsmnet/images\\cate5-00091.jpg\n",
      "1/1 [==============================] - 1s 502ms/step\n"
     ]
    },
    {
     "name": "stderr",
     "output_type": "stream",
     "text": [
      "\r",
      " 29%|███████████████████████▊                                                         | 88/300 [00:53<02:09,  1.64it/s]"
     ]
    },
    {
     "name": "stdout",
     "output_type": "stream",
     "text": [
      "resultsmnet/images\\cate5-00088.jpg\n",
      "1/1 [==============================] - 1s 501ms/step\n"
     ]
    },
    {
     "name": "stderr",
     "output_type": "stream",
     "text": [
      "\r",
      " 30%|████████████████████████                                                         | 89/300 [00:54<02:08,  1.64it/s]"
     ]
    },
    {
     "name": "stdout",
     "output_type": "stream",
     "text": [
      "resultsmnet/images\\cate8-00334.jpg\n",
      "1/1 [==============================] - 0s 491ms/step\n"
     ]
    },
    {
     "name": "stderr",
     "output_type": "stream",
     "text": [
      "\r",
      " 30%|████████████████████████▎                                                        | 90/300 [00:54<02:07,  1.65it/s]"
     ]
    },
    {
     "name": "stdout",
     "output_type": "stream",
     "text": [
      "resultsmnet/images\\cate8-00182.jpg\n",
      "1/1 [==============================] - 1s 510ms/step\n"
     ]
    },
    {
     "name": "stderr",
     "output_type": "stream",
     "text": [
      "\r",
      " 30%|████████████████████████▌                                                        | 91/300 [00:55<02:06,  1.65it/s]"
     ]
    },
    {
     "name": "stdout",
     "output_type": "stream",
     "text": [
      "resultsmnet/images\\cate8-00231.jpg\n",
      "1/1 [==============================] - 1s 535ms/step\n"
     ]
    },
    {
     "name": "stderr",
     "output_type": "stream",
     "text": [
      "\r",
      " 31%|████████████████████████▊                                                        | 92/300 [00:56<02:07,  1.64it/s]"
     ]
    },
    {
     "name": "stdout",
     "output_type": "stream",
     "text": [
      "resultsmnet/images\\cate8-00214.jpg\n",
      "1/1 [==============================] - 1s 502ms/step\n"
     ]
    },
    {
     "name": "stderr",
     "output_type": "stream",
     "text": [
      "\r",
      " 31%|█████████████████████████                                                        | 93/300 [00:56<02:05,  1.65it/s]"
     ]
    },
    {
     "name": "stdout",
     "output_type": "stream",
     "text": [
      "resultsmnet/images\\cate4-00051.jpg\n",
      "1/1 [==============================] - 1s 504ms/step\n"
     ]
    },
    {
     "name": "stderr",
     "output_type": "stream",
     "text": [
      "\r",
      " 31%|█████████████████████████▍                                                       | 94/300 [00:57<02:05,  1.64it/s]"
     ]
    },
    {
     "name": "stdout",
     "output_type": "stream",
     "text": [
      "resultsmnet/images\\cate6-00143.jpg\n",
      "1/1 [==============================] - 1s 527ms/step\n"
     ]
    },
    {
     "name": "stderr",
     "output_type": "stream",
     "text": [
      "\r",
      " 32%|█████████████████████████▋                                                       | 95/300 [00:57<02:05,  1.64it/s]"
     ]
    },
    {
     "name": "stdout",
     "output_type": "stream",
     "text": [
      "resultsmnet/images\\cate5-00049.jpg\n",
      "1/1 [==============================] - 0s 494ms/step\n"
     ]
    },
    {
     "name": "stderr",
     "output_type": "stream",
     "text": [
      "\r",
      " 32%|█████████████████████████▉                                                       | 96/300 [00:58<02:03,  1.65it/s]"
     ]
    },
    {
     "name": "stdout",
     "output_type": "stream",
     "text": [
      "resultsmnet/images\\cate10-00090.jpg\n",
      "1/1 [==============================] - 1s 501ms/step\n"
     ]
    },
    {
     "name": "stderr",
     "output_type": "stream",
     "text": [
      "\r",
      " 32%|██████████████████████████▏                                                      | 97/300 [00:59<02:02,  1.66it/s]"
     ]
    },
    {
     "name": "stdout",
     "output_type": "stream",
     "text": [
      "resultsmnet/images\\cate10-00072.jpg\n",
      "1/1 [==============================] - 1s 502ms/step\n"
     ]
    },
    {
     "name": "stderr",
     "output_type": "stream",
     "text": [
      "\r",
      " 33%|██████████████████████████▍                                                      | 98/300 [00:59<02:02,  1.65it/s]"
     ]
    },
    {
     "name": "stdout",
     "output_type": "stream",
     "text": [
      "resultsmnet/images\\cate2-00038.jpg\n",
      "1/1 [==============================] - 1s 513ms/step\n"
     ]
    },
    {
     "name": "stderr",
     "output_type": "stream",
     "text": [
      "\r",
      " 33%|██████████████████████████▋                                                      | 99/300 [01:00<02:01,  1.66it/s]"
     ]
    },
    {
     "name": "stdout",
     "output_type": "stream",
     "text": [
      "resultsmnet/images\\cate1-00006.jpg\n",
      "1/1 [==============================] - 1s 503ms/step\n"
     ]
    },
    {
     "name": "stderr",
     "output_type": "stream",
     "text": [
      "\r",
      " 33%|██████████████████████████▋                                                     | 100/300 [01:00<02:00,  1.66it/s]"
     ]
    },
    {
     "name": "stdout",
     "output_type": "stream",
     "text": [
      "resultsmnet/images\\cate4-00077.jpg\n",
      "1/1 [==============================] - 1s 514ms/step\n"
     ]
    },
    {
     "name": "stderr",
     "output_type": "stream",
     "text": [
      "\r",
      " 34%|██████████████████████████▉                                                     | 101/300 [01:01<01:59,  1.66it/s]"
     ]
    },
    {
     "name": "stdout",
     "output_type": "stream",
     "text": [
      "resultsmnet/images\\cate6-00102.jpg\n",
      "1/1 [==============================] - 1s 509ms/step\n"
     ]
    },
    {
     "name": "stderr",
     "output_type": "stream",
     "text": [
      "\r",
      " 34%|███████████████████████████▏                                                    | 102/300 [01:02<01:59,  1.66it/s]"
     ]
    },
    {
     "name": "stdout",
     "output_type": "stream",
     "text": [
      "resultsmnet/images\\cate8-00136.jpg\n",
      "1/1 [==============================] - 1s 512ms/step\n"
     ]
    },
    {
     "name": "stderr",
     "output_type": "stream",
     "text": [
      "\r",
      " 34%|███████████████████████████▍                                                    | 103/300 [01:02<01:58,  1.66it/s]"
     ]
    },
    {
     "name": "stdout",
     "output_type": "stream",
     "text": [
      "resultsmnet/images\\cate4-00004.jpg\n",
      "1/1 [==============================] - 1s 506ms/step\n"
     ]
    },
    {
     "name": "stderr",
     "output_type": "stream",
     "text": [
      "\r",
      " 35%|███████████████████████████▋                                                    | 104/300 [01:03<01:57,  1.66it/s]"
     ]
    },
    {
     "name": "stdout",
     "output_type": "stream",
     "text": [
      "resultsmnet/images\\cate8-00249.jpg\n",
      "1/1 [==============================] - 1s 510ms/step\n"
     ]
    },
    {
     "name": "stderr",
     "output_type": "stream",
     "text": [
      "\r",
      " 35%|████████████████████████████                                                    | 105/300 [01:03<01:57,  1.66it/s]"
     ]
    },
    {
     "name": "stdout",
     "output_type": "stream",
     "text": [
      "resultsmnet/images\\cate2-00003.jpg\n",
      "1/1 [==============================] - 1s 502ms/step\n"
     ]
    },
    {
     "name": "stderr",
     "output_type": "stream",
     "text": [
      "\r",
      " 35%|████████████████████████████▎                                                   | 106/300 [01:04<01:56,  1.66it/s]"
     ]
    },
    {
     "name": "stdout",
     "output_type": "stream",
     "text": [
      "resultsmnet/images\\cate6-00016.jpg\n",
      "1/1 [==============================] - 1s 501ms/step\n"
     ]
    },
    {
     "name": "stderr",
     "output_type": "stream",
     "text": [
      "\r",
      " 36%|████████████████████████████▌                                                   | 107/300 [01:05<01:55,  1.67it/s]"
     ]
    },
    {
     "name": "stdout",
     "output_type": "stream",
     "text": [
      "resultsmnet/images\\cate8-00067.jpg\n",
      "1/1 [==============================] - 1s 510ms/step\n"
     ]
    },
    {
     "name": "stderr",
     "output_type": "stream",
     "text": [
      "\r",
      " 36%|████████████████████████████▊                                                   | 108/300 [01:05<01:55,  1.66it/s]"
     ]
    },
    {
     "name": "stdout",
     "output_type": "stream",
     "text": [
      "resultsmnet/images\\cate6-00085.jpg\n",
      "1/1 [==============================] - 1s 502ms/step\n"
     ]
    },
    {
     "name": "stderr",
     "output_type": "stream",
     "text": [
      "\r",
      " 36%|█████████████████████████████                                                   | 109/300 [01:06<01:55,  1.66it/s]"
     ]
    },
    {
     "name": "stdout",
     "output_type": "stream",
     "text": [
      "resultsmnet/images\\cate4-00022.jpg\n",
      "1/1 [==============================] - 0s 499ms/step\n"
     ]
    },
    {
     "name": "stderr",
     "output_type": "stream",
     "text": [
      "\r",
      " 37%|█████████████████████████████▎                                                  | 110/300 [01:06<01:54,  1.66it/s]"
     ]
    },
    {
     "name": "stdout",
     "output_type": "stream",
     "text": [
      "resultsmnet/images\\cate10-00080.jpg\n",
      "1/1 [==============================] - 1s 503ms/step\n"
     ]
    },
    {
     "name": "stderr",
     "output_type": "stream",
     "text": [
      "\r",
      " 37%|█████████████████████████████▌                                                  | 111/300 [01:07<01:53,  1.66it/s]"
     ]
    },
    {
     "name": "stdout",
     "output_type": "stream",
     "text": [
      "resultsmnet/images\\cate2-00149.jpg\n",
      "1/1 [==============================] - 1s 511ms/step\n"
     ]
    },
    {
     "name": "stderr",
     "output_type": "stream",
     "text": [
      "\r",
      " 37%|█████████████████████████████▊                                                  | 112/300 [01:08<01:53,  1.66it/s]"
     ]
    },
    {
     "name": "stdout",
     "output_type": "stream",
     "text": [
      "resultsmnet/images\\cate4-00044.jpg\n",
      "1/1 [==============================] - 0s 491ms/step\n"
     ]
    },
    {
     "name": "stderr",
     "output_type": "stream",
     "text": [
      "\r",
      " 38%|██████████████████████████████▏                                                 | 113/300 [01:08<01:52,  1.66it/s]"
     ]
    },
    {
     "name": "stdout",
     "output_type": "stream",
     "text": [
      "resultsmnet/images\\cate8-00208.jpg\n",
      "1/1 [==============================] - 1s 508ms/step\n"
     ]
    },
    {
     "name": "stderr",
     "output_type": "stream",
     "text": [
      "\r",
      " 38%|██████████████████████████████▍                                                 | 114/300 [01:09<01:53,  1.63it/s]"
     ]
    },
    {
     "name": "stdout",
     "output_type": "stream",
     "text": [
      "resultsmnet/images\\cate2-00092.jpg\n",
      "1/1 [==============================] - 1s 512ms/step\n"
     ]
    },
    {
     "name": "stderr",
     "output_type": "stream",
     "text": [
      "\r",
      " 38%|██████████████████████████████▋                                                 | 115/300 [01:09<01:52,  1.64it/s]"
     ]
    },
    {
     "name": "stdout",
     "output_type": "stream",
     "text": [
      "resultsmnet/images\\cate10-00109.jpg\n",
      "1/1 [==============================] - 1s 505ms/step\n"
     ]
    },
    {
     "name": "stderr",
     "output_type": "stream",
     "text": [
      "\r",
      " 39%|██████████████████████████████▉                                                 | 116/300 [01:10<01:51,  1.65it/s]"
     ]
    },
    {
     "name": "stdout",
     "output_type": "stream",
     "text": [
      "resultsmnet/images\\cate8-00015.jpg\n",
      "1/1 [==============================] - 1s 507ms/step\n"
     ]
    },
    {
     "name": "stderr",
     "output_type": "stream",
     "text": [
      "\r",
      " 39%|███████████████████████████████▏                                                | 117/300 [01:11<01:50,  1.65it/s]"
     ]
    },
    {
     "name": "stdout",
     "output_type": "stream",
     "text": [
      "resultsmnet/images\\cate8-00415.jpg\n",
      "1/1 [==============================] - 1s 508ms/step\n"
     ]
    },
    {
     "name": "stderr",
     "output_type": "stream",
     "text": [
      "\r",
      " 39%|███████████████████████████████▍                                                | 118/300 [01:11<01:50,  1.65it/s]"
     ]
    },
    {
     "name": "stdout",
     "output_type": "stream",
     "text": [
      "resultsmnet/images\\cate1-00011.jpg\n",
      "1/1 [==============================] - 1s 519ms/step\n"
     ]
    },
    {
     "name": "stderr",
     "output_type": "stream",
     "text": [
      "\r",
      " 40%|███████████████████████████████▋                                                | 119/300 [01:12<01:50,  1.64it/s]"
     ]
    },
    {
     "name": "stdout",
     "output_type": "stream",
     "text": [
      "resultsmnet/images\\cate8-00431.jpg\n",
      "1/1 [==============================] - 1s 510ms/step\n"
     ]
    },
    {
     "name": "stderr",
     "output_type": "stream",
     "text": [
      "\r",
      " 40%|████████████████████████████████                                                | 120/300 [01:13<01:50,  1.63it/s]"
     ]
    },
    {
     "name": "stdout",
     "output_type": "stream",
     "text": [
      "resultsmnet/images\\cate8-00298.jpg\n",
      "1/1 [==============================] - 1s 511ms/step\n"
     ]
    },
    {
     "name": "stderr",
     "output_type": "stream",
     "text": [
      "\r",
      " 40%|████████████████████████████████▎                                               | 121/300 [01:13<01:49,  1.64it/s]"
     ]
    },
    {
     "name": "stdout",
     "output_type": "stream",
     "text": [
      "resultsmnet/images\\cate8-00384.jpg\n",
      "1/1 [==============================] - 1s 521ms/step\n"
     ]
    },
    {
     "name": "stderr",
     "output_type": "stream",
     "text": [
      "\r",
      " 41%|████████████████████████████████▌                                               | 122/300 [01:14<01:49,  1.63it/s]"
     ]
    },
    {
     "name": "stdout",
     "output_type": "stream",
     "text": [
      "resultsmnet/images\\cate8-00022.jpg\n",
      "1/1 [==============================] - 1s 688ms/step\n"
     ]
    },
    {
     "name": "stderr",
     "output_type": "stream",
     "text": [
      "\r",
      " 41%|████████████████████████████████▊                                               | 123/300 [01:15<01:58,  1.50it/s]"
     ]
    },
    {
     "name": "stdout",
     "output_type": "stream",
     "text": [
      "resultsmnet/images\\cate2-00197.jpg\n",
      "1/1 [==============================] - 1s 681ms/step\n"
     ]
    },
    {
     "name": "stderr",
     "output_type": "stream",
     "text": [
      "\r",
      " 41%|█████████████████████████████████                                               | 124/300 [01:15<02:03,  1.43it/s]"
     ]
    },
    {
     "name": "stdout",
     "output_type": "stream",
     "text": [
      "resultsmnet/images\\cate5-00020.jpg\n",
      "1/1 [==============================] - 1s 508ms/step\n"
     ]
    },
    {
     "name": "stderr",
     "output_type": "stream",
     "text": [
      "\r",
      " 42%|█████████████████████████████████▎                                              | 125/300 [01:16<01:57,  1.49it/s]"
     ]
    },
    {
     "name": "stdout",
     "output_type": "stream",
     "text": [
      "resultsmnet/images\\cate9-00032.jpg\n",
      "1/1 [==============================] - 1s 693ms/step\n"
     ]
    },
    {
     "name": "stderr",
     "output_type": "stream",
     "text": [
      "\r",
      " 42%|█████████████████████████████████▌                                              | 126/300 [01:17<02:03,  1.41it/s]"
     ]
    },
    {
     "name": "stdout",
     "output_type": "stream",
     "text": [
      "resultsmnet/images\\cate8-00399.jpg\n",
      "1/1 [==============================] - 1s 722ms/step\n"
     ]
    },
    {
     "name": "stderr",
     "output_type": "stream",
     "text": [
      "\r",
      " 42%|█████████████████████████████████▊                                              | 127/300 [01:18<02:08,  1.35it/s]"
     ]
    },
    {
     "name": "stdout",
     "output_type": "stream",
     "text": [
      "resultsmnet/images\\cate8-00078.jpg\n",
      "1/1 [==============================] - 1s 664ms/step\n"
     ]
    },
    {
     "name": "stderr",
     "output_type": "stream",
     "text": [
      "\r",
      " 43%|██████████████████████████████████▏                                             | 128/300 [01:18<02:08,  1.33it/s]"
     ]
    },
    {
     "name": "stdout",
     "output_type": "stream",
     "text": [
      "resultsmnet/images\\cate2-00099.jpg\n",
      "1/1 [==============================] - 1s 575ms/step\n"
     ]
    },
    {
     "name": "stderr",
     "output_type": "stream",
     "text": [
      "\r",
      " 43%|██████████████████████████████████▍                                             | 129/300 [01:19<02:03,  1.38it/s]"
     ]
    },
    {
     "name": "stdout",
     "output_type": "stream",
     "text": [
      "resultsmnet/images\\cate8-00357.jpg\n",
      "1/1 [==============================] - 1s 510ms/step\n"
     ]
    },
    {
     "name": "stderr",
     "output_type": "stream",
     "text": [
      "\r",
      " 43%|██████████████████████████████████▋                                             | 130/300 [01:20<01:57,  1.45it/s]"
     ]
    },
    {
     "name": "stdout",
     "output_type": "stream",
     "text": [
      "resultsmnet/images\\cate2-00113.jpg\n",
      "1/1 [==============================] - 1s 506ms/step\n"
     ]
    },
    {
     "name": "stderr",
     "output_type": "stream",
     "text": [
      "\r",
      " 44%|██████████████████████████████████▉                                             | 131/300 [01:20<01:51,  1.51it/s]"
     ]
    },
    {
     "name": "stdout",
     "output_type": "stream",
     "text": [
      "resultsmnet/images\\cate2-00037.jpg\n",
      "1/1 [==============================] - 0s 493ms/step\n"
     ]
    },
    {
     "name": "stderr",
     "output_type": "stream",
     "text": [
      "\r",
      " 44%|███████████████████████████████████▏                                            | 132/300 [01:21<01:47,  1.56it/s]"
     ]
    },
    {
     "name": "stdout",
     "output_type": "stream",
     "text": [
      "resultsmnet/images\\cate5-00008.jpg\n",
      "1/1 [==============================] - 1s 510ms/step\n"
     ]
    },
    {
     "name": "stderr",
     "output_type": "stream",
     "text": [
      "\r",
      " 44%|███████████████████████████████████▍                                            | 133/300 [01:21<01:45,  1.58it/s]"
     ]
    },
    {
     "name": "stdout",
     "output_type": "stream",
     "text": [
      "resultsmnet/images\\cate8-00391.jpg\n",
      "1/1 [==============================] - 1s 511ms/step\n"
     ]
    },
    {
     "name": "stderr",
     "output_type": "stream",
     "text": [
      "\r",
      " 45%|███████████████████████████████████▋                                            | 134/300 [01:22<01:44,  1.58it/s]"
     ]
    },
    {
     "name": "stdout",
     "output_type": "stream",
     "text": [
      "resultsmnet/images\\cate8-00382.jpg\n",
      "1/1 [==============================] - 1s 507ms/step\n"
     ]
    },
    {
     "name": "stderr",
     "output_type": "stream",
     "text": [
      "\r",
      " 45%|████████████████████████████████████                                            | 135/300 [01:23<01:42,  1.61it/s]"
     ]
    },
    {
     "name": "stdout",
     "output_type": "stream",
     "text": [
      "resultsmnet/images\\cate8-00197.jpg\n",
      "1/1 [==============================] - 1s 509ms/step\n"
     ]
    },
    {
     "name": "stderr",
     "output_type": "stream",
     "text": [
      "\r",
      " 45%|████████████████████████████████████▎                                           | 136/300 [01:23<01:41,  1.62it/s]"
     ]
    },
    {
     "name": "stdout",
     "output_type": "stream",
     "text": [
      "resultsmnet/images\\cate6-00163.jpg\n",
      "1/1 [==============================] - 1s 505ms/step\n"
     ]
    },
    {
     "name": "stderr",
     "output_type": "stream",
     "text": [
      "\r",
      " 46%|████████████████████████████████████▌                                           | 137/300 [01:24<01:39,  1.63it/s]"
     ]
    },
    {
     "name": "stdout",
     "output_type": "stream",
     "text": [
      "resultsmnet/images\\cate10-00092.jpg\n",
      "1/1 [==============================] - 1s 501ms/step\n"
     ]
    },
    {
     "name": "stderr",
     "output_type": "stream",
     "text": [
      "\r",
      " 46%|████████████████████████████████████▊                                           | 138/300 [01:24<01:38,  1.64it/s]"
     ]
    },
    {
     "name": "stdout",
     "output_type": "stream",
     "text": [
      "resultsmnet/images\\cate8-00038.jpg\n",
      "1/1 [==============================] - 1s 505ms/step\n"
     ]
    },
    {
     "name": "stderr",
     "output_type": "stream",
     "text": [
      "\r",
      " 46%|█████████████████████████████████████                                           | 139/300 [01:25<01:37,  1.65it/s]"
     ]
    },
    {
     "name": "stdout",
     "output_type": "stream",
     "text": [
      "resultsmnet/images\\cate3-00041.jpg\n",
      "1/1 [==============================] - 1s 518ms/step\n"
     ]
    },
    {
     "name": "stderr",
     "output_type": "stream",
     "text": [
      "\r",
      " 47%|█████████████████████████████████████▎                                          | 140/300 [01:26<01:37,  1.65it/s]"
     ]
    },
    {
     "name": "stdout",
     "output_type": "stream",
     "text": [
      "resultsmnet/images\\cate8-00161.jpg\n",
      "1/1 [==============================] - 0s 495ms/step\n"
     ]
    },
    {
     "name": "stderr",
     "output_type": "stream",
     "text": [
      "\r",
      " 47%|█████████████████████████████████████▌                                          | 141/300 [01:26<01:36,  1.65it/s]"
     ]
    },
    {
     "name": "stdout",
     "output_type": "stream",
     "text": [
      "resultsmnet/images\\cate4-00068.jpg\n",
      "1/1 [==============================] - 1s 508ms/step\n"
     ]
    },
    {
     "name": "stderr",
     "output_type": "stream",
     "text": [
      "\r",
      " 47%|█████████████████████████████████████▊                                          | 142/300 [01:27<01:36,  1.63it/s]"
     ]
    },
    {
     "name": "stdout",
     "output_type": "stream",
     "text": [
      "resultsmnet/images\\cate2-00064.jpg\n",
      "1/1 [==============================] - 1s 509ms/step\n"
     ]
    },
    {
     "name": "stderr",
     "output_type": "stream",
     "text": [
      "\r",
      " 48%|██████████████████████████████████████▏                                         | 143/300 [01:27<01:36,  1.63it/s]"
     ]
    },
    {
     "name": "stdout",
     "output_type": "stream",
     "text": [
      "resultsmnet/images\\cate5-00011.jpg\n",
      "1/1 [==============================] - 1s 506ms/step\n"
     ]
    },
    {
     "name": "stderr",
     "output_type": "stream",
     "text": [
      "\r",
      " 48%|██████████████████████████████████████▍                                         | 144/300 [01:28<01:34,  1.64it/s]"
     ]
    },
    {
     "name": "stdout",
     "output_type": "stream",
     "text": [
      "resultsmnet/images\\cate8-00380.jpg\n",
      "1/1 [==============================] - 1s 502ms/step\n"
     ]
    },
    {
     "name": "stderr",
     "output_type": "stream",
     "text": [
      "\r",
      " 48%|██████████████████████████████████████▋                                         | 145/300 [01:29<01:33,  1.65it/s]"
     ]
    },
    {
     "name": "stdout",
     "output_type": "stream",
     "text": [
      "resultsmnet/images\\cate2-00148.jpg\n",
      "1/1 [==============================] - 1s 512ms/step\n"
     ]
    },
    {
     "name": "stderr",
     "output_type": "stream",
     "text": [
      "\r",
      " 49%|██████████████████████████████████████▉                                         | 146/300 [01:29<01:33,  1.65it/s]"
     ]
    },
    {
     "name": "stdout",
     "output_type": "stream",
     "text": [
      "resultsmnet/images\\cate6-00011.jpg\n",
      "1/1 [==============================] - 1s 502ms/step\n"
     ]
    },
    {
     "name": "stderr",
     "output_type": "stream",
     "text": [
      "\r",
      " 49%|███████████████████████████████████████▏                                        | 147/300 [01:30<01:32,  1.65it/s]"
     ]
    },
    {
     "name": "stdout",
     "output_type": "stream",
     "text": [
      "resultsmnet/images\\cate6-00167.jpg\n",
      "1/1 [==============================] - 0s 500ms/step\n"
     ]
    },
    {
     "name": "stderr",
     "output_type": "stream",
     "text": [
      "\r",
      " 49%|███████████████████████████████████████▍                                        | 148/300 [01:30<01:31,  1.66it/s]"
     ]
    },
    {
     "name": "stdout",
     "output_type": "stream",
     "text": [
      "resultsmnet/images\\cate6-00130.jpg\n",
      "1/1 [==============================] - 1s 505ms/step\n"
     ]
    },
    {
     "name": "stderr",
     "output_type": "stream",
     "text": [
      "\r",
      " 50%|███████████████████████████████████████▋                                        | 149/300 [01:31<01:30,  1.66it/s]"
     ]
    },
    {
     "name": "stdout",
     "output_type": "stream",
     "text": [
      "resultsmnet/images\\cate9-00034.jpg\n",
      "1/1 [==============================] - 1s 507ms/step\n"
     ]
    },
    {
     "name": "stderr",
     "output_type": "stream",
     "text": [
      "\r",
      " 50%|████████████████████████████████████████                                        | 150/300 [01:32<01:30,  1.66it/s]"
     ]
    },
    {
     "name": "stdout",
     "output_type": "stream",
     "text": [
      "resultsmnet/images\\cate6-00122.jpg\n",
      "1/1 [==============================] - 1s 503ms/step\n"
     ]
    },
    {
     "name": "stderr",
     "output_type": "stream",
     "text": [
      "\r",
      " 50%|████████████████████████████████████████▎                                       | 151/300 [01:32<01:29,  1.66it/s]"
     ]
    },
    {
     "name": "stdout",
     "output_type": "stream",
     "text": [
      "resultsmnet/images\\cate4-00040.jpg\n",
      "1/1 [==============================] - 1s 502ms/step\n"
     ]
    },
    {
     "name": "stderr",
     "output_type": "stream",
     "text": [
      "\r",
      " 51%|████████████████████████████████████████▌                                       | 152/300 [01:33<01:29,  1.66it/s]"
     ]
    },
    {
     "name": "stdout",
     "output_type": "stream",
     "text": [
      "resultsmnet/images\\cate6-00081.jpg\n",
      "1/1 [==============================] - 1s 512ms/step\n"
     ]
    },
    {
     "name": "stderr",
     "output_type": "stream",
     "text": [
      "\r",
      " 51%|████████████████████████████████████████▊                                       | 153/300 [01:34<01:29,  1.65it/s]"
     ]
    },
    {
     "name": "stdout",
     "output_type": "stream",
     "text": [
      "resultsmnet/images\\cate5-00070.jpg\n",
      "1/1 [==============================] - 1s 501ms/step\n"
     ]
    },
    {
     "name": "stderr",
     "output_type": "stream",
     "text": [
      "\r",
      " 51%|█████████████████████████████████████████                                       | 154/300 [01:34<01:28,  1.66it/s]"
     ]
    },
    {
     "name": "stdout",
     "output_type": "stream",
     "text": [
      "resultsmnet/images\\cate8-00225.jpg\n",
      "1/1 [==============================] - 1s 503ms/step\n"
     ]
    },
    {
     "name": "stderr",
     "output_type": "stream",
     "text": [
      "\r",
      " 52%|█████████████████████████████████████████▎                                      | 155/300 [01:35<01:27,  1.66it/s]"
     ]
    },
    {
     "name": "stdout",
     "output_type": "stream",
     "text": [
      "resultsmnet/images\\cate8-00273.jpg\n",
      "1/1 [==============================] - 1s 502ms/step\n"
     ]
    },
    {
     "name": "stderr",
     "output_type": "stream",
     "text": [
      "\r",
      " 52%|█████████████████████████████████████████▌                                      | 156/300 [01:35<01:27,  1.65it/s]"
     ]
    },
    {
     "name": "stdout",
     "output_type": "stream",
     "text": [
      "resultsmnet/images\\cate4-00028.jpg\n",
      "1/1 [==============================] - 1s 510ms/step\n"
     ]
    },
    {
     "name": "stderr",
     "output_type": "stream",
     "text": [
      "\r",
      " 52%|█████████████████████████████████████████▊                                      | 157/300 [01:36<01:26,  1.66it/s]"
     ]
    },
    {
     "name": "stdout",
     "output_type": "stream",
     "text": [
      "resultsmnet/images\\cate1-00067.jpg\n",
      "1/1 [==============================] - 1s 512ms/step\n"
     ]
    },
    {
     "name": "stderr",
     "output_type": "stream",
     "text": [
      "\r",
      " 53%|██████████████████████████████████████████▏                                     | 158/300 [01:37<01:25,  1.67it/s]"
     ]
    },
    {
     "name": "stdout",
     "output_type": "stream",
     "text": [
      "resultsmnet/images\\cate10-00099.jpg\n",
      "1/1 [==============================] - 0s 498ms/step\n"
     ]
    },
    {
     "name": "stderr",
     "output_type": "stream",
     "text": [
      "\r",
      " 53%|██████████████████████████████████████████▍                                     | 159/300 [01:37<01:25,  1.66it/s]"
     ]
    },
    {
     "name": "stdout",
     "output_type": "stream",
     "text": [
      "resultsmnet/images\\cate9-00042.jpg\n",
      "1/1 [==============================] - 1s 511ms/step\n"
     ]
    },
    {
     "name": "stderr",
     "output_type": "stream",
     "text": [
      "\r",
      " 53%|██████████████████████████████████████████▋                                     | 160/300 [01:38<01:24,  1.66it/s]"
     ]
    },
    {
     "name": "stdout",
     "output_type": "stream",
     "text": [
      "resultsmnet/images\\cate9-00020.jpg\n",
      "1/1 [==============================] - 1s 504ms/step\n"
     ]
    },
    {
     "name": "stderr",
     "output_type": "stream",
     "text": [
      "\r",
      " 54%|██████████████████████████████████████████▉                                     | 161/300 [01:38<01:23,  1.66it/s]"
     ]
    },
    {
     "name": "stdout",
     "output_type": "stream",
     "text": [
      "resultsmnet/images\\cate8-00244.jpg\n",
      "1/1 [==============================] - 0s 496ms/step\n"
     ]
    },
    {
     "name": "stderr",
     "output_type": "stream",
     "text": [
      "\r",
      " 54%|███████████████████████████████████████████▏                                    | 162/300 [01:39<01:22,  1.67it/s]"
     ]
    },
    {
     "name": "stdout",
     "output_type": "stream",
     "text": [
      "resultsmnet/images\\cate8-00442.jpg\n",
      "1/1 [==============================] - 1s 511ms/step\n"
     ]
    },
    {
     "name": "stderr",
     "output_type": "stream",
     "text": [
      "\r",
      " 54%|███████████████████████████████████████████▍                                    | 163/300 [01:40<01:22,  1.66it/s]"
     ]
    },
    {
     "name": "stdout",
     "output_type": "stream",
     "text": [
      "resultsmnet/images\\cate5-00056.jpg\n",
      "1/1 [==============================] - 1s 506ms/step\n"
     ]
    },
    {
     "name": "stderr",
     "output_type": "stream",
     "text": [
      "\r",
      " 55%|███████████████████████████████████████████▋                                    | 164/300 [01:40<01:21,  1.66it/s]"
     ]
    },
    {
     "name": "stdout",
     "output_type": "stream",
     "text": [
      "resultsmnet/images\\cate4-00106.jpg\n",
      "1/1 [==============================] - 1s 506ms/step\n"
     ]
    },
    {
     "name": "stderr",
     "output_type": "stream",
     "text": [
      "\r",
      " 55%|████████████████████████████████████████████                                    | 165/300 [01:41<01:21,  1.66it/s]"
     ]
    },
    {
     "name": "stdout",
     "output_type": "stream",
     "text": [
      "resultsmnet/images\\cate4-00015.jpg\n",
      "1/1 [==============================] - 1s 507ms/step\n"
     ]
    },
    {
     "name": "stderr",
     "output_type": "stream",
     "text": [
      "\r",
      " 55%|████████████████████████████████████████████▎                                   | 166/300 [01:41<01:20,  1.66it/s]"
     ]
    },
    {
     "name": "stdout",
     "output_type": "stream",
     "text": [
      "resultsmnet/images\\cate10-00047.jpg\n",
      "1/1 [==============================] - 1s 505ms/step\n"
     ]
    },
    {
     "name": "stderr",
     "output_type": "stream",
     "text": [
      "\r",
      " 56%|████████████████████████████████████████████▌                                   | 167/300 [01:42<01:20,  1.66it/s]"
     ]
    },
    {
     "name": "stdout",
     "output_type": "stream",
     "text": [
      "resultsmnet/images\\cate2-00056.jpg\n",
      "1/1 [==============================] - 0s 500ms/step\n"
     ]
    },
    {
     "name": "stderr",
     "output_type": "stream",
     "text": [
      "\r",
      " 56%|████████████████████████████████████████████▊                                   | 168/300 [01:43<01:19,  1.66it/s]"
     ]
    },
    {
     "name": "stdout",
     "output_type": "stream",
     "text": [
      "resultsmnet/images\\cate10-00108.jpg\n",
      "1/1 [==============================] - 1s 501ms/step\n"
     ]
    },
    {
     "name": "stderr",
     "output_type": "stream",
     "text": [
      "\r",
      " 56%|█████████████████████████████████████████████                                   | 169/300 [01:43<01:18,  1.66it/s]"
     ]
    },
    {
     "name": "stdout",
     "output_type": "stream",
     "text": [
      "resultsmnet/images\\cate7-00053.jpg\n",
      "1/1 [==============================] - 1s 502ms/step\n"
     ]
    },
    {
     "name": "stderr",
     "output_type": "stream",
     "text": [
      "\r",
      " 57%|█████████████████████████████████████████████▎                                  | 170/300 [01:44<01:18,  1.66it/s]"
     ]
    },
    {
     "name": "stdout",
     "output_type": "stream",
     "text": [
      "resultsmnet/images\\cate7-00010.jpg\n",
      "1/1 [==============================] - 1s 510ms/step\n"
     ]
    },
    {
     "name": "stderr",
     "output_type": "stream",
     "text": [
      "\r",
      " 57%|█████████████████████████████████████████████▌                                  | 171/300 [01:44<01:17,  1.66it/s]"
     ]
    },
    {
     "name": "stdout",
     "output_type": "stream",
     "text": [
      "resultsmnet/images\\cate6-00139.jpg\n",
      "1/1 [==============================] - 0s 497ms/step\n"
     ]
    },
    {
     "name": "stderr",
     "output_type": "stream",
     "text": [
      "\r",
      " 57%|█████████████████████████████████████████████▊                                  | 172/300 [01:45<01:16,  1.66it/s]"
     ]
    },
    {
     "name": "stdout",
     "output_type": "stream",
     "text": [
      "resultsmnet/images\\cate8-00017.jpg\n",
      "1/1 [==============================] - 1s 513ms/step\n"
     ]
    },
    {
     "name": "stderr",
     "output_type": "stream",
     "text": [
      "\r",
      " 58%|██████████████████████████████████████████████▏                                 | 173/300 [01:46<01:16,  1.66it/s]"
     ]
    },
    {
     "name": "stdout",
     "output_type": "stream",
     "text": [
      "resultsmnet/images\\cate7-00011.jpg\n",
      "1/1 [==============================] - 1s 511ms/step\n"
     ]
    },
    {
     "name": "stderr",
     "output_type": "stream",
     "text": [
      "\r",
      " 58%|██████████████████████████████████████████████▍                                 | 174/300 [01:46<01:16,  1.66it/s]"
     ]
    },
    {
     "name": "stdout",
     "output_type": "stream",
     "text": [
      "resultsmnet/images\\cate2-00055.jpg\n",
      "1/1 [==============================] - 1s 502ms/step\n"
     ]
    },
    {
     "name": "stderr",
     "output_type": "stream",
     "text": [
      "\r",
      " 58%|██████████████████████████████████████████████▋                                 | 175/300 [01:47<01:15,  1.66it/s]"
     ]
    },
    {
     "name": "stdout",
     "output_type": "stream",
     "text": [
      "resultsmnet/images\\cate8-00051.jpg\n",
      "1/1 [==============================] - 1s 504ms/step\n"
     ]
    },
    {
     "name": "stderr",
     "output_type": "stream",
     "text": [
      "\r",
      " 59%|██████████████████████████████████████████████▉                                 | 176/300 [01:47<01:14,  1.65it/s]"
     ]
    },
    {
     "name": "stdout",
     "output_type": "stream",
     "text": [
      "resultsmnet/images\\cate2-00071.jpg\n",
      "1/1 [==============================] - 1s 512ms/step\n"
     ]
    },
    {
     "name": "stderr",
     "output_type": "stream",
     "text": [
      "\r",
      " 59%|███████████████████████████████████████████████▏                                | 177/300 [01:48<01:14,  1.65it/s]"
     ]
    },
    {
     "name": "stdout",
     "output_type": "stream",
     "text": [
      "resultsmnet/images\\cate4-00054.jpg\n",
      "1/1 [==============================] - 1s 509ms/step\n"
     ]
    },
    {
     "name": "stderr",
     "output_type": "stream",
     "text": [
      "\r",
      " 59%|███████████████████████████████████████████████▍                                | 178/300 [01:49<01:15,  1.62it/s]"
     ]
    },
    {
     "name": "stdout",
     "output_type": "stream",
     "text": [
      "resultsmnet/images\\cate8-00107.jpg\n",
      "1/1 [==============================] - 1s 508ms/step\n"
     ]
    },
    {
     "name": "stderr",
     "output_type": "stream",
     "text": [
      "\r",
      " 60%|███████████████████████████████████████████████▋                                | 179/300 [01:49<01:14,  1.63it/s]"
     ]
    },
    {
     "name": "stdout",
     "output_type": "stream",
     "text": [
      "resultsmnet/images\\cate2-00159.jpg\n",
      "1/1 [==============================] - 1s 519ms/step\n"
     ]
    },
    {
     "name": "stderr",
     "output_type": "stream",
     "text": [
      "\r",
      " 60%|████████████████████████████████████████████████                                | 180/300 [01:50<01:13,  1.63it/s]"
     ]
    },
    {
     "name": "stdout",
     "output_type": "stream",
     "text": [
      "resultsmnet/images\\cate9-00004.jpg\n",
      "1/1 [==============================] - 1s 511ms/step\n"
     ]
    },
    {
     "name": "stderr",
     "output_type": "stream",
     "text": [
      "\r",
      " 60%|████████████████████████████████████████████████▎                               | 181/300 [01:50<01:12,  1.64it/s]"
     ]
    },
    {
     "name": "stdout",
     "output_type": "stream",
     "text": [
      "resultsmnet/images\\cate8-00123.jpg\n",
      "1/1 [==============================] - 1s 511ms/step\n"
     ]
    },
    {
     "name": "stderr",
     "output_type": "stream",
     "text": [
      "\r",
      " 61%|████████████████████████████████████████████████▌                               | 182/300 [01:51<01:11,  1.65it/s]"
     ]
    },
    {
     "name": "stdout",
     "output_type": "stream",
     "text": [
      "resultsmnet/images\\cate9-00045.jpg\n",
      "1/1 [==============================] - 1s 510ms/step\n"
     ]
    },
    {
     "name": "stderr",
     "output_type": "stream",
     "text": [
      "\r",
      " 61%|████████████████████████████████████████████████▊                               | 183/300 [01:52<01:10,  1.65it/s]"
     ]
    },
    {
     "name": "stdout",
     "output_type": "stream",
     "text": [
      "resultsmnet/images\\cate3-00003.jpg\n",
      "1/1 [==============================] - 1s 512ms/step\n"
     ]
    },
    {
     "name": "stderr",
     "output_type": "stream",
     "text": [
      "\r",
      " 61%|█████████████████████████████████████████████████                               | 184/300 [01:52<01:10,  1.65it/s]"
     ]
    },
    {
     "name": "stdout",
     "output_type": "stream",
     "text": [
      "resultsmnet/images\\cate5-00089.jpg\n",
      "1/1 [==============================] - 1s 501ms/step\n"
     ]
    },
    {
     "name": "stderr",
     "output_type": "stream",
     "text": [
      "\r",
      " 62%|█████████████████████████████████████████████████▎                              | 185/300 [01:53<01:09,  1.65it/s]"
     ]
    },
    {
     "name": "stdout",
     "output_type": "stream",
     "text": [
      "resultsmnet/images\\cate1-00040.jpg\n",
      "1/1 [==============================] - 1s 510ms/step\n"
     ]
    },
    {
     "name": "stderr",
     "output_type": "stream",
     "text": [
      "\r",
      " 62%|█████████████████████████████████████████████████▌                              | 186/300 [01:53<01:09,  1.63it/s]"
     ]
    },
    {
     "name": "stdout",
     "output_type": "stream",
     "text": [
      "resultsmnet/images\\cate2-00015.jpg\n",
      "1/1 [==============================] - 1s 501ms/step\n"
     ]
    },
    {
     "name": "stderr",
     "output_type": "stream",
     "text": [
      "\r",
      " 62%|█████████████████████████████████████████████████▊                              | 187/300 [01:54<01:08,  1.64it/s]"
     ]
    },
    {
     "name": "stdout",
     "output_type": "stream",
     "text": [
      "resultsmnet/images\\cate9-00031.jpg\n",
      "1/1 [==============================] - 0s 500ms/step\n"
     ]
    },
    {
     "name": "stderr",
     "output_type": "stream",
     "text": [
      "\r",
      " 63%|██████████████████████████████████████████████████▏                             | 188/300 [01:55<01:07,  1.65it/s]"
     ]
    },
    {
     "name": "stdout",
     "output_type": "stream",
     "text": [
      "resultsmnet/images\\cate8-00005.jpg\n",
      "1/1 [==============================] - 1s 505ms/step\n"
     ]
    },
    {
     "name": "stderr",
     "output_type": "stream",
     "text": [
      "\r",
      " 63%|██████████████████████████████████████████████████▍                             | 189/300 [01:55<01:07,  1.65it/s]"
     ]
    },
    {
     "name": "stdout",
     "output_type": "stream",
     "text": [
      "resultsmnet/images\\cate8-00215.jpg\n",
      "1/1 [==============================] - 0s 499ms/step\n"
     ]
    },
    {
     "name": "stderr",
     "output_type": "stream",
     "text": [
      "\r",
      " 63%|██████████████████████████████████████████████████▋                             | 190/300 [01:56<01:06,  1.65it/s]"
     ]
    },
    {
     "name": "stdout",
     "output_type": "stream",
     "text": [
      "resultsmnet/images\\cate6-00066.jpg\n",
      "1/1 [==============================] - 1s 510ms/step\n"
     ]
    },
    {
     "name": "stderr",
     "output_type": "stream",
     "text": [
      "\r",
      " 64%|██████████████████████████████████████████████████▉                             | 191/300 [01:57<01:06,  1.63it/s]"
     ]
    },
    {
     "name": "stdout",
     "output_type": "stream",
     "text": [
      "resultsmnet/images\\cate2-00076.jpg\n",
      "1/1 [==============================] - 1s 510ms/step\n"
     ]
    },
    {
     "name": "stderr",
     "output_type": "stream",
     "text": [
      "\r",
      " 64%|███████████████████████████████████████████████████▏                            | 192/300 [01:57<01:06,  1.63it/s]"
     ]
    },
    {
     "name": "stdout",
     "output_type": "stream",
     "text": [
      "resultsmnet/images\\cate7-00002.jpg\n",
      "1/1 [==============================] - 1s 503ms/step\n"
     ]
    },
    {
     "name": "stderr",
     "output_type": "stream",
     "text": [
      "\r",
      " 64%|███████████████████████████████████████████████████▍                            | 193/300 [01:58<01:05,  1.64it/s]"
     ]
    },
    {
     "name": "stdout",
     "output_type": "stream",
     "text": [
      "resultsmnet/images\\cate3-00022.jpg\n",
      "1/1 [==============================] - 1s 505ms/step\n"
     ]
    },
    {
     "name": "stderr",
     "output_type": "stream",
     "text": [
      "\r",
      " 65%|███████████████████████████████████████████████████▋                            | 194/300 [01:58<01:04,  1.64it/s]"
     ]
    },
    {
     "name": "stdout",
     "output_type": "stream",
     "text": [
      "resultsmnet/images\\cate8-00118.jpg\n",
      "1/1 [==============================] - 0s 497ms/step\n"
     ]
    },
    {
     "name": "stderr",
     "output_type": "stream",
     "text": [
      "\r",
      " 65%|████████████████████████████████████████████████████                            | 195/300 [01:59<01:03,  1.65it/s]"
     ]
    },
    {
     "name": "stdout",
     "output_type": "stream",
     "text": [
      "resultsmnet/images\\cate5-00081.jpg\n",
      "1/1 [==============================] - 1s 512ms/step\n"
     ]
    },
    {
     "name": "stderr",
     "output_type": "stream",
     "text": [
      "\r",
      " 65%|████████████████████████████████████████████████████▎                           | 196/300 [02:00<01:03,  1.65it/s]"
     ]
    },
    {
     "name": "stdout",
     "output_type": "stream",
     "text": [
      "resultsmnet/images\\cate8-00243.jpg\n",
      "1/1 [==============================] - 1s 512ms/step\n"
     ]
    },
    {
     "name": "stderr",
     "output_type": "stream",
     "text": [
      "\r",
      " 66%|████████████████████████████████████████████████████▌                           | 197/300 [02:00<01:01,  1.66it/s]"
     ]
    },
    {
     "name": "stdout",
     "output_type": "stream",
     "text": [
      "resultsmnet/images\\cate2-00001.jpg\n",
      "1/1 [==============================] - 1s 501ms/step\n"
     ]
    },
    {
     "name": "stderr",
     "output_type": "stream",
     "text": [
      "\r",
      " 66%|████████████████████████████████████████████████████▊                           | 198/300 [02:01<01:01,  1.65it/s]"
     ]
    },
    {
     "name": "stdout",
     "output_type": "stream",
     "text": [
      "resultsmnet/images\\cate8-00412.jpg\n",
      "1/1 [==============================] - 1s 514ms/step\n"
     ]
    },
    {
     "name": "stderr",
     "output_type": "stream",
     "text": [
      "\r",
      " 66%|█████████████████████████████████████████████████████                           | 199/300 [02:01<01:01,  1.65it/s]"
     ]
    },
    {
     "name": "stdout",
     "output_type": "stream",
     "text": [
      "resultsmnet/images\\cate8-00210.jpg\n",
      "1/1 [==============================] - 1s 506ms/step\n"
     ]
    },
    {
     "name": "stderr",
     "output_type": "stream",
     "text": [
      "\r",
      " 67%|█████████████████████████████████████████████████████▎                          | 200/300 [02:02<01:00,  1.65it/s]"
     ]
    },
    {
     "name": "stdout",
     "output_type": "stream",
     "text": [
      "resultsmnet/images\\cate7-00081.jpg\n",
      "1/1 [==============================] - 1s 501ms/step\n"
     ]
    },
    {
     "name": "stderr",
     "output_type": "stream",
     "text": [
      "\r",
      " 67%|█████████████████████████████████████████████████████▌                          | 201/300 [02:03<00:59,  1.65it/s]"
     ]
    },
    {
     "name": "stdout",
     "output_type": "stream",
     "text": [
      "resultsmnet/images\\cate10-00044.jpg\n",
      "1/1 [==============================] - 1s 501ms/step\n"
     ]
    },
    {
     "name": "stderr",
     "output_type": "stream",
     "text": [
      "\r",
      " 67%|█████████████████████████████████████████████████████▊                          | 202/300 [02:03<00:59,  1.65it/s]"
     ]
    },
    {
     "name": "stdout",
     "output_type": "stream",
     "text": [
      "resultsmnet/images\\cate2-00096.jpg\n",
      "1/1 [==============================] - 1s 513ms/step\n"
     ]
    },
    {
     "name": "stderr",
     "output_type": "stream",
     "text": [
      "\r",
      " 68%|██████████████████████████████████████████████████████▏                         | 203/300 [02:04<00:58,  1.65it/s]"
     ]
    },
    {
     "name": "stdout",
     "output_type": "stream",
     "text": [
      "resultsmnet/images\\cate8-00403.jpg\n",
      "1/1 [==============================] - 0s 496ms/step\n"
     ]
    },
    {
     "name": "stderr",
     "output_type": "stream",
     "text": [
      "\r",
      " 68%|██████████████████████████████████████████████████████▍                         | 204/300 [02:04<00:57,  1.66it/s]"
     ]
    },
    {
     "name": "stdout",
     "output_type": "stream",
     "text": [
      "resultsmnet/images\\cate3-00045.jpg\n",
      "1/1 [==============================] - 0s 495ms/step\n"
     ]
    },
    {
     "name": "stderr",
     "output_type": "stream",
     "text": [
      "\r",
      " 68%|██████████████████████████████████████████████████████▋                         | 205/300 [02:05<00:57,  1.66it/s]"
     ]
    },
    {
     "name": "stdout",
     "output_type": "stream",
     "text": [
      "resultsmnet/images\\cate8-00254.jpg\n",
      "1/1 [==============================] - 1s 510ms/step\n"
     ]
    },
    {
     "name": "stderr",
     "output_type": "stream",
     "text": [
      "\r",
      " 69%|██████████████████████████████████████████████████████▉                         | 206/300 [02:06<00:56,  1.66it/s]"
     ]
    },
    {
     "name": "stdout",
     "output_type": "stream",
     "text": [
      "resultsmnet/images\\cate8-00369.jpg\n",
      "1/1 [==============================] - 1s 502ms/step\n"
     ]
    },
    {
     "name": "stderr",
     "output_type": "stream",
     "text": [
      "\r",
      " 69%|███████████████████████████████████████████████████████▏                        | 207/300 [02:06<00:55,  1.66it/s]"
     ]
    },
    {
     "name": "stdout",
     "output_type": "stream",
     "text": [
      "resultsmnet/images\\cate10-00021.jpg\n",
      "1/1 [==============================] - 1s 514ms/step\n"
     ]
    },
    {
     "name": "stderr",
     "output_type": "stream",
     "text": [
      "\r",
      " 69%|███████████████████████████████████████████████████████▍                        | 208/300 [02:07<00:55,  1.66it/s]"
     ]
    },
    {
     "name": "stdout",
     "output_type": "stream",
     "text": [
      "resultsmnet/images\\cate10-00104.jpg\n",
      "1/1 [==============================] - 1s 512ms/step\n"
     ]
    },
    {
     "name": "stderr",
     "output_type": "stream",
     "text": [
      "\r",
      " 70%|███████████████████████████████████████████████████████▋                        | 209/300 [02:07<00:54,  1.66it/s]"
     ]
    },
    {
     "name": "stdout",
     "output_type": "stream",
     "text": [
      "resultsmnet/images\\cate8-00313.jpg\n",
      "1/1 [==============================] - 1s 507ms/step\n"
     ]
    },
    {
     "name": "stderr",
     "output_type": "stream",
     "text": [
      "\r",
      " 70%|████████████████████████████████████████████████████████                        | 210/300 [02:08<00:54,  1.66it/s]"
     ]
    },
    {
     "name": "stdout",
     "output_type": "stream",
     "text": [
      "resultsmnet/images\\cate2-00108.jpg\n",
      "1/1 [==============================] - 1s 504ms/step\n"
     ]
    },
    {
     "name": "stderr",
     "output_type": "stream",
     "text": [
      "\r",
      " 70%|████████████████████████████████████████████████████████▎                       | 211/300 [02:09<00:53,  1.67it/s]"
     ]
    },
    {
     "name": "stdout",
     "output_type": "stream",
     "text": [
      "resultsmnet/images\\cate8-00241.jpg\n",
      "1/1 [==============================] - 1s 513ms/step\n"
     ]
    },
    {
     "name": "stderr",
     "output_type": "stream",
     "text": [
      "\r",
      " 71%|████████████████████████████████████████████████████████▌                       | 212/300 [02:09<00:52,  1.67it/s]"
     ]
    },
    {
     "name": "stdout",
     "output_type": "stream",
     "text": [
      "resultsmnet/images\\cate8-00011.jpg\n",
      "1/1 [==============================] - 1s 507ms/step\n"
     ]
    },
    {
     "name": "stderr",
     "output_type": "stream",
     "text": [
      "\r",
      " 71%|████████████████████████████████████████████████████████▊                       | 213/300 [02:10<00:52,  1.66it/s]"
     ]
    },
    {
     "name": "stdout",
     "output_type": "stream",
     "text": [
      "resultsmnet/images\\cate1-00043.jpg\n",
      "1/1 [==============================] - 0s 499ms/step\n"
     ]
    },
    {
     "name": "stderr",
     "output_type": "stream",
     "text": [
      "\r",
      " 71%|█████████████████████████████████████████████████████████                       | 214/300 [02:10<00:51,  1.66it/s]"
     ]
    },
    {
     "name": "stdout",
     "output_type": "stream",
     "text": [
      "resultsmnet/images\\cate1-00017.jpg\n",
      "1/1 [==============================] - 1s 501ms/step\n"
     ]
    },
    {
     "name": "stderr",
     "output_type": "stream",
     "text": [
      "\r",
      " 72%|█████████████████████████████████████████████████████████▎                      | 215/300 [02:11<00:51,  1.66it/s]"
     ]
    },
    {
     "name": "stdout",
     "output_type": "stream",
     "text": [
      "resultsmnet/images\\cate6-00165.jpg\n",
      "1/1 [==============================] - 1s 516ms/step\n"
     ]
    },
    {
     "name": "stderr",
     "output_type": "stream",
     "text": [
      "\r",
      " 72%|█████████████████████████████████████████████████████████▌                      | 216/300 [02:12<00:50,  1.65it/s]"
     ]
    },
    {
     "name": "stdout",
     "output_type": "stream",
     "text": [
      "resultsmnet/images\\cate10-00066.jpg\n",
      "1/1 [==============================] - 1s 511ms/step\n"
     ]
    },
    {
     "name": "stderr",
     "output_type": "stream",
     "text": [
      "\r",
      " 72%|█████████████████████████████████████████████████████████▊                      | 217/300 [02:12<00:50,  1.65it/s]"
     ]
    },
    {
     "name": "stdout",
     "output_type": "stream",
     "text": [
      "resultsmnet/images\\cate8-00432.jpg\n",
      "1/1 [==============================] - 1s 504ms/step\n"
     ]
    },
    {
     "name": "stderr",
     "output_type": "stream",
     "text": [
      "\r",
      " 73%|██████████████████████████████████████████████████████████▏                     | 218/300 [02:13<00:49,  1.66it/s]"
     ]
    },
    {
     "name": "stdout",
     "output_type": "stream",
     "text": [
      "resultsmnet/images\\cate4-00006.jpg\n",
      "1/1 [==============================] - 1s 506ms/step\n"
     ]
    },
    {
     "name": "stderr",
     "output_type": "stream",
     "text": [
      "\r",
      " 73%|██████████████████████████████████████████████████████████▍                     | 219/300 [02:13<00:48,  1.66it/s]"
     ]
    },
    {
     "name": "stdout",
     "output_type": "stream",
     "text": [
      "resultsmnet/images\\cate7-00112.jpg\n",
      "1/1 [==============================] - 1s 515ms/step\n"
     ]
    },
    {
     "name": "stderr",
     "output_type": "stream",
     "text": [
      "\r",
      " 73%|██████████████████████████████████████████████████████████▋                     | 220/300 [02:14<00:48,  1.65it/s]"
     ]
    },
    {
     "name": "stdout",
     "output_type": "stream",
     "text": [
      "resultsmnet/images\\cate8-00151.jpg\n",
      "1/1 [==============================] - 0s 498ms/step\n"
     ]
    },
    {
     "name": "stderr",
     "output_type": "stream",
     "text": [
      "\r",
      " 74%|██████████████████████████████████████████████████████████▉                     | 221/300 [02:15<00:47,  1.66it/s]"
     ]
    },
    {
     "name": "stdout",
     "output_type": "stream",
     "text": [
      "resultsmnet/images\\cate9-00021.jpg\n",
      "1/1 [==============================] - 1s 509ms/step\n"
     ]
    },
    {
     "name": "stderr",
     "output_type": "stream",
     "text": [
      "\r",
      " 74%|███████████████████████████████████████████████████████████▏                    | 222/300 [02:15<00:46,  1.66it/s]"
     ]
    },
    {
     "name": "stdout",
     "output_type": "stream",
     "text": [
      "resultsmnet/images\\cate4-00020.jpg\n",
      "1/1 [==============================] - 1s 510ms/step\n"
     ]
    },
    {
     "name": "stderr",
     "output_type": "stream",
     "text": [
      "\r",
      " 74%|███████████████████████████████████████████████████████████▍                    | 223/300 [02:16<00:46,  1.66it/s]"
     ]
    },
    {
     "name": "stdout",
     "output_type": "stream",
     "text": [
      "resultsmnet/images\\cate8-00325.jpg\n",
      "1/1 [==============================] - 0s 497ms/step\n"
     ]
    },
    {
     "name": "stderr",
     "output_type": "stream",
     "text": [
      "\r",
      " 75%|███████████████████████████████████████████████████████████▋                    | 224/300 [02:16<00:45,  1.66it/s]"
     ]
    },
    {
     "name": "stdout",
     "output_type": "stream",
     "text": [
      "resultsmnet/images\\cate8-00227.jpg\n",
      "1/1 [==============================] - 1s 508ms/step\n"
     ]
    },
    {
     "name": "stderr",
     "output_type": "stream",
     "text": [
      "\r",
      " 75%|████████████████████████████████████████████████████████████                    | 225/300 [02:17<00:45,  1.66it/s]"
     ]
    },
    {
     "name": "stdout",
     "output_type": "stream",
     "text": [
      "resultsmnet/images\\cate4-00095.jpg\n",
      "1/1 [==============================] - 1s 509ms/step\n"
     ]
    },
    {
     "name": "stderr",
     "output_type": "stream",
     "text": [
      "\r",
      " 75%|████████████████████████████████████████████████████████████▎                   | 226/300 [02:18<00:44,  1.65it/s]"
     ]
    },
    {
     "name": "stdout",
     "output_type": "stream",
     "text": [
      "resultsmnet/images\\cate1-00010.jpg\n",
      "1/1 [==============================] - 1s 513ms/step\n"
     ]
    },
    {
     "name": "stderr",
     "output_type": "stream",
     "text": [
      "\r",
      " 76%|████████████████████████████████████████████████████████████▌                   | 227/300 [02:18<00:44,  1.65it/s]"
     ]
    },
    {
     "name": "stdout",
     "output_type": "stream",
     "text": [
      "resultsmnet/images\\cate4-00063.jpg\n",
      "1/1 [==============================] - 0s 497ms/step\n"
     ]
    },
    {
     "name": "stderr",
     "output_type": "stream",
     "text": [
      "\r",
      " 76%|████████████████████████████████████████████████████████████▊                   | 228/300 [02:19<00:43,  1.66it/s]"
     ]
    },
    {
     "name": "stdout",
     "output_type": "stream",
     "text": [
      "resultsmnet/images\\cate7-00067.jpg\n",
      "1/1 [==============================] - 1s 513ms/step\n"
     ]
    },
    {
     "name": "stderr",
     "output_type": "stream",
     "text": [
      "\r",
      " 76%|█████████████████████████████████████████████████████████████                   | 229/300 [02:19<00:43,  1.63it/s]"
     ]
    },
    {
     "name": "stdout",
     "output_type": "stream",
     "text": [
      "resultsmnet/images\\cate10-00016.jpg\n",
      "1/1 [==============================] - 1s 512ms/step\n"
     ]
    },
    {
     "name": "stderr",
     "output_type": "stream",
     "text": [
      "\r",
      " 77%|█████████████████████████████████████████████████████████████▎                  | 230/300 [02:20<00:42,  1.64it/s]"
     ]
    },
    {
     "name": "stdout",
     "output_type": "stream",
     "text": [
      "resultsmnet/images\\cate8-00453.jpg\n",
      "1/1 [==============================] - 1s 502ms/step\n"
     ]
    },
    {
     "name": "stderr",
     "output_type": "stream",
     "text": [
      "\r",
      " 77%|█████████████████████████████████████████████████████████████▌                  | 231/300 [02:21<00:41,  1.65it/s]"
     ]
    },
    {
     "name": "stdout",
     "output_type": "stream",
     "text": [
      "resultsmnet/images\\cate8-00162.jpg\n",
      "1/1 [==============================] - 1s 512ms/step\n"
     ]
    },
    {
     "name": "stderr",
     "output_type": "stream",
     "text": [
      "\r",
      " 77%|█████████████████████████████████████████████████████████████▊                  | 232/300 [02:21<00:41,  1.65it/s]"
     ]
    },
    {
     "name": "stdout",
     "output_type": "stream",
     "text": [
      "resultsmnet/images\\cate8-00441.jpg\n",
      "1/1 [==============================] - 1s 513ms/step\n"
     ]
    },
    {
     "name": "stderr",
     "output_type": "stream",
     "text": [
      "\r",
      " 78%|██████████████████████████████████████████████████████████████▏                 | 233/300 [02:22<00:40,  1.65it/s]"
     ]
    },
    {
     "name": "stdout",
     "output_type": "stream",
     "text": [
      "resultsmnet/images\\cate8-00434.jpg\n",
      "1/1 [==============================] - 1s 505ms/step\n"
     ]
    },
    {
     "name": "stderr",
     "output_type": "stream",
     "text": [
      "\r",
      " 78%|██████████████████████████████████████████████████████████████▍                 | 234/300 [02:22<00:39,  1.66it/s]"
     ]
    },
    {
     "name": "stdout",
     "output_type": "stream",
     "text": [
      "resultsmnet/images\\cate1-00029.jpg\n",
      "1/1 [==============================] - 1s 503ms/step\n"
     ]
    },
    {
     "name": "stderr",
     "output_type": "stream",
     "text": [
      "\r",
      " 78%|██████████████████████████████████████████████████████████████▋                 | 235/300 [02:23<00:39,  1.66it/s]"
     ]
    },
    {
     "name": "stdout",
     "output_type": "stream",
     "text": [
      "resultsmnet/images\\cate4-00036.jpg\n",
      "1/1 [==============================] - 1s 507ms/step\n"
     ]
    },
    {
     "name": "stderr",
     "output_type": "stream",
     "text": [
      "\r",
      " 79%|██████████████████████████████████████████████████████████████▉                 | 236/300 [02:24<00:38,  1.66it/s]"
     ]
    },
    {
     "name": "stdout",
     "output_type": "stream",
     "text": [
      "resultsmnet/images\\cate1-00073.jpg\n",
      "1/1 [==============================] - 1s 503ms/step\n"
     ]
    },
    {
     "name": "stderr",
     "output_type": "stream",
     "text": [
      "\r",
      " 79%|███████████████████████████████████████████████████████████████▏                | 237/300 [02:24<00:37,  1.66it/s]"
     ]
    },
    {
     "name": "stdout",
     "output_type": "stream",
     "text": [
      "resultsmnet/images\\cate6-00072.jpg\n",
      "1/1 [==============================] - 1s 502ms/step\n"
     ]
    },
    {
     "name": "stderr",
     "output_type": "stream",
     "text": [
      "\r",
      " 79%|███████████████████████████████████████████████████████████████▍                | 238/300 [02:25<00:37,  1.67it/s]"
     ]
    },
    {
     "name": "stdout",
     "output_type": "stream",
     "text": [
      "resultsmnet/images\\cate8-00449.jpg\n",
      "1/1 [==============================] - 1s 507ms/step\n"
     ]
    },
    {
     "name": "stderr",
     "output_type": "stream",
     "text": [
      "\r",
      " 80%|███████████████████████████████████████████████████████████████▋                | 239/300 [02:25<00:36,  1.66it/s]"
     ]
    },
    {
     "name": "stdout",
     "output_type": "stream",
     "text": [
      "resultsmnet/images\\cate8-00047.jpg\n",
      "1/1 [==============================] - 1s 516ms/step\n"
     ]
    },
    {
     "name": "stderr",
     "output_type": "stream",
     "text": [
      "\r",
      " 80%|████████████████████████████████████████████████████████████████                | 240/300 [02:26<00:36,  1.66it/s]"
     ]
    },
    {
     "name": "stdout",
     "output_type": "stream",
     "text": [
      "resultsmnet/images\\cate4-00117.jpg\n",
      "1/1 [==============================] - 1s 510ms/step\n"
     ]
    },
    {
     "name": "stderr",
     "output_type": "stream",
     "text": [
      "\r",
      " 80%|████████████████████████████████████████████████████████████████▎               | 241/300 [02:27<00:35,  1.66it/s]"
     ]
    },
    {
     "name": "stdout",
     "output_type": "stream",
     "text": [
      "resultsmnet/images\\cate7-00107.jpg\n",
      "1/1 [==============================] - 1s 512ms/step\n"
     ]
    },
    {
     "name": "stderr",
     "output_type": "stream",
     "text": [
      "\r",
      " 81%|████████████████████████████████████████████████████████████████▌               | 242/300 [02:27<00:34,  1.67it/s]"
     ]
    },
    {
     "name": "stdout",
     "output_type": "stream",
     "text": [
      "resultsmnet/images\\cate4-00067.jpg\n",
      "1/1 [==============================] - 1s 509ms/step\n"
     ]
    },
    {
     "name": "stderr",
     "output_type": "stream",
     "text": [
      "\r",
      " 81%|████████████████████████████████████████████████████████████████▊               | 243/300 [02:28<00:34,  1.65it/s]"
     ]
    },
    {
     "name": "stdout",
     "output_type": "stream",
     "text": [
      "resultsmnet/images\\cate8-00232.jpg\n",
      "1/1 [==============================] - 0s 499ms/step\n"
     ]
    },
    {
     "name": "stderr",
     "output_type": "stream",
     "text": [
      "\r",
      " 81%|█████████████████████████████████████████████████████████████████               | 244/300 [02:29<00:33,  1.66it/s]"
     ]
    },
    {
     "name": "stdout",
     "output_type": "stream",
     "text": [
      "resultsmnet/images\\cate4-00037.jpg\n",
      "1/1 [==============================] - 0s 497ms/step\n"
     ]
    },
    {
     "name": "stderr",
     "output_type": "stream",
     "text": [
      "\r",
      " 82%|█████████████████████████████████████████████████████████████████▎              | 245/300 [02:29<00:33,  1.66it/s]"
     ]
    },
    {
     "name": "stdout",
     "output_type": "stream",
     "text": [
      "resultsmnet/images\\cate10-00098.jpg\n",
      "1/1 [==============================] - 1s 515ms/step\n"
     ]
    },
    {
     "name": "stderr",
     "output_type": "stream",
     "text": [
      "\r",
      " 82%|█████████████████████████████████████████████████████████████████▌              | 246/300 [02:30<00:32,  1.65it/s]"
     ]
    },
    {
     "name": "stdout",
     "output_type": "stream",
     "text": [
      "resultsmnet/images\\cate5-00105.jpg\n",
      "1/1 [==============================] - 1s 512ms/step\n"
     ]
    },
    {
     "name": "stderr",
     "output_type": "stream",
     "text": [
      "\r",
      " 82%|█████████████████████████████████████████████████████████████████▊              | 247/300 [02:30<00:31,  1.66it/s]"
     ]
    },
    {
     "name": "stdout",
     "output_type": "stream",
     "text": [
      "resultsmnet/images\\cate2-00035.jpg\n",
      "1/1 [==============================] - 0s 495ms/step\n"
     ]
    },
    {
     "name": "stderr",
     "output_type": "stream",
     "text": [
      "\r",
      " 83%|██████████████████████████████████████████████████████████████████▏             | 248/300 [02:31<00:31,  1.66it/s]"
     ]
    },
    {
     "name": "stdout",
     "output_type": "stream",
     "text": [
      "resultsmnet/images\\cate5-00095.jpg\n",
      "1/1 [==============================] - 0s 498ms/step\n"
     ]
    },
    {
     "name": "stderr",
     "output_type": "stream",
     "text": [
      "\r",
      " 83%|██████████████████████████████████████████████████████████████████▍             | 249/300 [02:32<00:30,  1.66it/s]"
     ]
    },
    {
     "name": "stdout",
     "output_type": "stream",
     "text": [
      "resultsmnet/images\\cate8-00222.jpg\n",
      "1/1 [==============================] - 1s 509ms/step\n"
     ]
    },
    {
     "name": "stderr",
     "output_type": "stream",
     "text": [
      "\r",
      " 83%|██████████████████████████████████████████████████████████████████▋             | 250/300 [02:32<00:30,  1.66it/s]"
     ]
    },
    {
     "name": "stdout",
     "output_type": "stream",
     "text": [
      "resultsmnet/images\\cate5-00059.jpg\n",
      "1/1 [==============================] - 1s 516ms/step\n"
     ]
    },
    {
     "name": "stderr",
     "output_type": "stream",
     "text": [
      "\r",
      " 84%|██████████████████████████████████████████████████████████████████▉             | 251/300 [02:33<00:29,  1.66it/s]"
     ]
    },
    {
     "name": "stdout",
     "output_type": "stream",
     "text": [
      "resultsmnet/images\\cate8-00350.jpg\n",
      "1/1 [==============================] - 1s 507ms/step\n"
     ]
    },
    {
     "name": "stderr",
     "output_type": "stream",
     "text": [
      "\r",
      " 84%|███████████████████████████████████████████████████████████████████▏            | 252/300 [02:33<00:28,  1.66it/s]"
     ]
    },
    {
     "name": "stdout",
     "output_type": "stream",
     "text": [
      "resultsmnet/images\\cate1-00056.jpg\n",
      "1/1 [==============================] - 1s 503ms/step\n"
     ]
    },
    {
     "name": "stderr",
     "output_type": "stream",
     "text": [
      "\r",
      " 84%|███████████████████████████████████████████████████████████████████▍            | 253/300 [02:34<00:28,  1.66it/s]"
     ]
    },
    {
     "name": "stdout",
     "output_type": "stream",
     "text": [
      "resultsmnet/images\\cate6-00073.jpg\n",
      "1/1 [==============================] - 0s 499ms/step\n"
     ]
    },
    {
     "name": "stderr",
     "output_type": "stream",
     "text": [
      "\r",
      " 85%|███████████████████████████████████████████████████████████████████▋            | 254/300 [02:35<00:27,  1.66it/s]"
     ]
    },
    {
     "name": "stdout",
     "output_type": "stream",
     "text": [
      "resultsmnet/images\\cate7-00084.jpg\n",
      "1/1 [==============================] - 0s 495ms/step\n"
     ]
    },
    {
     "name": "stderr",
     "output_type": "stream",
     "text": [
      "\r",
      " 85%|████████████████████████████████████████████████████████████████████            | 255/300 [02:35<00:27,  1.66it/s]"
     ]
    },
    {
     "name": "stdout",
     "output_type": "stream",
     "text": [
      "resultsmnet/images\\cate9-00009.jpg\n",
      "1/1 [==============================] - 1s 514ms/step\n"
     ]
    },
    {
     "name": "stderr",
     "output_type": "stream",
     "text": [
      "\r",
      " 85%|████████████████████████████████████████████████████████████████████▎           | 256/300 [02:36<00:26,  1.66it/s]"
     ]
    },
    {
     "name": "stdout",
     "output_type": "stream",
     "text": [
      "resultsmnet/images\\cate8-00112.jpg\n",
      "1/1 [==============================] - 1s 510ms/step\n"
     ]
    },
    {
     "name": "stderr",
     "output_type": "stream",
     "text": [
      "\r",
      " 86%|████████████████████████████████████████████████████████████████████▌           | 257/300 [02:36<00:25,  1.66it/s]"
     ]
    },
    {
     "name": "stdout",
     "output_type": "stream",
     "text": [
      "resultsmnet/images\\cate6-00153.jpg\n",
      "1/1 [==============================] - 0s 496ms/step\n"
     ]
    },
    {
     "name": "stderr",
     "output_type": "stream",
     "text": [
      "\r",
      " 86%|████████████████████████████████████████████████████████████████████▊           | 258/300 [02:37<00:25,  1.66it/s]"
     ]
    },
    {
     "name": "stdout",
     "output_type": "stream",
     "text": [
      "resultsmnet/images\\cate10-00046.jpg\n",
      "1/1 [==============================] - 1s 510ms/step\n"
     ]
    },
    {
     "name": "stderr",
     "output_type": "stream",
     "text": [
      "\r",
      " 86%|█████████████████████████████████████████████████████████████████████           | 259/300 [02:38<00:25,  1.64it/s]"
     ]
    },
    {
     "name": "stdout",
     "output_type": "stream",
     "text": [
      "resultsmnet/images\\cate4-00097.jpg\n",
      "1/1 [==============================] - 1s 511ms/step\n"
     ]
    },
    {
     "name": "stderr",
     "output_type": "stream",
     "text": [
      "\r",
      " 87%|█████████████████████████████████████████████████████████████████████▎          | 260/300 [02:38<00:24,  1.64it/s]"
     ]
    },
    {
     "name": "stdout",
     "output_type": "stream",
     "text": [
      "resultsmnet/images\\cate2-00065.jpg\n",
      "1/1 [==============================] - 0s 498ms/step\n"
     ]
    },
    {
     "name": "stderr",
     "output_type": "stream",
     "text": [
      "\r",
      " 87%|█████████████████████████████████████████████████████████████████████▌          | 261/300 [02:39<00:23,  1.65it/s]"
     ]
    },
    {
     "name": "stdout",
     "output_type": "stream",
     "text": [
      "resultsmnet/images\\cate7-00102.jpg\n",
      "1/1 [==============================] - 1s 512ms/step\n"
     ]
    },
    {
     "name": "stderr",
     "output_type": "stream",
     "text": [
      "\r",
      " 87%|█████████████████████████████████████████████████████████████████████▊          | 262/300 [02:39<00:22,  1.65it/s]"
     ]
    },
    {
     "name": "stdout",
     "output_type": "stream",
     "text": [
      "resultsmnet/images\\cate1-00003.jpg\n",
      "1/1 [==============================] - 0s 497ms/step\n"
     ]
    },
    {
     "name": "stderr",
     "output_type": "stream",
     "text": [
      "\r",
      " 88%|██████████████████████████████████████████████████████████████████████▏         | 263/300 [02:40<00:22,  1.66it/s]"
     ]
    },
    {
     "name": "stdout",
     "output_type": "stream",
     "text": [
      "resultsmnet/images\\cate6-00142.jpg\n",
      "1/1 [==============================] - 0s 496ms/step\n"
     ]
    },
    {
     "name": "stderr",
     "output_type": "stream",
     "text": [
      "\r",
      " 88%|██████████████████████████████████████████████████████████████████████▍         | 264/300 [02:41<00:21,  1.66it/s]"
     ]
    },
    {
     "name": "stdout",
     "output_type": "stream",
     "text": [
      "resultsmnet/images\\cate6-00145.jpg\n",
      "1/1 [==============================] - 0s 497ms/step\n"
     ]
    },
    {
     "name": "stderr",
     "output_type": "stream",
     "text": [
      "\r",
      " 88%|██████████████████████████████████████████████████████████████████████▋         | 265/300 [02:41<00:21,  1.67it/s]"
     ]
    },
    {
     "name": "stdout",
     "output_type": "stream",
     "text": [
      "resultsmnet/images\\cate2-00047.jpg\n",
      "1/1 [==============================] - 1s 503ms/step\n"
     ]
    },
    {
     "name": "stderr",
     "output_type": "stream",
     "text": [
      "\r",
      " 89%|██████████████████████████████████████████████████████████████████████▉         | 266/300 [02:42<00:20,  1.66it/s]"
     ]
    },
    {
     "name": "stdout",
     "output_type": "stream",
     "text": [
      "resultsmnet/images\\cate6-00049.jpg\n",
      "1/1 [==============================] - 0s 498ms/step\n"
     ]
    },
    {
     "name": "stderr",
     "output_type": "stream",
     "text": [
      "\r",
      " 89%|███████████████████████████████████████████████████████████████████████▏        | 267/300 [02:42<00:19,  1.66it/s]"
     ]
    },
    {
     "name": "stdout",
     "output_type": "stream",
     "text": [
      "resultsmnet/images\\cate2-00170.jpg\n",
      "1/1 [==============================] - 0s 494ms/step\n"
     ]
    },
    {
     "name": "stderr",
     "output_type": "stream",
     "text": [
      "\r",
      " 89%|███████████████████████████████████████████████████████████████████████▍        | 268/300 [02:43<00:19,  1.66it/s]"
     ]
    },
    {
     "name": "stdout",
     "output_type": "stream",
     "text": [
      "resultsmnet/images\\cate8-00039.jpg\n",
      "1/1 [==============================] - 1s 513ms/step\n"
     ]
    },
    {
     "name": "stderr",
     "output_type": "stream",
     "text": [
      "\r",
      " 90%|███████████████████████████████████████████████████████████████████████▋        | 269/300 [02:44<00:18,  1.67it/s]"
     ]
    },
    {
     "name": "stdout",
     "output_type": "stream",
     "text": [
      "resultsmnet/images\\cate1-00038.jpg\n",
      "1/1 [==============================] - 1s 509ms/step\n"
     ]
    },
    {
     "name": "stderr",
     "output_type": "stream",
     "text": [
      "\r",
      " 90%|████████████████████████████████████████████████████████████████████████        | 270/300 [02:44<00:18,  1.65it/s]"
     ]
    },
    {
     "name": "stdout",
     "output_type": "stream",
     "text": [
      "resultsmnet/images\\cate8-00082.jpg\n",
      "1/1 [==============================] - 1s 501ms/step\n"
     ]
    },
    {
     "name": "stderr",
     "output_type": "stream",
     "text": [
      "\r",
      " 90%|████████████████████████████████████████████████████████████████████████▎       | 271/300 [02:45<00:17,  1.66it/s]"
     ]
    },
    {
     "name": "stdout",
     "output_type": "stream",
     "text": [
      "resultsmnet/images\\cate8-00111.jpg\n",
      "1/1 [==============================] - 1s 505ms/step\n"
     ]
    },
    {
     "name": "stderr",
     "output_type": "stream",
     "text": [
      "\r",
      " 91%|████████████████████████████████████████████████████████████████████████▌       | 272/300 [02:45<00:16,  1.66it/s]"
     ]
    },
    {
     "name": "stdout",
     "output_type": "stream",
     "text": [
      "resultsmnet/images\\cate7-00013.jpg\n",
      "1/1 [==============================] - 1s 501ms/step\n"
     ]
    },
    {
     "name": "stderr",
     "output_type": "stream",
     "text": [
      "\r",
      " 91%|████████████████████████████████████████████████████████████████████████▊       | 273/300 [02:46<00:16,  1.66it/s]"
     ]
    },
    {
     "name": "stdout",
     "output_type": "stream",
     "text": [
      "resultsmnet/images\\cate8-00116.jpg\n",
      "1/1 [==============================] - 0s 497ms/step\n"
     ]
    },
    {
     "name": "stderr",
     "output_type": "stream",
     "text": [
      "\r",
      " 91%|█████████████████████████████████████████████████████████████████████████       | 274/300 [02:47<00:15,  1.66it/s]"
     ]
    },
    {
     "name": "stdout",
     "output_type": "stream",
     "text": [
      "resultsmnet/images\\cate8-00342.jpg\n",
      "1/1 [==============================] - 0s 495ms/step\n"
     ]
    },
    {
     "name": "stderr",
     "output_type": "stream",
     "text": [
      "\r",
      " 92%|█████████████████████████████████████████████████████████████████████████▎      | 275/300 [02:47<00:15,  1.66it/s]"
     ]
    },
    {
     "name": "stdout",
     "output_type": "stream",
     "text": [
      "resultsmnet/images\\cate9-00014.jpg\n",
      "1/1 [==============================] - 1s 514ms/step\n"
     ]
    },
    {
     "name": "stderr",
     "output_type": "stream",
     "text": [
      "\r",
      " 92%|█████████████████████████████████████████████████████████████████████████▌      | 276/300 [02:48<00:14,  1.66it/s]"
     ]
    },
    {
     "name": "stdout",
     "output_type": "stream",
     "text": [
      "resultsmnet/images\\cate4-00131.jpg\n",
      "1/1 [==============================] - 1s 512ms/step\n"
     ]
    },
    {
     "name": "stderr",
     "output_type": "stream",
     "text": [
      "\r",
      " 92%|█████████████████████████████████████████████████████████████████████████▊      | 277/300 [02:48<00:13,  1.66it/s]"
     ]
    },
    {
     "name": "stdout",
     "output_type": "stream",
     "text": [
      "resultsmnet/images\\cate9-00029.jpg\n",
      "1/1 [==============================] - 1s 505ms/step\n"
     ]
    },
    {
     "name": "stderr",
     "output_type": "stream",
     "text": [
      "\r",
      " 93%|██████████████████████████████████████████████████████████████████████████▏     | 278/300 [02:49<00:13,  1.66it/s]"
     ]
    },
    {
     "name": "stdout",
     "output_type": "stream",
     "text": [
      "resultsmnet/images\\cate2-00161.jpg\n",
      "1/1 [==============================] - 1s 508ms/step\n"
     ]
    },
    {
     "name": "stderr",
     "output_type": "stream",
     "text": [
      "\r",
      " 93%|██████████████████████████████████████████████████████████████████████████▍     | 279/300 [02:50<00:12,  1.66it/s]"
     ]
    },
    {
     "name": "stdout",
     "output_type": "stream",
     "text": [
      "resultsmnet/images\\cate10-00008.jpg\n",
      "1/1 [==============================] - 1s 505ms/step\n"
     ]
    },
    {
     "name": "stderr",
     "output_type": "stream",
     "text": [
      "\r",
      " 93%|██████████████████████████████████████████████████████████████████████████▋     | 280/300 [02:50<00:12,  1.66it/s]"
     ]
    },
    {
     "name": "stdout",
     "output_type": "stream",
     "text": [
      "resultsmnet/images\\cate7-00026.jpg\n",
      "1/1 [==============================] - 1s 500ms/step\n"
     ]
    },
    {
     "name": "stderr",
     "output_type": "stream",
     "text": [
      "\r",
      " 94%|██████████████████████████████████████████████████████████████████████████▉     | 281/300 [02:51<00:11,  1.66it/s]"
     ]
    },
    {
     "name": "stdout",
     "output_type": "stream",
     "text": [
      "resultsmnet/images\\cate8-00183.jpg\n",
      "1/1 [==============================] - 1s 505ms/step\n"
     ]
    },
    {
     "name": "stderr",
     "output_type": "stream",
     "text": [
      "\r",
      " 94%|███████████████████████████████████████████████████████████████████████████▏    | 282/300 [02:51<00:10,  1.66it/s]"
     ]
    },
    {
     "name": "stdout",
     "output_type": "stream",
     "text": [
      "resultsmnet/images\\cate8-00065.jpg\n",
      "1/1 [==============================] - 1s 505ms/step\n"
     ]
    },
    {
     "name": "stderr",
     "output_type": "stream",
     "text": [
      "\r",
      " 94%|███████████████████████████████████████████████████████████████████████████▍    | 283/300 [02:52<00:10,  1.66it/s]"
     ]
    },
    {
     "name": "stdout",
     "output_type": "stream",
     "text": [
      "resultsmnet/images\\cate8-00115.jpg\n",
      "1/1 [==============================] - 1s 501ms/step\n"
     ]
    },
    {
     "name": "stderr",
     "output_type": "stream",
     "text": [
      "\r",
      " 95%|███████████████████████████████████████████████████████████████████████████▋    | 284/300 [02:53<00:09,  1.66it/s]"
     ]
    },
    {
     "name": "stdout",
     "output_type": "stream",
     "text": [
      "resultsmnet/images\\cate8-00445.jpg\n",
      "1/1 [==============================] - 1s 502ms/step\n"
     ]
    },
    {
     "name": "stderr",
     "output_type": "stream",
     "text": [
      "\r",
      " 95%|████████████████████████████████████████████████████████████████████████████    | 285/300 [02:53<00:09,  1.66it/s]"
     ]
    },
    {
     "name": "stdout",
     "output_type": "stream",
     "text": [
      "resultsmnet/images\\cate7-00012.jpg\n",
      "1/1 [==============================] - 1s 513ms/step\n"
     ]
    },
    {
     "name": "stderr",
     "output_type": "stream",
     "text": [
      "\r",
      " 95%|████████████████████████████████████████████████████████████████████████████▎   | 286/300 [02:54<00:08,  1.66it/s]"
     ]
    },
    {
     "name": "stdout",
     "output_type": "stream",
     "text": [
      "resultsmnet/images\\cate8-00257.jpg\n",
      "1/1 [==============================] - 1s 513ms/step\n"
     ]
    },
    {
     "name": "stderr",
     "output_type": "stream",
     "text": [
      "\r",
      " 96%|████████████████████████████████████████████████████████████████████████████▌   | 287/300 [02:54<00:07,  1.66it/s]"
     ]
    },
    {
     "name": "stdout",
     "output_type": "stream",
     "text": [
      "resultsmnet/images\\cate10-00101.jpg\n",
      "1/1 [==============================] - 0s 494ms/step\n"
     ]
    },
    {
     "name": "stderr",
     "output_type": "stream",
     "text": [
      "\r",
      " 96%|████████████████████████████████████████████████████████████████████████████▊   | 288/300 [02:55<00:07,  1.66it/s]"
     ]
    },
    {
     "name": "stdout",
     "output_type": "stream",
     "text": [
      "resultsmnet/images\\cate1-00051.jpg\n",
      "1/1 [==============================] - 1s 539ms/step\n"
     ]
    },
    {
     "name": "stderr",
     "output_type": "stream",
     "text": [
      "\r",
      " 96%|█████████████████████████████████████████████████████████████████████████████   | 289/300 [02:56<00:06,  1.61it/s]"
     ]
    },
    {
     "name": "stdout",
     "output_type": "stream",
     "text": [
      "resultsmnet/images\\cate2-00030.jpg\n",
      "1/1 [==============================] - 1s 515ms/step\n"
     ]
    },
    {
     "name": "stderr",
     "output_type": "stream",
     "text": [
      "\r",
      " 97%|█████████████████████████████████████████████████████████████████████████████▎  | 290/300 [02:56<00:06,  1.62it/s]"
     ]
    },
    {
     "name": "stdout",
     "output_type": "stream",
     "text": [
      "resultsmnet/images\\cate10-00026.jpg\n",
      "1/1 [==============================] - 1s 511ms/step\n"
     ]
    },
    {
     "name": "stderr",
     "output_type": "stream",
     "text": [
      "\r",
      " 97%|█████████████████████████████████████████████████████████████████████████████▌  | 291/300 [02:57<00:05,  1.62it/s]"
     ]
    },
    {
     "name": "stdout",
     "output_type": "stream",
     "text": [
      "resultsmnet/images\\cate6-00025.jpg\n",
      "1/1 [==============================] - 1s 521ms/step\n"
     ]
    },
    {
     "name": "stderr",
     "output_type": "stream",
     "text": [
      "\r",
      " 97%|█████████████████████████████████████████████████████████████████████████████▊  | 292/300 [02:58<00:04,  1.61it/s]"
     ]
    },
    {
     "name": "stdout",
     "output_type": "stream",
     "text": [
      "resultsmnet/images\\cate2-00198.jpg\n",
      "1/1 [==============================] - 1s 511ms/step\n"
     ]
    },
    {
     "name": "stderr",
     "output_type": "stream",
     "text": [
      "\r",
      " 98%|██████████████████████████████████████████████████████████████████████████████▏ | 293/300 [02:58<00:04,  1.60it/s]"
     ]
    },
    {
     "name": "stdout",
     "output_type": "stream",
     "text": [
      "resultsmnet/images\\cate2-00061.jpg\n",
      "1/1 [==============================] - 1s 508ms/step\n"
     ]
    },
    {
     "name": "stderr",
     "output_type": "stream",
     "text": [
      "\r",
      " 98%|██████████████████████████████████████████████████████████████████████████████▍ | 294/300 [02:59<00:03,  1.62it/s]"
     ]
    },
    {
     "name": "stdout",
     "output_type": "stream",
     "text": [
      "resultsmnet/images\\cate6-00035.jpg\n",
      "1/1 [==============================] - 1s 508ms/step\n"
     ]
    },
    {
     "name": "stderr",
     "output_type": "stream",
     "text": [
      "\r",
      " 98%|██████████████████████████████████████████████████████████████████████████████▋ | 295/300 [02:59<00:03,  1.63it/s]"
     ]
    },
    {
     "name": "stdout",
     "output_type": "stream",
     "text": [
      "resultsmnet/images\\cate7-00105.jpg\n",
      "1/1 [==============================] - 1s 512ms/step\n"
     ]
    },
    {
     "name": "stderr",
     "output_type": "stream",
     "text": [
      "\r",
      " 99%|██████████████████████████████████████████████████████████████████████████████▉ | 296/300 [03:00<00:02,  1.64it/s]"
     ]
    },
    {
     "name": "stdout",
     "output_type": "stream",
     "text": [
      "resultsmnet/images\\cate6-00056.jpg\n",
      "1/1 [==============================] - 0s 500ms/step\n"
     ]
    },
    {
     "name": "stderr",
     "output_type": "stream",
     "text": [
      "\r",
      " 99%|███████████████████████████████████████████████████████████████████████████████▏| 297/300 [03:01<00:01,  1.64it/s]"
     ]
    },
    {
     "name": "stdout",
     "output_type": "stream",
     "text": [
      "resultsmnet/images\\cate2-00217.jpg\n",
      "1/1 [==============================] - 1s 510ms/step\n"
     ]
    },
    {
     "name": "stderr",
     "output_type": "stream",
     "text": [
      "\r",
      " 99%|███████████████████████████████████████████████████████████████████████████████▍| 298/300 [03:01<00:01,  1.65it/s]"
     ]
    },
    {
     "name": "stdout",
     "output_type": "stream",
     "text": [
      "resultsmnet/images\\cate7-00090.jpg\n",
      "1/1 [==============================] - 1s 510ms/step\n"
     ]
    },
    {
     "name": "stderr",
     "output_type": "stream",
     "text": [
      "\r",
      "100%|███████████████████████████████████████████████████████████████████████████████▋| 299/300 [03:02<00:00,  1.65it/s]"
     ]
    },
    {
     "name": "stdout",
     "output_type": "stream",
     "text": [
      "resultsmnet/images\\cate9-00017.jpg\n",
      "1/1 [==============================] - 1s 510ms/step\n"
     ]
    },
    {
     "name": "stderr",
     "output_type": "stream",
     "text": [
      "100%|████████████████████████████████████████████████████████████████████████████████| 300/300 [03:02<00:00,  1.64it/s]"
     ]
    },
    {
     "name": "stdout",
     "output_type": "stream",
     "text": [
      "resultsmnet/images\\cate4-00112.jpg\n",
      "Accuracy: 0.90364\n",
      "F1: 0.67949\n",
      "Jaccard: 0.52357\n",
      "Recall: 0.56179\n",
      "Precision: 0.90131\n"
     ]
    },
    {
     "name": "stderr",
     "output_type": "stream",
     "text": [
      "\n"
     ]
    }
   ],
   "source": [
    "#test\n",
    "import os\n",
    "os.environ[\"TF_CPP_MIN_LOG_LEVEL\"] = \"0\"\n",
    "import numpy as np\n",
    "import cv2\n",
    "import pandas as pd\n",
    "from glob import glob\n",
    "from tqdm import tqdm\n",
    "import tensorflow as tf\n",
    "from tensorflow.keras.utils import CustomObjectScope\n",
    "from sklearn.metrics import accuracy_score, f1_score, jaccard_score, precision_score, recall_score\n",
    "#from metrics import dice_loss, dice_coef, iou\n",
    "#from train import load_data, create_dir\n",
    "\n",
    "H = 256\n",
    "W = 256\n",
    "\n",
    "def read_image(path):\n",
    "    x = cv2.imread(path, cv2.IMREAD_COLOR)  ## (H, W, 3)\n",
    "    x = cv2.resize(x, (W, H))\n",
    "    ori_x = x\n",
    "    x = x/255.0\n",
    "    x = x.astype(np.float32)\n",
    "    x = np.expand_dims(x, axis=0)\n",
    "    return ori_x, x                                ## (1, 256, 256, 3)\n",
    "\n",
    "\n",
    "def read_mask(path):\n",
    "    x = cv2.imread(path, cv2.IMREAD_GRAYSCALE)  ## (H, W)\n",
    "    x = cv2.resize(x, (W, H))\n",
    "    ori_x = x\n",
    "    x = x/255.0\n",
    "    x = x.astype(np.int32)                    ## (256, 256)\n",
    "    return ori_x, x\n",
    "\n",
    "def save_results(ori_x, ori_y, y_pred, save_image_path):\n",
    "    line = np.ones((H, 10, 3)) * 255\n",
    "\n",
    "    ori_y = np.expand_dims(ori_y, axis=-1)  ## (256, 256, 1)\n",
    "    ori_y = np.concatenate([ori_y, ori_y, ori_y], axis=-1) ## (256, 256, 3)\n",
    "\n",
    "    y_pred = np.expand_dims(y_pred, axis=-1)  ## (256, 256, 1)\n",
    "    y_pred = np.concatenate([y_pred, y_pred, y_pred], axis=-1) ## (256, 256, 3)\n",
    "\n",
    "    cat_images = np.concatenate([ori_x, line, ori_y, line, y_pred*255], axis=1)\n",
    "    cv2.imwrite(save_image_path, cat_images)\n",
    "\n",
    "def load_data(dataset_path, split=0.2):\n",
    "    dataset_path=dataset_path+\"/Dataset/\"\n",
    "    images = sorted(glob(os.path.join(dataset_path, \"images\", \"*.jpg\")))\n",
    "    masks = sorted(glob(os.path.join(dataset_path, \"tooth-semantic-masks\", \"*.png\")))\n",
    "\n",
    "    test_size = int(len(images) * split)\n",
    "\n",
    "    train_x, valid_x = train_test_split(images, test_size=test_size, random_state=42)\n",
    "    train_y, valid_y = train_test_split(masks, test_size=test_size, random_state=42)\n",
    "\n",
    "    train_x, test_x = train_test_split(train_x, test_size=test_size, random_state=42)\n",
    "    train_y, test_y = train_test_split(train_y, test_size=test_size, random_state=42)\n",
    "\n",
    "    return (train_x, train_y), (valid_x, valid_y), (test_x, test_y)\n",
    "\n",
    "\n",
    "if __name__ == \"__main__\":\n",
    "    \"\"\" Seeding \"\"\"\n",
    "    np.random.seed(42)\n",
    "    tf.random.set_seed(42)\n",
    "\n",
    "    \"\"\" Folder for saving results \"\"\"\n",
    "    create_dir(\"resultsmnet\")\n",
    "\n",
    "    \"\"\" Load the model \"\"\"\n",
    "    with CustomObjectScope({'iou': iou, 'dice_coef': dice_coef}):\n",
    "        model = tf.keras.models.load_model(\"filesmnet/model.h5\")\n",
    "\n",
    "    \"\"\" Load the test data \"\"\"\n",
    "    dataset_path = os.getcwd()\n",
    "    (train_x, train_y), (valid_x, valid_y), (test_x, test_y) = load_data(dataset_path)\n",
    "\n",
    "    SCORE = []\n",
    "    for x, y in tqdm(zip(test_x, test_y), total=len(test_x)):\n",
    "        \"\"\" Exctracting the image name \"\"\"\n",
    "        name = x.split(\"/\")[-1]\n",
    "\n",
    "        \"\"\" Read the image and mask \"\"\"\n",
    "        ori_x, x = read_image(x)\n",
    "        ori_y, y = read_mask(y)\n",
    "\n",
    "        \"\"\" Predicting the mask \"\"\"\n",
    "        y_pred = model.predict(x)[0] > 0.5\n",
    "        y_pred = np.squeeze(y_pred, axis=-1)\n",
    "        y_pred = y_pred.astype(np.int32)\n",
    "\n",
    "        \"\"\" Saving the predicted mask \"\"\"\n",
    "        save_image_path = f\"resultsmnet/{name}\"\n",
    "        save_results(ori_x, ori_y, y_pred, save_image_path)\n",
    "        print(save_image_path)\n",
    "\n",
    "        \"\"\" Flatten the array \"\"\"\n",
    "        y = y.flatten()\n",
    "        y_pred = y_pred.flatten()\n",
    "\n",
    "        \"\"\" Calculating metrics values \"\"\"\n",
    "        acc_value = accuracy_score(y, y_pred)\n",
    "        f1_value = f1_score(y, y_pred, labels=[0, 1], average=\"binary\")\n",
    "        jac_value = jaccard_score(y, y_pred, labels=[0, 1], average=\"binary\")\n",
    "        recall_value = recall_score(y, y_pred, labels=[0, 1], average=\"binary\")\n",
    "        precision_value = precision_score(y, y_pred, labels=[0, 1], average=\"binary\")\n",
    "        SCORE.append([name, acc_value, f1_value, jac_value, recall_value, precision_value])\n",
    "\n",
    "    \"\"\" mean metrics values \"\"\"\n",
    "    score = [s[1:] for s in SCORE]\n",
    "    score = np.mean(score, axis=0)\n",
    "    print(f\"Accuracy: {score[0]:0.5f}\")\n",
    "    print(f\"F1: {score[1]:0.5f}\")\n",
    "    print(f\"Jaccard: {score[2]:0.5f}\")\n",
    "    print(f\"Recall: {score[3]:0.5f}\")\n",
    "    print(f\"Precision: {score[4]:0.5f}\")\n",
    "\n",
    "    df = pd.DataFrame(SCORE, columns = [\"Image Name\", \"Acc\", \"F1\", \"Jaccard\", \"Recall\", \"Precision\"])\n",
    "    df.to_csv(\"files/score.csv\")"
   ]
  },
  {
   "cell_type": "code",
   "execution_count": 8,
   "id": "ef510f5b",
   "metadata": {},
   "outputs": [
    {
     "name": "stdout",
     "output_type": "stream",
     "text": [
      "['C:\\\\Users\\\\chosun/dataset/images\\\\cate1-00001.jpg', 'C:\\\\Users\\\\chosun/dataset/images\\\\cate1-00002.jpg', 'C:\\\\Users\\\\chosun/dataset/images\\\\cate1-00003.jpg', 'C:\\\\Users\\\\chosun/dataset/images\\\\cate1-00004.jpg', 'C:\\\\Users\\\\chosun/dataset/images\\\\cate1-00005.jpg', 'C:\\\\Users\\\\chosun/dataset/images\\\\cate1-00006.jpg', 'C:\\\\Users\\\\chosun/dataset/images\\\\cate1-00007.jpg', 'C:\\\\Users\\\\chosun/dataset/images\\\\cate1-00008.jpg', 'C:\\\\Users\\\\chosun/dataset/images\\\\cate1-00009.jpg', 'C:\\\\Users\\\\chosun/dataset/images\\\\cate1-00010.jpg', 'C:\\\\Users\\\\chosun/dataset/images\\\\cate1-00011.jpg', 'C:\\\\Users\\\\chosun/dataset/images\\\\cate1-00012.jpg', 'C:\\\\Users\\\\chosun/dataset/images\\\\cate1-00013.jpg', 'C:\\\\Users\\\\chosun/dataset/images\\\\cate1-00014.jpg', 'C:\\\\Users\\\\chosun/dataset/images\\\\cate1-00015.jpg', 'C:\\\\Users\\\\chosun/dataset/images\\\\cate1-00016.jpg', 'C:\\\\Users\\\\chosun/dataset/images\\\\cate1-00017.jpg', 'C:\\\\Users\\\\chosun/dataset/images\\\\cate1-00018.jpg', 'C:\\\\Users\\\\chosun/dataset/images\\\\cate1-00019.jpg', 'C:\\\\Users\\\\chosun/dataset/images\\\\cate1-00020.jpg', 'C:\\\\Users\\\\chosun/dataset/images\\\\cate1-00021.jpg', 'C:\\\\Users\\\\chosun/dataset/images\\\\cate1-00022.jpg', 'C:\\\\Users\\\\chosun/dataset/images\\\\cate1-00023.jpg', 'C:\\\\Users\\\\chosun/dataset/images\\\\cate1-00024.jpg', 'C:\\\\Users\\\\chosun/dataset/images\\\\cate1-00025.jpg', 'C:\\\\Users\\\\chosun/dataset/images\\\\cate1-00026.jpg', 'C:\\\\Users\\\\chosun/dataset/images\\\\cate1-00027.jpg', 'C:\\\\Users\\\\chosun/dataset/images\\\\cate1-00028.jpg', 'C:\\\\Users\\\\chosun/dataset/images\\\\cate1-00029.jpg', 'C:\\\\Users\\\\chosun/dataset/images\\\\cate1-00030.jpg', 'C:\\\\Users\\\\chosun/dataset/images\\\\cate1-00031.jpg', 'C:\\\\Users\\\\chosun/dataset/images\\\\cate1-00032.jpg', 'C:\\\\Users\\\\chosun/dataset/images\\\\cate1-00033.jpg', 'C:\\\\Users\\\\chosun/dataset/images\\\\cate1-00034.jpg', 'C:\\\\Users\\\\chosun/dataset/images\\\\cate1-00035.jpg', 'C:\\\\Users\\\\chosun/dataset/images\\\\cate1-00036.jpg', 'C:\\\\Users\\\\chosun/dataset/images\\\\cate1-00037.jpg', 'C:\\\\Users\\\\chosun/dataset/images\\\\cate1-00038.jpg', 'C:\\\\Users\\\\chosun/dataset/images\\\\cate1-00039.jpg', 'C:\\\\Users\\\\chosun/dataset/images\\\\cate1-00040.jpg', 'C:\\\\Users\\\\chosun/dataset/images\\\\cate1-00041.jpg', 'C:\\\\Users\\\\chosun/dataset/images\\\\cate1-00042.jpg', 'C:\\\\Users\\\\chosun/dataset/images\\\\cate1-00043.jpg', 'C:\\\\Users\\\\chosun/dataset/images\\\\cate1-00044.jpg', 'C:\\\\Users\\\\chosun/dataset/images\\\\cate1-00045.jpg', 'C:\\\\Users\\\\chosun/dataset/images\\\\cate1-00046.jpg', 'C:\\\\Users\\\\chosun/dataset/images\\\\cate1-00047.jpg', 'C:\\\\Users\\\\chosun/dataset/images\\\\cate1-00048.jpg', 'C:\\\\Users\\\\chosun/dataset/images\\\\cate1-00049.jpg', 'C:\\\\Users\\\\chosun/dataset/images\\\\cate1-00050.jpg', 'C:\\\\Users\\\\chosun/dataset/images\\\\cate1-00051.jpg', 'C:\\\\Users\\\\chosun/dataset/images\\\\cate1-00052.jpg', 'C:\\\\Users\\\\chosun/dataset/images\\\\cate1-00053.jpg', 'C:\\\\Users\\\\chosun/dataset/images\\\\cate1-00054.jpg', 'C:\\\\Users\\\\chosun/dataset/images\\\\cate1-00055.jpg', 'C:\\\\Users\\\\chosun/dataset/images\\\\cate1-00056.jpg', 'C:\\\\Users\\\\chosun/dataset/images\\\\cate1-00057.jpg', 'C:\\\\Users\\\\chosun/dataset/images\\\\cate1-00058.jpg', 'C:\\\\Users\\\\chosun/dataset/images\\\\cate1-00059.jpg', 'C:\\\\Users\\\\chosun/dataset/images\\\\cate1-00060.jpg', 'C:\\\\Users\\\\chosun/dataset/images\\\\cate1-00061.jpg', 'C:\\\\Users\\\\chosun/dataset/images\\\\cate1-00062.jpg', 'C:\\\\Users\\\\chosun/dataset/images\\\\cate1-00063.jpg', 'C:\\\\Users\\\\chosun/dataset/images\\\\cate1-00064.jpg', 'C:\\\\Users\\\\chosun/dataset/images\\\\cate1-00065.jpg', 'C:\\\\Users\\\\chosun/dataset/images\\\\cate1-00066.jpg', 'C:\\\\Users\\\\chosun/dataset/images\\\\cate1-00067.jpg', 'C:\\\\Users\\\\chosun/dataset/images\\\\cate1-00068.jpg', 'C:\\\\Users\\\\chosun/dataset/images\\\\cate1-00069.jpg', 'C:\\\\Users\\\\chosun/dataset/images\\\\cate1-00070.jpg', 'C:\\\\Users\\\\chosun/dataset/images\\\\cate1-00071.jpg', 'C:\\\\Users\\\\chosun/dataset/images\\\\cate1-00072.jpg', 'C:\\\\Users\\\\chosun/dataset/images\\\\cate1-00073.jpg', 'C:\\\\Users\\\\chosun/dataset/images\\\\cate10-00001.jpg', 'C:\\\\Users\\\\chosun/dataset/images\\\\cate10-00002.jpg', 'C:\\\\Users\\\\chosun/dataset/images\\\\cate10-00003.jpg', 'C:\\\\Users\\\\chosun/dataset/images\\\\cate10-00004.jpg', 'C:\\\\Users\\\\chosun/dataset/images\\\\cate10-00005.jpg', 'C:\\\\Users\\\\chosun/dataset/images\\\\cate10-00006.jpg', 'C:\\\\Users\\\\chosun/dataset/images\\\\cate10-00007.jpg', 'C:\\\\Users\\\\chosun/dataset/images\\\\cate10-00008.jpg', 'C:\\\\Users\\\\chosun/dataset/images\\\\cate10-00009.jpg', 'C:\\\\Users\\\\chosun/dataset/images\\\\cate10-00010.jpg', 'C:\\\\Users\\\\chosun/dataset/images\\\\cate10-00011.jpg', 'C:\\\\Users\\\\chosun/dataset/images\\\\cate10-00012.jpg', 'C:\\\\Users\\\\chosun/dataset/images\\\\cate10-00013.jpg', 'C:\\\\Users\\\\chosun/dataset/images\\\\cate10-00014.jpg', 'C:\\\\Users\\\\chosun/dataset/images\\\\cate10-00015.jpg', 'C:\\\\Users\\\\chosun/dataset/images\\\\cate10-00016.jpg', 'C:\\\\Users\\\\chosun/dataset/images\\\\cate10-00017.jpg', 'C:\\\\Users\\\\chosun/dataset/images\\\\cate10-00018.jpg', 'C:\\\\Users\\\\chosun/dataset/images\\\\cate10-00019.jpg', 'C:\\\\Users\\\\chosun/dataset/images\\\\cate10-00020.jpg', 'C:\\\\Users\\\\chosun/dataset/images\\\\cate10-00021.jpg', 'C:\\\\Users\\\\chosun/dataset/images\\\\cate10-00022.jpg', 'C:\\\\Users\\\\chosun/dataset/images\\\\cate10-00023.jpg', 'C:\\\\Users\\\\chosun/dataset/images\\\\cate10-00024.jpg', 'C:\\\\Users\\\\chosun/dataset/images\\\\cate10-00025.jpg', 'C:\\\\Users\\\\chosun/dataset/images\\\\cate10-00026.jpg', 'C:\\\\Users\\\\chosun/dataset/images\\\\cate10-00027.jpg', 'C:\\\\Users\\\\chosun/dataset/images\\\\cate10-00028.jpg', 'C:\\\\Users\\\\chosun/dataset/images\\\\cate10-00029.jpg', 'C:\\\\Users\\\\chosun/dataset/images\\\\cate10-00030.jpg', 'C:\\\\Users\\\\chosun/dataset/images\\\\cate10-00031.jpg', 'C:\\\\Users\\\\chosun/dataset/images\\\\cate10-00032.jpg', 'C:\\\\Users\\\\chosun/dataset/images\\\\cate10-00033.jpg', 'C:\\\\Users\\\\chosun/dataset/images\\\\cate10-00034.jpg', 'C:\\\\Users\\\\chosun/dataset/images\\\\cate10-00035.jpg', 'C:\\\\Users\\\\chosun/dataset/images\\\\cate10-00036.jpg', 'C:\\\\Users\\\\chosun/dataset/images\\\\cate10-00037.jpg', 'C:\\\\Users\\\\chosun/dataset/images\\\\cate10-00038.jpg', 'C:\\\\Users\\\\chosun/dataset/images\\\\cate10-00039.jpg', 'C:\\\\Users\\\\chosun/dataset/images\\\\cate10-00040.jpg', 'C:\\\\Users\\\\chosun/dataset/images\\\\cate10-00041.jpg', 'C:\\\\Users\\\\chosun/dataset/images\\\\cate10-00042.jpg', 'C:\\\\Users\\\\chosun/dataset/images\\\\cate10-00043.jpg', 'C:\\\\Users\\\\chosun/dataset/images\\\\cate10-00044.jpg', 'C:\\\\Users\\\\chosun/dataset/images\\\\cate10-00045.jpg', 'C:\\\\Users\\\\chosun/dataset/images\\\\cate10-00046.jpg', 'C:\\\\Users\\\\chosun/dataset/images\\\\cate10-00047.jpg', 'C:\\\\Users\\\\chosun/dataset/images\\\\cate10-00048.jpg', 'C:\\\\Users\\\\chosun/dataset/images\\\\cate10-00049.jpg', 'C:\\\\Users\\\\chosun/dataset/images\\\\cate10-00050.jpg', 'C:\\\\Users\\\\chosun/dataset/images\\\\cate10-00051.jpg', 'C:\\\\Users\\\\chosun/dataset/images\\\\cate10-00052.jpg', 'C:\\\\Users\\\\chosun/dataset/images\\\\cate10-00053.jpg', 'C:\\\\Users\\\\chosun/dataset/images\\\\cate10-00054.jpg', 'C:\\\\Users\\\\chosun/dataset/images\\\\cate10-00055.jpg', 'C:\\\\Users\\\\chosun/dataset/images\\\\cate10-00056.jpg', 'C:\\\\Users\\\\chosun/dataset/images\\\\cate10-00057.jpg', 'C:\\\\Users\\\\chosun/dataset/images\\\\cate10-00058.jpg', 'C:\\\\Users\\\\chosun/dataset/images\\\\cate10-00059.jpg', 'C:\\\\Users\\\\chosun/dataset/images\\\\cate10-00060.jpg', 'C:\\\\Users\\\\chosun/dataset/images\\\\cate10-00061.jpg', 'C:\\\\Users\\\\chosun/dataset/images\\\\cate10-00062.jpg', 'C:\\\\Users\\\\chosun/dataset/images\\\\cate10-00063.jpg', 'C:\\\\Users\\\\chosun/dataset/images\\\\cate10-00064.jpg', 'C:\\\\Users\\\\chosun/dataset/images\\\\cate10-00065.jpg', 'C:\\\\Users\\\\chosun/dataset/images\\\\cate10-00066.jpg', 'C:\\\\Users\\\\chosun/dataset/images\\\\cate10-00067.jpg', 'C:\\\\Users\\\\chosun/dataset/images\\\\cate10-00068.jpg', 'C:\\\\Users\\\\chosun/dataset/images\\\\cate10-00069.jpg', 'C:\\\\Users\\\\chosun/dataset/images\\\\cate10-00070.jpg', 'C:\\\\Users\\\\chosun/dataset/images\\\\cate10-00071.jpg', 'C:\\\\Users\\\\chosun/dataset/images\\\\cate10-00072.jpg', 'C:\\\\Users\\\\chosun/dataset/images\\\\cate10-00073.jpg', 'C:\\\\Users\\\\chosun/dataset/images\\\\cate10-00074.jpg', 'C:\\\\Users\\\\chosun/dataset/images\\\\cate10-00075.jpg', 'C:\\\\Users\\\\chosun/dataset/images\\\\cate10-00076.jpg', 'C:\\\\Users\\\\chosun/dataset/images\\\\cate10-00077.jpg', 'C:\\\\Users\\\\chosun/dataset/images\\\\cate10-00078.jpg', 'C:\\\\Users\\\\chosun/dataset/images\\\\cate10-00079.jpg', 'C:\\\\Users\\\\chosun/dataset/images\\\\cate10-00080.jpg', 'C:\\\\Users\\\\chosun/dataset/images\\\\cate10-00081.jpg', 'C:\\\\Users\\\\chosun/dataset/images\\\\cate10-00082.jpg', 'C:\\\\Users\\\\chosun/dataset/images\\\\cate10-00083.jpg', 'C:\\\\Users\\\\chosun/dataset/images\\\\cate10-00084.jpg', 'C:\\\\Users\\\\chosun/dataset/images\\\\cate10-00085.jpg', 'C:\\\\Users\\\\chosun/dataset/images\\\\cate10-00086.jpg', 'C:\\\\Users\\\\chosun/dataset/images\\\\cate10-00087.jpg', 'C:\\\\Users\\\\chosun/dataset/images\\\\cate10-00088.jpg', 'C:\\\\Users\\\\chosun/dataset/images\\\\cate10-00089.jpg', 'C:\\\\Users\\\\chosun/dataset/images\\\\cate10-00090.jpg', 'C:\\\\Users\\\\chosun/dataset/images\\\\cate10-00091.jpg', 'C:\\\\Users\\\\chosun/dataset/images\\\\cate10-00092.jpg', 'C:\\\\Users\\\\chosun/dataset/images\\\\cate10-00093.jpg', 'C:\\\\Users\\\\chosun/dataset/images\\\\cate10-00094.jpg', 'C:\\\\Users\\\\chosun/dataset/images\\\\cate10-00095.jpg', 'C:\\\\Users\\\\chosun/dataset/images\\\\cate10-00096.jpg', 'C:\\\\Users\\\\chosun/dataset/images\\\\cate10-00097.jpg', 'C:\\\\Users\\\\chosun/dataset/images\\\\cate10-00098.jpg', 'C:\\\\Users\\\\chosun/dataset/images\\\\cate10-00099.jpg', 'C:\\\\Users\\\\chosun/dataset/images\\\\cate10-00100.jpg', 'C:\\\\Users\\\\chosun/dataset/images\\\\cate10-00101.jpg', 'C:\\\\Users\\\\chosun/dataset/images\\\\cate10-00102.jpg', 'C:\\\\Users\\\\chosun/dataset/images\\\\cate10-00103.jpg', 'C:\\\\Users\\\\chosun/dataset/images\\\\cate10-00104.jpg', 'C:\\\\Users\\\\chosun/dataset/images\\\\cate10-00105.jpg', 'C:\\\\Users\\\\chosun/dataset/images\\\\cate10-00106.jpg', 'C:\\\\Users\\\\chosun/dataset/images\\\\cate10-00107.jpg', 'C:\\\\Users\\\\chosun/dataset/images\\\\cate10-00108.jpg', 'C:\\\\Users\\\\chosun/dataset/images\\\\cate10-00109.jpg', 'C:\\\\Users\\\\chosun/dataset/images\\\\cate10-00110.jpg', 'C:\\\\Users\\\\chosun/dataset/images\\\\cate10-00111.jpg', 'C:\\\\Users\\\\chosun/dataset/images\\\\cate10-00112.jpg', 'C:\\\\Users\\\\chosun/dataset/images\\\\cate10-00113.jpg', 'C:\\\\Users\\\\chosun/dataset/images\\\\cate10-00114.jpg', 'C:\\\\Users\\\\chosun/dataset/images\\\\cate10-00115.jpg', 'C:\\\\Users\\\\chosun/dataset/images\\\\cate2-00001.jpg', 'C:\\\\Users\\\\chosun/dataset/images\\\\cate2-00002.jpg', 'C:\\\\Users\\\\chosun/dataset/images\\\\cate2-00003.jpg', 'C:\\\\Users\\\\chosun/dataset/images\\\\cate2-00004.jpg', 'C:\\\\Users\\\\chosun/dataset/images\\\\cate2-00005.jpg', 'C:\\\\Users\\\\chosun/dataset/images\\\\cate2-00006.jpg', 'C:\\\\Users\\\\chosun/dataset/images\\\\cate2-00007.jpg', 'C:\\\\Users\\\\chosun/dataset/images\\\\cate2-00008.jpg', 'C:\\\\Users\\\\chosun/dataset/images\\\\cate2-00009.jpg', 'C:\\\\Users\\\\chosun/dataset/images\\\\cate2-00010.jpg', 'C:\\\\Users\\\\chosun/dataset/images\\\\cate2-00011.jpg', 'C:\\\\Users\\\\chosun/dataset/images\\\\cate2-00012.jpg', 'C:\\\\Users\\\\chosun/dataset/images\\\\cate2-00013.jpg', 'C:\\\\Users\\\\chosun/dataset/images\\\\cate2-00014.jpg', 'C:\\\\Users\\\\chosun/dataset/images\\\\cate2-00015.jpg', 'C:\\\\Users\\\\chosun/dataset/images\\\\cate2-00016.jpg', 'C:\\\\Users\\\\chosun/dataset/images\\\\cate2-00017.jpg', 'C:\\\\Users\\\\chosun/dataset/images\\\\cate2-00018.jpg', 'C:\\\\Users\\\\chosun/dataset/images\\\\cate2-00019.jpg', 'C:\\\\Users\\\\chosun/dataset/images\\\\cate2-00020.jpg', 'C:\\\\Users\\\\chosun/dataset/images\\\\cate2-00021.jpg', 'C:\\\\Users\\\\chosun/dataset/images\\\\cate2-00022.jpg', 'C:\\\\Users\\\\chosun/dataset/images\\\\cate2-00023.jpg', 'C:\\\\Users\\\\chosun/dataset/images\\\\cate2-00024.jpg', 'C:\\\\Users\\\\chosun/dataset/images\\\\cate2-00025.jpg', 'C:\\\\Users\\\\chosun/dataset/images\\\\cate2-00026.jpg', 'C:\\\\Users\\\\chosun/dataset/images\\\\cate2-00027.jpg', 'C:\\\\Users\\\\chosun/dataset/images\\\\cate2-00028.jpg', 'C:\\\\Users\\\\chosun/dataset/images\\\\cate2-00029.jpg', 'C:\\\\Users\\\\chosun/dataset/images\\\\cate2-00030.jpg', 'C:\\\\Users\\\\chosun/dataset/images\\\\cate2-00031.jpg', 'C:\\\\Users\\\\chosun/dataset/images\\\\cate2-00032.jpg', 'C:\\\\Users\\\\chosun/dataset/images\\\\cate2-00033.jpg', 'C:\\\\Users\\\\chosun/dataset/images\\\\cate2-00034.jpg', 'C:\\\\Users\\\\chosun/dataset/images\\\\cate2-00035.jpg', 'C:\\\\Users\\\\chosun/dataset/images\\\\cate2-00036.jpg', 'C:\\\\Users\\\\chosun/dataset/images\\\\cate2-00037.jpg', 'C:\\\\Users\\\\chosun/dataset/images\\\\cate2-00038.jpg', 'C:\\\\Users\\\\chosun/dataset/images\\\\cate2-00039.jpg', 'C:\\\\Users\\\\chosun/dataset/images\\\\cate2-00040.jpg', 'C:\\\\Users\\\\chosun/dataset/images\\\\cate2-00041.jpg', 'C:\\\\Users\\\\chosun/dataset/images\\\\cate2-00042.jpg', 'C:\\\\Users\\\\chosun/dataset/images\\\\cate2-00043.jpg', 'C:\\\\Users\\\\chosun/dataset/images\\\\cate2-00044.jpg', 'C:\\\\Users\\\\chosun/dataset/images\\\\cate2-00045.jpg', 'C:\\\\Users\\\\chosun/dataset/images\\\\cate2-00046.jpg', 'C:\\\\Users\\\\chosun/dataset/images\\\\cate2-00047.jpg', 'C:\\\\Users\\\\chosun/dataset/images\\\\cate2-00048.jpg', 'C:\\\\Users\\\\chosun/dataset/images\\\\cate2-00049.jpg', 'C:\\\\Users\\\\chosun/dataset/images\\\\cate2-00050.jpg', 'C:\\\\Users\\\\chosun/dataset/images\\\\cate2-00051.jpg', 'C:\\\\Users\\\\chosun/dataset/images\\\\cate2-00052.jpg', 'C:\\\\Users\\\\chosun/dataset/images\\\\cate2-00053.jpg', 'C:\\\\Users\\\\chosun/dataset/images\\\\cate2-00054.jpg', 'C:\\\\Users\\\\chosun/dataset/images\\\\cate2-00055.jpg', 'C:\\\\Users\\\\chosun/dataset/images\\\\cate2-00056.jpg', 'C:\\\\Users\\\\chosun/dataset/images\\\\cate2-00057.jpg', 'C:\\\\Users\\\\chosun/dataset/images\\\\cate2-00058.jpg', 'C:\\\\Users\\\\chosun/dataset/images\\\\cate2-00059.jpg', 'C:\\\\Users\\\\chosun/dataset/images\\\\cate2-00060.jpg', 'C:\\\\Users\\\\chosun/dataset/images\\\\cate2-00061.jpg', 'C:\\\\Users\\\\chosun/dataset/images\\\\cate2-00062.jpg', 'C:\\\\Users\\\\chosun/dataset/images\\\\cate2-00063.jpg', 'C:\\\\Users\\\\chosun/dataset/images\\\\cate2-00064.jpg', 'C:\\\\Users\\\\chosun/dataset/images\\\\cate2-00065.jpg', 'C:\\\\Users\\\\chosun/dataset/images\\\\cate2-00066.jpg', 'C:\\\\Users\\\\chosun/dataset/images\\\\cate2-00067.jpg', 'C:\\\\Users\\\\chosun/dataset/images\\\\cate2-00068.jpg', 'C:\\\\Users\\\\chosun/dataset/images\\\\cate2-00069.jpg', 'C:\\\\Users\\\\chosun/dataset/images\\\\cate2-00070.jpg', 'C:\\\\Users\\\\chosun/dataset/images\\\\cate2-00071.jpg', 'C:\\\\Users\\\\chosun/dataset/images\\\\cate2-00072.jpg', 'C:\\\\Users\\\\chosun/dataset/images\\\\cate2-00073.jpg', 'C:\\\\Users\\\\chosun/dataset/images\\\\cate2-00074.jpg', 'C:\\\\Users\\\\chosun/dataset/images\\\\cate2-00075.jpg', 'C:\\\\Users\\\\chosun/dataset/images\\\\cate2-00076.jpg', 'C:\\\\Users\\\\chosun/dataset/images\\\\cate2-00077.jpg', 'C:\\\\Users\\\\chosun/dataset/images\\\\cate2-00078.jpg', 'C:\\\\Users\\\\chosun/dataset/images\\\\cate2-00079.jpg', 'C:\\\\Users\\\\chosun/dataset/images\\\\cate2-00080.jpg', 'C:\\\\Users\\\\chosun/dataset/images\\\\cate2-00081.jpg', 'C:\\\\Users\\\\chosun/dataset/images\\\\cate2-00082.jpg', 'C:\\\\Users\\\\chosun/dataset/images\\\\cate2-00083.jpg', 'C:\\\\Users\\\\chosun/dataset/images\\\\cate2-00084.jpg', 'C:\\\\Users\\\\chosun/dataset/images\\\\cate2-00085.jpg', 'C:\\\\Users\\\\chosun/dataset/images\\\\cate2-00086.jpg', 'C:\\\\Users\\\\chosun/dataset/images\\\\cate2-00087.jpg', 'C:\\\\Users\\\\chosun/dataset/images\\\\cate2-00088.jpg', 'C:\\\\Users\\\\chosun/dataset/images\\\\cate2-00089.jpg', 'C:\\\\Users\\\\chosun/dataset/images\\\\cate2-00090.jpg', 'C:\\\\Users\\\\chosun/dataset/images\\\\cate2-00091.jpg', 'C:\\\\Users\\\\chosun/dataset/images\\\\cate2-00092.jpg', 'C:\\\\Users\\\\chosun/dataset/images\\\\cate2-00093.jpg', 'C:\\\\Users\\\\chosun/dataset/images\\\\cate2-00094.jpg', 'C:\\\\Users\\\\chosun/dataset/images\\\\cate2-00095.jpg', 'C:\\\\Users\\\\chosun/dataset/images\\\\cate2-00096.jpg', 'C:\\\\Users\\\\chosun/dataset/images\\\\cate2-00097.jpg', 'C:\\\\Users\\\\chosun/dataset/images\\\\cate2-00098.jpg', 'C:\\\\Users\\\\chosun/dataset/images\\\\cate2-00099.jpg', 'C:\\\\Users\\\\chosun/dataset/images\\\\cate2-00100.jpg', 'C:\\\\Users\\\\chosun/dataset/images\\\\cate2-00101.jpg', 'C:\\\\Users\\\\chosun/dataset/images\\\\cate2-00102.jpg', 'C:\\\\Users\\\\chosun/dataset/images\\\\cate2-00103.jpg', 'C:\\\\Users\\\\chosun/dataset/images\\\\cate2-00104.jpg', 'C:\\\\Users\\\\chosun/dataset/images\\\\cate2-00105.jpg', 'C:\\\\Users\\\\chosun/dataset/images\\\\cate2-00106.jpg', 'C:\\\\Users\\\\chosun/dataset/images\\\\cate2-00107.jpg', 'C:\\\\Users\\\\chosun/dataset/images\\\\cate2-00108.jpg', 'C:\\\\Users\\\\chosun/dataset/images\\\\cate2-00109.jpg', 'C:\\\\Users\\\\chosun/dataset/images\\\\cate2-00110.jpg', 'C:\\\\Users\\\\chosun/dataset/images\\\\cate2-00111.jpg', 'C:\\\\Users\\\\chosun/dataset/images\\\\cate2-00112.jpg', 'C:\\\\Users\\\\chosun/dataset/images\\\\cate2-00113.jpg', 'C:\\\\Users\\\\chosun/dataset/images\\\\cate2-00114.jpg', 'C:\\\\Users\\\\chosun/dataset/images\\\\cate2-00115.jpg', 'C:\\\\Users\\\\chosun/dataset/images\\\\cate2-00116.jpg', 'C:\\\\Users\\\\chosun/dataset/images\\\\cate2-00117.jpg', 'C:\\\\Users\\\\chosun/dataset/images\\\\cate2-00118.jpg', 'C:\\\\Users\\\\chosun/dataset/images\\\\cate2-00119.jpg', 'C:\\\\Users\\\\chosun/dataset/images\\\\cate2-00120.jpg', 'C:\\\\Users\\\\chosun/dataset/images\\\\cate2-00121.jpg', 'C:\\\\Users\\\\chosun/dataset/images\\\\cate2-00122.jpg', 'C:\\\\Users\\\\chosun/dataset/images\\\\cate2-00123.jpg', 'C:\\\\Users\\\\chosun/dataset/images\\\\cate2-00124.jpg', 'C:\\\\Users\\\\chosun/dataset/images\\\\cate2-00125.jpg', 'C:\\\\Users\\\\chosun/dataset/images\\\\cate2-00126.jpg', 'C:\\\\Users\\\\chosun/dataset/images\\\\cate2-00127.jpg', 'C:\\\\Users\\\\chosun/dataset/images\\\\cate2-00128.jpg', 'C:\\\\Users\\\\chosun/dataset/images\\\\cate2-00129.jpg', 'C:\\\\Users\\\\chosun/dataset/images\\\\cate2-00130.jpg', 'C:\\\\Users\\\\chosun/dataset/images\\\\cate2-00131.jpg', 'C:\\\\Users\\\\chosun/dataset/images\\\\cate2-00132.jpg', 'C:\\\\Users\\\\chosun/dataset/images\\\\cate2-00133.jpg', 'C:\\\\Users\\\\chosun/dataset/images\\\\cate2-00134.jpg', 'C:\\\\Users\\\\chosun/dataset/images\\\\cate2-00135.jpg', 'C:\\\\Users\\\\chosun/dataset/images\\\\cate2-00136.jpg', 'C:\\\\Users\\\\chosun/dataset/images\\\\cate2-00137.jpg', 'C:\\\\Users\\\\chosun/dataset/images\\\\cate2-00138.jpg', 'C:\\\\Users\\\\chosun/dataset/images\\\\cate2-00139.jpg', 'C:\\\\Users\\\\chosun/dataset/images\\\\cate2-00140.jpg', 'C:\\\\Users\\\\chosun/dataset/images\\\\cate2-00141.jpg', 'C:\\\\Users\\\\chosun/dataset/images\\\\cate2-00142.jpg', 'C:\\\\Users\\\\chosun/dataset/images\\\\cate2-00143.jpg', 'C:\\\\Users\\\\chosun/dataset/images\\\\cate2-00144.jpg', 'C:\\\\Users\\\\chosun/dataset/images\\\\cate2-00145.jpg', 'C:\\\\Users\\\\chosun/dataset/images\\\\cate2-00146.jpg', 'C:\\\\Users\\\\chosun/dataset/images\\\\cate2-00147.jpg', 'C:\\\\Users\\\\chosun/dataset/images\\\\cate2-00148.jpg', 'C:\\\\Users\\\\chosun/dataset/images\\\\cate2-00149.jpg', 'C:\\\\Users\\\\chosun/dataset/images\\\\cate2-00150.jpg', 'C:\\\\Users\\\\chosun/dataset/images\\\\cate2-00151.jpg', 'C:\\\\Users\\\\chosun/dataset/images\\\\cate2-00152.jpg', 'C:\\\\Users\\\\chosun/dataset/images\\\\cate2-00153.jpg', 'C:\\\\Users\\\\chosun/dataset/images\\\\cate2-00154.jpg', 'C:\\\\Users\\\\chosun/dataset/images\\\\cate2-00155.jpg', 'C:\\\\Users\\\\chosun/dataset/images\\\\cate2-00156.jpg', 'C:\\\\Users\\\\chosun/dataset/images\\\\cate2-00157.jpg', 'C:\\\\Users\\\\chosun/dataset/images\\\\cate2-00158.jpg', 'C:\\\\Users\\\\chosun/dataset/images\\\\cate2-00159.jpg', 'C:\\\\Users\\\\chosun/dataset/images\\\\cate2-00160.jpg', 'C:\\\\Users\\\\chosun/dataset/images\\\\cate2-00161.jpg', 'C:\\\\Users\\\\chosun/dataset/images\\\\cate2-00162.jpg', 'C:\\\\Users\\\\chosun/dataset/images\\\\cate2-00163.jpg', 'C:\\\\Users\\\\chosun/dataset/images\\\\cate2-00164.jpg', 'C:\\\\Users\\\\chosun/dataset/images\\\\cate2-00165.jpg', 'C:\\\\Users\\\\chosun/dataset/images\\\\cate2-00166.jpg', 'C:\\\\Users\\\\chosun/dataset/images\\\\cate2-00167.jpg', 'C:\\\\Users\\\\chosun/dataset/images\\\\cate2-00168.jpg', 'C:\\\\Users\\\\chosun/dataset/images\\\\cate2-00169.jpg', 'C:\\\\Users\\\\chosun/dataset/images\\\\cate2-00170.jpg', 'C:\\\\Users\\\\chosun/dataset/images\\\\cate2-00171.jpg', 'C:\\\\Users\\\\chosun/dataset/images\\\\cate2-00172.jpg', 'C:\\\\Users\\\\chosun/dataset/images\\\\cate2-00173.jpg', 'C:\\\\Users\\\\chosun/dataset/images\\\\cate2-00174.jpg', 'C:\\\\Users\\\\chosun/dataset/images\\\\cate2-00175.jpg', 'C:\\\\Users\\\\chosun/dataset/images\\\\cate2-00176.jpg', 'C:\\\\Users\\\\chosun/dataset/images\\\\cate2-00177.jpg', 'C:\\\\Users\\\\chosun/dataset/images\\\\cate2-00178.jpg', 'C:\\\\Users\\\\chosun/dataset/images\\\\cate2-00179.jpg', 'C:\\\\Users\\\\chosun/dataset/images\\\\cate2-00180.jpg', 'C:\\\\Users\\\\chosun/dataset/images\\\\cate2-00181.jpg', 'C:\\\\Users\\\\chosun/dataset/images\\\\cate2-00182.jpg', 'C:\\\\Users\\\\chosun/dataset/images\\\\cate2-00183.jpg', 'C:\\\\Users\\\\chosun/dataset/images\\\\cate2-00184.jpg', 'C:\\\\Users\\\\chosun/dataset/images\\\\cate2-00185.jpg', 'C:\\\\Users\\\\chosun/dataset/images\\\\cate2-00186.jpg', 'C:\\\\Users\\\\chosun/dataset/images\\\\cate2-00187.jpg', 'C:\\\\Users\\\\chosun/dataset/images\\\\cate2-00188.jpg', 'C:\\\\Users\\\\chosun/dataset/images\\\\cate2-00189.jpg', 'C:\\\\Users\\\\chosun/dataset/images\\\\cate2-00190.jpg', 'C:\\\\Users\\\\chosun/dataset/images\\\\cate2-00191.jpg', 'C:\\\\Users\\\\chosun/dataset/images\\\\cate2-00192.jpg', 'C:\\\\Users\\\\chosun/dataset/images\\\\cate2-00193.jpg', 'C:\\\\Users\\\\chosun/dataset/images\\\\cate2-00194.jpg', 'C:\\\\Users\\\\chosun/dataset/images\\\\cate2-00195.jpg', 'C:\\\\Users\\\\chosun/dataset/images\\\\cate2-00196.jpg', 'C:\\\\Users\\\\chosun/dataset/images\\\\cate2-00197.jpg', 'C:\\\\Users\\\\chosun/dataset/images\\\\cate2-00198.jpg', 'C:\\\\Users\\\\chosun/dataset/images\\\\cate2-00199.jpg', 'C:\\\\Users\\\\chosun/dataset/images\\\\cate2-00200.jpg', 'C:\\\\Users\\\\chosun/dataset/images\\\\cate2-00201.jpg', 'C:\\\\Users\\\\chosun/dataset/images\\\\cate2-00202.jpg', 'C:\\\\Users\\\\chosun/dataset/images\\\\cate2-00203.jpg', 'C:\\\\Users\\\\chosun/dataset/images\\\\cate2-00204.jpg', 'C:\\\\Users\\\\chosun/dataset/images\\\\cate2-00205.jpg', 'C:\\\\Users\\\\chosun/dataset/images\\\\cate2-00206.jpg', 'C:\\\\Users\\\\chosun/dataset/images\\\\cate2-00207.jpg', 'C:\\\\Users\\\\chosun/dataset/images\\\\cate2-00208.jpg', 'C:\\\\Users\\\\chosun/dataset/images\\\\cate2-00209.jpg', 'C:\\\\Users\\\\chosun/dataset/images\\\\cate2-00210.jpg', 'C:\\\\Users\\\\chosun/dataset/images\\\\cate2-00211.jpg', 'C:\\\\Users\\\\chosun/dataset/images\\\\cate2-00212.jpg', 'C:\\\\Users\\\\chosun/dataset/images\\\\cate2-00213.jpg', 'C:\\\\Users\\\\chosun/dataset/images\\\\cate2-00214.jpg', 'C:\\\\Users\\\\chosun/dataset/images\\\\cate2-00215.jpg', 'C:\\\\Users\\\\chosun/dataset/images\\\\cate2-00216.jpg', 'C:\\\\Users\\\\chosun/dataset/images\\\\cate2-00217.jpg', 'C:\\\\Users\\\\chosun/dataset/images\\\\cate2-00218.jpg', 'C:\\\\Users\\\\chosun/dataset/images\\\\cate2-00219.jpg', 'C:\\\\Users\\\\chosun/dataset/images\\\\cate2-00220.jpg', 'C:\\\\Users\\\\chosun/dataset/images\\\\cate3-00001.jpg', 'C:\\\\Users\\\\chosun/dataset/images\\\\cate3-00002.jpg', 'C:\\\\Users\\\\chosun/dataset/images\\\\cate3-00003.jpg', 'C:\\\\Users\\\\chosun/dataset/images\\\\cate3-00004.jpg', 'C:\\\\Users\\\\chosun/dataset/images\\\\cate3-00005.jpg', 'C:\\\\Users\\\\chosun/dataset/images\\\\cate3-00006.jpg', 'C:\\\\Users\\\\chosun/dataset/images\\\\cate3-00007.jpg', 'C:\\\\Users\\\\chosun/dataset/images\\\\cate3-00008.jpg', 'C:\\\\Users\\\\chosun/dataset/images\\\\cate3-00009.jpg', 'C:\\\\Users\\\\chosun/dataset/images\\\\cate3-00010.jpg', 'C:\\\\Users\\\\chosun/dataset/images\\\\cate3-00011.jpg', 'C:\\\\Users\\\\chosun/dataset/images\\\\cate3-00012.jpg', 'C:\\\\Users\\\\chosun/dataset/images\\\\cate3-00013.jpg', 'C:\\\\Users\\\\chosun/dataset/images\\\\cate3-00014.jpg', 'C:\\\\Users\\\\chosun/dataset/images\\\\cate3-00015.jpg', 'C:\\\\Users\\\\chosun/dataset/images\\\\cate3-00016.jpg', 'C:\\\\Users\\\\chosun/dataset/images\\\\cate3-00017.jpg', 'C:\\\\Users\\\\chosun/dataset/images\\\\cate3-00018.jpg', 'C:\\\\Users\\\\chosun/dataset/images\\\\cate3-00019.jpg', 'C:\\\\Users\\\\chosun/dataset/images\\\\cate3-00020.jpg', 'C:\\\\Users\\\\chosun/dataset/images\\\\cate3-00021.jpg', 'C:\\\\Users\\\\chosun/dataset/images\\\\cate3-00022.jpg', 'C:\\\\Users\\\\chosun/dataset/images\\\\cate3-00023.jpg', 'C:\\\\Users\\\\chosun/dataset/images\\\\cate3-00024.jpg', 'C:\\\\Users\\\\chosun/dataset/images\\\\cate3-00025.jpg', 'C:\\\\Users\\\\chosun/dataset/images\\\\cate3-00026.jpg', 'C:\\\\Users\\\\chosun/dataset/images\\\\cate3-00027.jpg', 'C:\\\\Users\\\\chosun/dataset/images\\\\cate3-00028.jpg', 'C:\\\\Users\\\\chosun/dataset/images\\\\cate3-00029.jpg', 'C:\\\\Users\\\\chosun/dataset/images\\\\cate3-00030.jpg', 'C:\\\\Users\\\\chosun/dataset/images\\\\cate3-00031.jpg', 'C:\\\\Users\\\\chosun/dataset/images\\\\cate3-00032.jpg', 'C:\\\\Users\\\\chosun/dataset/images\\\\cate3-00033.jpg', 'C:\\\\Users\\\\chosun/dataset/images\\\\cate3-00034.jpg', 'C:\\\\Users\\\\chosun/dataset/images\\\\cate3-00035.jpg', 'C:\\\\Users\\\\chosun/dataset/images\\\\cate3-00036.jpg', 'C:\\\\Users\\\\chosun/dataset/images\\\\cate3-00037.jpg', 'C:\\\\Users\\\\chosun/dataset/images\\\\cate3-00038.jpg', 'C:\\\\Users\\\\chosun/dataset/images\\\\cate3-00039.jpg', 'C:\\\\Users\\\\chosun/dataset/images\\\\cate3-00040.jpg', 'C:\\\\Users\\\\chosun/dataset/images\\\\cate3-00041.jpg', 'C:\\\\Users\\\\chosun/dataset/images\\\\cate3-00042.jpg', 'C:\\\\Users\\\\chosun/dataset/images\\\\cate3-00043.jpg', 'C:\\\\Users\\\\chosun/dataset/images\\\\cate3-00044.jpg', 'C:\\\\Users\\\\chosun/dataset/images\\\\cate3-00045.jpg', 'C:\\\\Users\\\\chosun/dataset/images\\\\cate4-00001.jpg', 'C:\\\\Users\\\\chosun/dataset/images\\\\cate4-00002.jpg', 'C:\\\\Users\\\\chosun/dataset/images\\\\cate4-00003.jpg', 'C:\\\\Users\\\\chosun/dataset/images\\\\cate4-00004.jpg', 'C:\\\\Users\\\\chosun/dataset/images\\\\cate4-00005.jpg', 'C:\\\\Users\\\\chosun/dataset/images\\\\cate4-00006.jpg', 'C:\\\\Users\\\\chosun/dataset/images\\\\cate4-00007.jpg', 'C:\\\\Users\\\\chosun/dataset/images\\\\cate4-00008.jpg', 'C:\\\\Users\\\\chosun/dataset/images\\\\cate4-00009.jpg', 'C:\\\\Users\\\\chosun/dataset/images\\\\cate4-00010.jpg', 'C:\\\\Users\\\\chosun/dataset/images\\\\cate4-00011.jpg', 'C:\\\\Users\\\\chosun/dataset/images\\\\cate4-00012.jpg', 'C:\\\\Users\\\\chosun/dataset/images\\\\cate4-00013.jpg', 'C:\\\\Users\\\\chosun/dataset/images\\\\cate4-00014.jpg', 'C:\\\\Users\\\\chosun/dataset/images\\\\cate4-00015.jpg', 'C:\\\\Users\\\\chosun/dataset/images\\\\cate4-00016.jpg', 'C:\\\\Users\\\\chosun/dataset/images\\\\cate4-00017.jpg', 'C:\\\\Users\\\\chosun/dataset/images\\\\cate4-00018.jpg', 'C:\\\\Users\\\\chosun/dataset/images\\\\cate4-00019.jpg', 'C:\\\\Users\\\\chosun/dataset/images\\\\cate4-00020.jpg', 'C:\\\\Users\\\\chosun/dataset/images\\\\cate4-00021.jpg', 'C:\\\\Users\\\\chosun/dataset/images\\\\cate4-00022.jpg', 'C:\\\\Users\\\\chosun/dataset/images\\\\cate4-00023.jpg', 'C:\\\\Users\\\\chosun/dataset/images\\\\cate4-00024.jpg', 'C:\\\\Users\\\\chosun/dataset/images\\\\cate4-00025.jpg', 'C:\\\\Users\\\\chosun/dataset/images\\\\cate4-00026.jpg', 'C:\\\\Users\\\\chosun/dataset/images\\\\cate4-00027.jpg', 'C:\\\\Users\\\\chosun/dataset/images\\\\cate4-00028.jpg', 'C:\\\\Users\\\\chosun/dataset/images\\\\cate4-00029.jpg', 'C:\\\\Users\\\\chosun/dataset/images\\\\cate4-00030.jpg', 'C:\\\\Users\\\\chosun/dataset/images\\\\cate4-00031.jpg', 'C:\\\\Users\\\\chosun/dataset/images\\\\cate4-00032.jpg', 'C:\\\\Users\\\\chosun/dataset/images\\\\cate4-00033.jpg', 'C:\\\\Users\\\\chosun/dataset/images\\\\cate4-00034.jpg', 'C:\\\\Users\\\\chosun/dataset/images\\\\cate4-00035.jpg', 'C:\\\\Users\\\\chosun/dataset/images\\\\cate4-00036.jpg', 'C:\\\\Users\\\\chosun/dataset/images\\\\cate4-00037.jpg', 'C:\\\\Users\\\\chosun/dataset/images\\\\cate4-00038.jpg', 'C:\\\\Users\\\\chosun/dataset/images\\\\cate4-00039.jpg', 'C:\\\\Users\\\\chosun/dataset/images\\\\cate4-00040.jpg', 'C:\\\\Users\\\\chosun/dataset/images\\\\cate4-00041.jpg', 'C:\\\\Users\\\\chosun/dataset/images\\\\cate4-00042.jpg', 'C:\\\\Users\\\\chosun/dataset/images\\\\cate4-00043.jpg', 'C:\\\\Users\\\\chosun/dataset/images\\\\cate4-00044.jpg', 'C:\\\\Users\\\\chosun/dataset/images\\\\cate4-00045.jpg', 'C:\\\\Users\\\\chosun/dataset/images\\\\cate4-00046.jpg', 'C:\\\\Users\\\\chosun/dataset/images\\\\cate4-00047.jpg', 'C:\\\\Users\\\\chosun/dataset/images\\\\cate4-00048.jpg', 'C:\\\\Users\\\\chosun/dataset/images\\\\cate4-00049.jpg', 'C:\\\\Users\\\\chosun/dataset/images\\\\cate4-00050.jpg', 'C:\\\\Users\\\\chosun/dataset/images\\\\cate4-00051.jpg', 'C:\\\\Users\\\\chosun/dataset/images\\\\cate4-00052.jpg', 'C:\\\\Users\\\\chosun/dataset/images\\\\cate4-00053.jpg', 'C:\\\\Users\\\\chosun/dataset/images\\\\cate4-00054.jpg', 'C:\\\\Users\\\\chosun/dataset/images\\\\cate4-00055.jpg', 'C:\\\\Users\\\\chosun/dataset/images\\\\cate4-00056.jpg', 'C:\\\\Users\\\\chosun/dataset/images\\\\cate4-00057.jpg', 'C:\\\\Users\\\\chosun/dataset/images\\\\cate4-00058.jpg', 'C:\\\\Users\\\\chosun/dataset/images\\\\cate4-00059.jpg', 'C:\\\\Users\\\\chosun/dataset/images\\\\cate4-00060.jpg', 'C:\\\\Users\\\\chosun/dataset/images\\\\cate4-00061.jpg', 'C:\\\\Users\\\\chosun/dataset/images\\\\cate4-00062.jpg', 'C:\\\\Users\\\\chosun/dataset/images\\\\cate4-00063.jpg', 'C:\\\\Users\\\\chosun/dataset/images\\\\cate4-00064.jpg', 'C:\\\\Users\\\\chosun/dataset/images\\\\cate4-00065.jpg', 'C:\\\\Users\\\\chosun/dataset/images\\\\cate4-00066.jpg', 'C:\\\\Users\\\\chosun/dataset/images\\\\cate4-00067.jpg', 'C:\\\\Users\\\\chosun/dataset/images\\\\cate4-00068.jpg', 'C:\\\\Users\\\\chosun/dataset/images\\\\cate4-00069.jpg', 'C:\\\\Users\\\\chosun/dataset/images\\\\cate4-00070.jpg', 'C:\\\\Users\\\\chosun/dataset/images\\\\cate4-00071.jpg', 'C:\\\\Users\\\\chosun/dataset/images\\\\cate4-00072.jpg', 'C:\\\\Users\\\\chosun/dataset/images\\\\cate4-00073.jpg', 'C:\\\\Users\\\\chosun/dataset/images\\\\cate4-00074.jpg', 'C:\\\\Users\\\\chosun/dataset/images\\\\cate4-00075.jpg', 'C:\\\\Users\\\\chosun/dataset/images\\\\cate4-00076.jpg', 'C:\\\\Users\\\\chosun/dataset/images\\\\cate4-00077.jpg', 'C:\\\\Users\\\\chosun/dataset/images\\\\cate4-00078.jpg', 'C:\\\\Users\\\\chosun/dataset/images\\\\cate4-00079.jpg', 'C:\\\\Users\\\\chosun/dataset/images\\\\cate4-00080.jpg', 'C:\\\\Users\\\\chosun/dataset/images\\\\cate4-00081.jpg', 'C:\\\\Users\\\\chosun/dataset/images\\\\cate4-00082.jpg', 'C:\\\\Users\\\\chosun/dataset/images\\\\cate4-00083.jpg', 'C:\\\\Users\\\\chosun/dataset/images\\\\cate4-00084.jpg', 'C:\\\\Users\\\\chosun/dataset/images\\\\cate4-00085.jpg', 'C:\\\\Users\\\\chosun/dataset/images\\\\cate4-00086.jpg', 'C:\\\\Users\\\\chosun/dataset/images\\\\cate4-00087.jpg', 'C:\\\\Users\\\\chosun/dataset/images\\\\cate4-00088.jpg', 'C:\\\\Users\\\\chosun/dataset/images\\\\cate4-00089.jpg', 'C:\\\\Users\\\\chosun/dataset/images\\\\cate4-00090.jpg', 'C:\\\\Users\\\\chosun/dataset/images\\\\cate4-00091.jpg', 'C:\\\\Users\\\\chosun/dataset/images\\\\cate4-00092.jpg', 'C:\\\\Users\\\\chosun/dataset/images\\\\cate4-00093.jpg', 'C:\\\\Users\\\\chosun/dataset/images\\\\cate4-00094.jpg', 'C:\\\\Users\\\\chosun/dataset/images\\\\cate4-00095.jpg', 'C:\\\\Users\\\\chosun/dataset/images\\\\cate4-00096.jpg', 'C:\\\\Users\\\\chosun/dataset/images\\\\cate4-00097.jpg', 'C:\\\\Users\\\\chosun/dataset/images\\\\cate4-00098.jpg', 'C:\\\\Users\\\\chosun/dataset/images\\\\cate4-00099.jpg', 'C:\\\\Users\\\\chosun/dataset/images\\\\cate4-00100.jpg', 'C:\\\\Users\\\\chosun/dataset/images\\\\cate4-00101.jpg', 'C:\\\\Users\\\\chosun/dataset/images\\\\cate4-00102.jpg', 'C:\\\\Users\\\\chosun/dataset/images\\\\cate4-00103.jpg', 'C:\\\\Users\\\\chosun/dataset/images\\\\cate4-00104.jpg', 'C:\\\\Users\\\\chosun/dataset/images\\\\cate4-00105.jpg', 'C:\\\\Users\\\\chosun/dataset/images\\\\cate4-00106.jpg', 'C:\\\\Users\\\\chosun/dataset/images\\\\cate4-00107.jpg', 'C:\\\\Users\\\\chosun/dataset/images\\\\cate4-00108.jpg', 'C:\\\\Users\\\\chosun/dataset/images\\\\cate4-00109.jpg', 'C:\\\\Users\\\\chosun/dataset/images\\\\cate4-00110.jpg', 'C:\\\\Users\\\\chosun/dataset/images\\\\cate4-00111.jpg', 'C:\\\\Users\\\\chosun/dataset/images\\\\cate4-00112.jpg', 'C:\\\\Users\\\\chosun/dataset/images\\\\cate4-00113.jpg', 'C:\\\\Users\\\\chosun/dataset/images\\\\cate4-00114.jpg', 'C:\\\\Users\\\\chosun/dataset/images\\\\cate4-00115.jpg', 'C:\\\\Users\\\\chosun/dataset/images\\\\cate4-00116.jpg', 'C:\\\\Users\\\\chosun/dataset/images\\\\cate4-00117.jpg', 'C:\\\\Users\\\\chosun/dataset/images\\\\cate4-00118.jpg', 'C:\\\\Users\\\\chosun/dataset/images\\\\cate4-00119.jpg', 'C:\\\\Users\\\\chosun/dataset/images\\\\cate4-00120.jpg', 'C:\\\\Users\\\\chosun/dataset/images\\\\cate4-00121.jpg', 'C:\\\\Users\\\\chosun/dataset/images\\\\cate4-00122.jpg', 'C:\\\\Users\\\\chosun/dataset/images\\\\cate4-00123.jpg', 'C:\\\\Users\\\\chosun/dataset/images\\\\cate4-00124.jpg', 'C:\\\\Users\\\\chosun/dataset/images\\\\cate4-00125.jpg', 'C:\\\\Users\\\\chosun/dataset/images\\\\cate4-00126.jpg', 'C:\\\\Users\\\\chosun/dataset/images\\\\cate4-00127.jpg', 'C:\\\\Users\\\\chosun/dataset/images\\\\cate4-00128.jpg', 'C:\\\\Users\\\\chosun/dataset/images\\\\cate4-00129.jpg', 'C:\\\\Users\\\\chosun/dataset/images\\\\cate4-00130.jpg', 'C:\\\\Users\\\\chosun/dataset/images\\\\cate4-00131.jpg', 'C:\\\\Users\\\\chosun/dataset/images\\\\cate4-00132.jpg', 'C:\\\\Users\\\\chosun/dataset/images\\\\cate4-00133.jpg', 'C:\\\\Users\\\\chosun/dataset/images\\\\cate4-00134.jpg', 'C:\\\\Users\\\\chosun/dataset/images\\\\cate4-00135.jpg', 'C:\\\\Users\\\\chosun/dataset/images\\\\cate4-00136.jpg', 'C:\\\\Users\\\\chosun/dataset/images\\\\cate4-00137.jpg', 'C:\\\\Users\\\\chosun/dataset/images\\\\cate4-00138.jpg', 'C:\\\\Users\\\\chosun/dataset/images\\\\cate4-00139.jpg', 'C:\\\\Users\\\\chosun/dataset/images\\\\cate4-00140.jpg', 'C:\\\\Users\\\\chosun/dataset/images\\\\cate5-00001.jpg', 'C:\\\\Users\\\\chosun/dataset/images\\\\cate5-00002.jpg', 'C:\\\\Users\\\\chosun/dataset/images\\\\cate5-00003.jpg', 'C:\\\\Users\\\\chosun/dataset/images\\\\cate5-00004.jpg', 'C:\\\\Users\\\\chosun/dataset/images\\\\cate5-00005.jpg', 'C:\\\\Users\\\\chosun/dataset/images\\\\cate5-00006.jpg', 'C:\\\\Users\\\\chosun/dataset/images\\\\cate5-00007.jpg', 'C:\\\\Users\\\\chosun/dataset/images\\\\cate5-00008.jpg', 'C:\\\\Users\\\\chosun/dataset/images\\\\cate5-00009.jpg', 'C:\\\\Users\\\\chosun/dataset/images\\\\cate5-00010.jpg', 'C:\\\\Users\\\\chosun/dataset/images\\\\cate5-00011.jpg', 'C:\\\\Users\\\\chosun/dataset/images\\\\cate5-00012.jpg', 'C:\\\\Users\\\\chosun/dataset/images\\\\cate5-00013.jpg', 'C:\\\\Users\\\\chosun/dataset/images\\\\cate5-00014.jpg', 'C:\\\\Users\\\\chosun/dataset/images\\\\cate5-00015.jpg', 'C:\\\\Users\\\\chosun/dataset/images\\\\cate5-00016.jpg', 'C:\\\\Users\\\\chosun/dataset/images\\\\cate5-00017.jpg', 'C:\\\\Users\\\\chosun/dataset/images\\\\cate5-00018.jpg', 'C:\\\\Users\\\\chosun/dataset/images\\\\cate5-00019.jpg', 'C:\\\\Users\\\\chosun/dataset/images\\\\cate5-00020.jpg', 'C:\\\\Users\\\\chosun/dataset/images\\\\cate5-00021.jpg', 'C:\\\\Users\\\\chosun/dataset/images\\\\cate5-00022.jpg', 'C:\\\\Users\\\\chosun/dataset/images\\\\cate5-00023.jpg', 'C:\\\\Users\\\\chosun/dataset/images\\\\cate5-00024.jpg', 'C:\\\\Users\\\\chosun/dataset/images\\\\cate5-00025.jpg', 'C:\\\\Users\\\\chosun/dataset/images\\\\cate5-00026.jpg', 'C:\\\\Users\\\\chosun/dataset/images\\\\cate5-00027.jpg', 'C:\\\\Users\\\\chosun/dataset/images\\\\cate5-00028.jpg', 'C:\\\\Users\\\\chosun/dataset/images\\\\cate5-00029.jpg', 'C:\\\\Users\\\\chosun/dataset/images\\\\cate5-00030.jpg', 'C:\\\\Users\\\\chosun/dataset/images\\\\cate5-00031.jpg', 'C:\\\\Users\\\\chosun/dataset/images\\\\cate5-00032.jpg', 'C:\\\\Users\\\\chosun/dataset/images\\\\cate5-00033.jpg', 'C:\\\\Users\\\\chosun/dataset/images\\\\cate5-00034.jpg', 'C:\\\\Users\\\\chosun/dataset/images\\\\cate5-00035.jpg', 'C:\\\\Users\\\\chosun/dataset/images\\\\cate5-00036.jpg', 'C:\\\\Users\\\\chosun/dataset/images\\\\cate5-00037.jpg', 'C:\\\\Users\\\\chosun/dataset/images\\\\cate5-00038.jpg', 'C:\\\\Users\\\\chosun/dataset/images\\\\cate5-00039.jpg', 'C:\\\\Users\\\\chosun/dataset/images\\\\cate5-00040.jpg', 'C:\\\\Users\\\\chosun/dataset/images\\\\cate5-00041.jpg', 'C:\\\\Users\\\\chosun/dataset/images\\\\cate5-00042.jpg', 'C:\\\\Users\\\\chosun/dataset/images\\\\cate5-00043.jpg', 'C:\\\\Users\\\\chosun/dataset/images\\\\cate5-00044.jpg', 'C:\\\\Users\\\\chosun/dataset/images\\\\cate5-00045.jpg', 'C:\\\\Users\\\\chosun/dataset/images\\\\cate5-00046.jpg', 'C:\\\\Users\\\\chosun/dataset/images\\\\cate5-00047.jpg', 'C:\\\\Users\\\\chosun/dataset/images\\\\cate5-00048.jpg', 'C:\\\\Users\\\\chosun/dataset/images\\\\cate5-00049.jpg', 'C:\\\\Users\\\\chosun/dataset/images\\\\cate5-00050.jpg', 'C:\\\\Users\\\\chosun/dataset/images\\\\cate5-00051.jpg', 'C:\\\\Users\\\\chosun/dataset/images\\\\cate5-00052.jpg', 'C:\\\\Users\\\\chosun/dataset/images\\\\cate5-00053.jpg', 'C:\\\\Users\\\\chosun/dataset/images\\\\cate5-00054.jpg', 'C:\\\\Users\\\\chosun/dataset/images\\\\cate5-00055.jpg', 'C:\\\\Users\\\\chosun/dataset/images\\\\cate5-00056.jpg', 'C:\\\\Users\\\\chosun/dataset/images\\\\cate5-00057.jpg', 'C:\\\\Users\\\\chosun/dataset/images\\\\cate5-00058.jpg', 'C:\\\\Users\\\\chosun/dataset/images\\\\cate5-00059.jpg', 'C:\\\\Users\\\\chosun/dataset/images\\\\cate5-00060.jpg', 'C:\\\\Users\\\\chosun/dataset/images\\\\cate5-00061.jpg', 'C:\\\\Users\\\\chosun/dataset/images\\\\cate5-00062.jpg', 'C:\\\\Users\\\\chosun/dataset/images\\\\cate5-00063.jpg', 'C:\\\\Users\\\\chosun/dataset/images\\\\cate5-00064.jpg', 'C:\\\\Users\\\\chosun/dataset/images\\\\cate5-00065.jpg', 'C:\\\\Users\\\\chosun/dataset/images\\\\cate5-00066.jpg', 'C:\\\\Users\\\\chosun/dataset/images\\\\cate5-00067.jpg', 'C:\\\\Users\\\\chosun/dataset/images\\\\cate5-00068.jpg', 'C:\\\\Users\\\\chosun/dataset/images\\\\cate5-00069.jpg', 'C:\\\\Users\\\\chosun/dataset/images\\\\cate5-00070.jpg', 'C:\\\\Users\\\\chosun/dataset/images\\\\cate5-00071.jpg', 'C:\\\\Users\\\\chosun/dataset/images\\\\cate5-00072.jpg', 'C:\\\\Users\\\\chosun/dataset/images\\\\cate5-00073.jpg', 'C:\\\\Users\\\\chosun/dataset/images\\\\cate5-00074.jpg', 'C:\\\\Users\\\\chosun/dataset/images\\\\cate5-00075.jpg', 'C:\\\\Users\\\\chosun/dataset/images\\\\cate5-00076.jpg', 'C:\\\\Users\\\\chosun/dataset/images\\\\cate5-00077.jpg', 'C:\\\\Users\\\\chosun/dataset/images\\\\cate5-00078.jpg', 'C:\\\\Users\\\\chosun/dataset/images\\\\cate5-00079.jpg', 'C:\\\\Users\\\\chosun/dataset/images\\\\cate5-00080.jpg', 'C:\\\\Users\\\\chosun/dataset/images\\\\cate5-00081.jpg', 'C:\\\\Users\\\\chosun/dataset/images\\\\cate5-00082.jpg', 'C:\\\\Users\\\\chosun/dataset/images\\\\cate5-00083.jpg', 'C:\\\\Users\\\\chosun/dataset/images\\\\cate5-00084.jpg', 'C:\\\\Users\\\\chosun/dataset/images\\\\cate5-00085.jpg', 'C:\\\\Users\\\\chosun/dataset/images\\\\cate5-00086.jpg', 'C:\\\\Users\\\\chosun/dataset/images\\\\cate5-00087.jpg', 'C:\\\\Users\\\\chosun/dataset/images\\\\cate5-00088.jpg', 'C:\\\\Users\\\\chosun/dataset/images\\\\cate5-00089.jpg', 'C:\\\\Users\\\\chosun/dataset/images\\\\cate5-00090.jpg', 'C:\\\\Users\\\\chosun/dataset/images\\\\cate5-00091.jpg', 'C:\\\\Users\\\\chosun/dataset/images\\\\cate5-00092.jpg', 'C:\\\\Users\\\\chosun/dataset/images\\\\cate5-00093.jpg', 'C:\\\\Users\\\\chosun/dataset/images\\\\cate5-00094.jpg', 'C:\\\\Users\\\\chosun/dataset/images\\\\cate5-00095.jpg', 'C:\\\\Users\\\\chosun/dataset/images\\\\cate5-00096.jpg', 'C:\\\\Users\\\\chosun/dataset/images\\\\cate5-00097.jpg', 'C:\\\\Users\\\\chosun/dataset/images\\\\cate5-00098.jpg', 'C:\\\\Users\\\\chosun/dataset/images\\\\cate5-00099.jpg', 'C:\\\\Users\\\\chosun/dataset/images\\\\cate5-00100.jpg', 'C:\\\\Users\\\\chosun/dataset/images\\\\cate5-00101.jpg', 'C:\\\\Users\\\\chosun/dataset/images\\\\cate5-00102.jpg', 'C:\\\\Users\\\\chosun/dataset/images\\\\cate5-00103.jpg', 'C:\\\\Users\\\\chosun/dataset/images\\\\cate5-00104.jpg', 'C:\\\\Users\\\\chosun/dataset/images\\\\cate5-00105.jpg', 'C:\\\\Users\\\\chosun/dataset/images\\\\cate5-00106.jpg', 'C:\\\\Users\\\\chosun/dataset/images\\\\cate5-00107.jpg', 'C:\\\\Users\\\\chosun/dataset/images\\\\cate5-00108.jpg', 'C:\\\\Users\\\\chosun/dataset/images\\\\cate5-00109.jpg', 'C:\\\\Users\\\\chosun/dataset/images\\\\cate5-00110.jpg', 'C:\\\\Users\\\\chosun/dataset/images\\\\cate5-00111.jpg', 'C:\\\\Users\\\\chosun/dataset/images\\\\cate5-00112.jpg', 'C:\\\\Users\\\\chosun/dataset/images\\\\cate5-00113.jpg', 'C:\\\\Users\\\\chosun/dataset/images\\\\cate5-00114.jpg', 'C:\\\\Users\\\\chosun/dataset/images\\\\cate5-00115.jpg', 'C:\\\\Users\\\\chosun/dataset/images\\\\cate5-00116.jpg', 'C:\\\\Users\\\\chosun/dataset/images\\\\cate5-00117.jpg', 'C:\\\\Users\\\\chosun/dataset/images\\\\cate5-00118.jpg', 'C:\\\\Users\\\\chosun/dataset/images\\\\cate5-00119.jpg', 'C:\\\\Users\\\\chosun/dataset/images\\\\cate5-00120.jpg', 'C:\\\\Users\\\\chosun/dataset/images\\\\cate6-00001.jpg', 'C:\\\\Users\\\\chosun/dataset/images\\\\cate6-00002.jpg', 'C:\\\\Users\\\\chosun/dataset/images\\\\cate6-00003.jpg', 'C:\\\\Users\\\\chosun/dataset/images\\\\cate6-00004.jpg', 'C:\\\\Users\\\\chosun/dataset/images\\\\cate6-00005.jpg', 'C:\\\\Users\\\\chosun/dataset/images\\\\cate6-00006.jpg', 'C:\\\\Users\\\\chosun/dataset/images\\\\cate6-00007.jpg', 'C:\\\\Users\\\\chosun/dataset/images\\\\cate6-00008.jpg', 'C:\\\\Users\\\\chosun/dataset/images\\\\cate6-00009.jpg', 'C:\\\\Users\\\\chosun/dataset/images\\\\cate6-00010.jpg', 'C:\\\\Users\\\\chosun/dataset/images\\\\cate6-00011.jpg', 'C:\\\\Users\\\\chosun/dataset/images\\\\cate6-00012.jpg', 'C:\\\\Users\\\\chosun/dataset/images\\\\cate6-00013.jpg', 'C:\\\\Users\\\\chosun/dataset/images\\\\cate6-00014.jpg', 'C:\\\\Users\\\\chosun/dataset/images\\\\cate6-00015.jpg', 'C:\\\\Users\\\\chosun/dataset/images\\\\cate6-00016.jpg', 'C:\\\\Users\\\\chosun/dataset/images\\\\cate6-00017.jpg', 'C:\\\\Users\\\\chosun/dataset/images\\\\cate6-00018.jpg', 'C:\\\\Users\\\\chosun/dataset/images\\\\cate6-00019.jpg', 'C:\\\\Users\\\\chosun/dataset/images\\\\cate6-00020.jpg', 'C:\\\\Users\\\\chosun/dataset/images\\\\cate6-00021.jpg', 'C:\\\\Users\\\\chosun/dataset/images\\\\cate6-00022.jpg', 'C:\\\\Users\\\\chosun/dataset/images\\\\cate6-00023.jpg', 'C:\\\\Users\\\\chosun/dataset/images\\\\cate6-00024.jpg', 'C:\\\\Users\\\\chosun/dataset/images\\\\cate6-00025.jpg', 'C:\\\\Users\\\\chosun/dataset/images\\\\cate6-00026.jpg', 'C:\\\\Users\\\\chosun/dataset/images\\\\cate6-00027.jpg', 'C:\\\\Users\\\\chosun/dataset/images\\\\cate6-00028.jpg', 'C:\\\\Users\\\\chosun/dataset/images\\\\cate6-00029.jpg', 'C:\\\\Users\\\\chosun/dataset/images\\\\cate6-00030.jpg', 'C:\\\\Users\\\\chosun/dataset/images\\\\cate6-00031.jpg', 'C:\\\\Users\\\\chosun/dataset/images\\\\cate6-00032.jpg', 'C:\\\\Users\\\\chosun/dataset/images\\\\cate6-00033.jpg', 'C:\\\\Users\\\\chosun/dataset/images\\\\cate6-00034.jpg', 'C:\\\\Users\\\\chosun/dataset/images\\\\cate6-00035.jpg', 'C:\\\\Users\\\\chosun/dataset/images\\\\cate6-00036.jpg', 'C:\\\\Users\\\\chosun/dataset/images\\\\cate6-00037.jpg', 'C:\\\\Users\\\\chosun/dataset/images\\\\cate6-00038.jpg', 'C:\\\\Users\\\\chosun/dataset/images\\\\cate6-00039.jpg', 'C:\\\\Users\\\\chosun/dataset/images\\\\cate6-00040.jpg', 'C:\\\\Users\\\\chosun/dataset/images\\\\cate6-00041.jpg', 'C:\\\\Users\\\\chosun/dataset/images\\\\cate6-00042.jpg', 'C:\\\\Users\\\\chosun/dataset/images\\\\cate6-00043.jpg', 'C:\\\\Users\\\\chosun/dataset/images\\\\cate6-00044.jpg', 'C:\\\\Users\\\\chosun/dataset/images\\\\cate6-00045.jpg', 'C:\\\\Users\\\\chosun/dataset/images\\\\cate6-00046.jpg', 'C:\\\\Users\\\\chosun/dataset/images\\\\cate6-00047.jpg', 'C:\\\\Users\\\\chosun/dataset/images\\\\cate6-00048.jpg', 'C:\\\\Users\\\\chosun/dataset/images\\\\cate6-00049.jpg', 'C:\\\\Users\\\\chosun/dataset/images\\\\cate6-00050.jpg', 'C:\\\\Users\\\\chosun/dataset/images\\\\cate6-00051.jpg', 'C:\\\\Users\\\\chosun/dataset/images\\\\cate6-00052.jpg', 'C:\\\\Users\\\\chosun/dataset/images\\\\cate6-00053.jpg', 'C:\\\\Users\\\\chosun/dataset/images\\\\cate6-00054.jpg', 'C:\\\\Users\\\\chosun/dataset/images\\\\cate6-00055.jpg', 'C:\\\\Users\\\\chosun/dataset/images\\\\cate6-00056.jpg', 'C:\\\\Users\\\\chosun/dataset/images\\\\cate6-00057.jpg', 'C:\\\\Users\\\\chosun/dataset/images\\\\cate6-00058.jpg', 'C:\\\\Users\\\\chosun/dataset/images\\\\cate6-00059.jpg', 'C:\\\\Users\\\\chosun/dataset/images\\\\cate6-00060.jpg', 'C:\\\\Users\\\\chosun/dataset/images\\\\cate6-00061.jpg', 'C:\\\\Users\\\\chosun/dataset/images\\\\cate6-00062.jpg', 'C:\\\\Users\\\\chosun/dataset/images\\\\cate6-00063.jpg', 'C:\\\\Users\\\\chosun/dataset/images\\\\cate6-00064.jpg', 'C:\\\\Users\\\\chosun/dataset/images\\\\cate6-00065.jpg', 'C:\\\\Users\\\\chosun/dataset/images\\\\cate6-00066.jpg', 'C:\\\\Users\\\\chosun/dataset/images\\\\cate6-00067.jpg', 'C:\\\\Users\\\\chosun/dataset/images\\\\cate6-00068.jpg', 'C:\\\\Users\\\\chosun/dataset/images\\\\cate6-00069.jpg', 'C:\\\\Users\\\\chosun/dataset/images\\\\cate6-00070.jpg', 'C:\\\\Users\\\\chosun/dataset/images\\\\cate6-00071.jpg', 'C:\\\\Users\\\\chosun/dataset/images\\\\cate6-00072.jpg', 'C:\\\\Users\\\\chosun/dataset/images\\\\cate6-00073.jpg', 'C:\\\\Users\\\\chosun/dataset/images\\\\cate6-00074.jpg', 'C:\\\\Users\\\\chosun/dataset/images\\\\cate6-00075.jpg', 'C:\\\\Users\\\\chosun/dataset/images\\\\cate6-00076.jpg', 'C:\\\\Users\\\\chosun/dataset/images\\\\cate6-00077.jpg', 'C:\\\\Users\\\\chosun/dataset/images\\\\cate6-00078.jpg', 'C:\\\\Users\\\\chosun/dataset/images\\\\cate6-00079.jpg', 'C:\\\\Users\\\\chosun/dataset/images\\\\cate6-00080.jpg', 'C:\\\\Users\\\\chosun/dataset/images\\\\cate6-00081.jpg', 'C:\\\\Users\\\\chosun/dataset/images\\\\cate6-00082.jpg', 'C:\\\\Users\\\\chosun/dataset/images\\\\cate6-00083.jpg', 'C:\\\\Users\\\\chosun/dataset/images\\\\cate6-00084.jpg', 'C:\\\\Users\\\\chosun/dataset/images\\\\cate6-00085.jpg', 'C:\\\\Users\\\\chosun/dataset/images\\\\cate6-00086.jpg', 'C:\\\\Users\\\\chosun/dataset/images\\\\cate6-00087.jpg', 'C:\\\\Users\\\\chosun/dataset/images\\\\cate6-00088.jpg', 'C:\\\\Users\\\\chosun/dataset/images\\\\cate6-00089.jpg', 'C:\\\\Users\\\\chosun/dataset/images\\\\cate6-00090.jpg', 'C:\\\\Users\\\\chosun/dataset/images\\\\cate6-00091.jpg', 'C:\\\\Users\\\\chosun/dataset/images\\\\cate6-00092.jpg', 'C:\\\\Users\\\\chosun/dataset/images\\\\cate6-00093.jpg', 'C:\\\\Users\\\\chosun/dataset/images\\\\cate6-00094.jpg', 'C:\\\\Users\\\\chosun/dataset/images\\\\cate6-00095.jpg', 'C:\\\\Users\\\\chosun/dataset/images\\\\cate6-00096.jpg', 'C:\\\\Users\\\\chosun/dataset/images\\\\cate6-00097.jpg', 'C:\\\\Users\\\\chosun/dataset/images\\\\cate6-00098.jpg', 'C:\\\\Users\\\\chosun/dataset/images\\\\cate6-00099.jpg', 'C:\\\\Users\\\\chosun/dataset/images\\\\cate6-00100.jpg', 'C:\\\\Users\\\\chosun/dataset/images\\\\cate6-00101.jpg', 'C:\\\\Users\\\\chosun/dataset/images\\\\cate6-00102.jpg', 'C:\\\\Users\\\\chosun/dataset/images\\\\cate6-00103.jpg', 'C:\\\\Users\\\\chosun/dataset/images\\\\cate6-00104.jpg', 'C:\\\\Users\\\\chosun/dataset/images\\\\cate6-00105.jpg', 'C:\\\\Users\\\\chosun/dataset/images\\\\cate6-00106.jpg', 'C:\\\\Users\\\\chosun/dataset/images\\\\cate6-00107.jpg', 'C:\\\\Users\\\\chosun/dataset/images\\\\cate6-00108.jpg', 'C:\\\\Users\\\\chosun/dataset/images\\\\cate6-00109.jpg', 'C:\\\\Users\\\\chosun/dataset/images\\\\cate6-00110.jpg', 'C:\\\\Users\\\\chosun/dataset/images\\\\cate6-00111.jpg', 'C:\\\\Users\\\\chosun/dataset/images\\\\cate6-00112.jpg', 'C:\\\\Users\\\\chosun/dataset/images\\\\cate6-00113.jpg', 'C:\\\\Users\\\\chosun/dataset/images\\\\cate6-00114.jpg', 'C:\\\\Users\\\\chosun/dataset/images\\\\cate6-00115.jpg', 'C:\\\\Users\\\\chosun/dataset/images\\\\cate6-00116.jpg', 'C:\\\\Users\\\\chosun/dataset/images\\\\cate6-00117.jpg', 'C:\\\\Users\\\\chosun/dataset/images\\\\cate6-00118.jpg', 'C:\\\\Users\\\\chosun/dataset/images\\\\cate6-00119.jpg', 'C:\\\\Users\\\\chosun/dataset/images\\\\cate6-00120.jpg', 'C:\\\\Users\\\\chosun/dataset/images\\\\cate6-00121.jpg', 'C:\\\\Users\\\\chosun/dataset/images\\\\cate6-00122.jpg', 'C:\\\\Users\\\\chosun/dataset/images\\\\cate6-00123.jpg', 'C:\\\\Users\\\\chosun/dataset/images\\\\cate6-00124.jpg', 'C:\\\\Users\\\\chosun/dataset/images\\\\cate6-00125.jpg', 'C:\\\\Users\\\\chosun/dataset/images\\\\cate6-00126.jpg', 'C:\\\\Users\\\\chosun/dataset/images\\\\cate6-00127.jpg', 'C:\\\\Users\\\\chosun/dataset/images\\\\cate6-00128.jpg', 'C:\\\\Users\\\\chosun/dataset/images\\\\cate6-00129.jpg', 'C:\\\\Users\\\\chosun/dataset/images\\\\cate6-00130.jpg', 'C:\\\\Users\\\\chosun/dataset/images\\\\cate6-00131.jpg', 'C:\\\\Users\\\\chosun/dataset/images\\\\cate6-00132.jpg', 'C:\\\\Users\\\\chosun/dataset/images\\\\cate6-00133.jpg', 'C:\\\\Users\\\\chosun/dataset/images\\\\cate6-00134.jpg', 'C:\\\\Users\\\\chosun/dataset/images\\\\cate6-00135.jpg', 'C:\\\\Users\\\\chosun/dataset/images\\\\cate6-00136.jpg', 'C:\\\\Users\\\\chosun/dataset/images\\\\cate6-00137.jpg', 'C:\\\\Users\\\\chosun/dataset/images\\\\cate6-00138.jpg', 'C:\\\\Users\\\\chosun/dataset/images\\\\cate6-00139.jpg', 'C:\\\\Users\\\\chosun/dataset/images\\\\cate6-00140.jpg', 'C:\\\\Users\\\\chosun/dataset/images\\\\cate6-00141.jpg', 'C:\\\\Users\\\\chosun/dataset/images\\\\cate6-00142.jpg', 'C:\\\\Users\\\\chosun/dataset/images\\\\cate6-00143.jpg', 'C:\\\\Users\\\\chosun/dataset/images\\\\cate6-00144.jpg', 'C:\\\\Users\\\\chosun/dataset/images\\\\cate6-00145.jpg', 'C:\\\\Users\\\\chosun/dataset/images\\\\cate6-00146.jpg', 'C:\\\\Users\\\\chosun/dataset/images\\\\cate6-00147.jpg', 'C:\\\\Users\\\\chosun/dataset/images\\\\cate6-00148.jpg', 'C:\\\\Users\\\\chosun/dataset/images\\\\cate6-00149.jpg', 'C:\\\\Users\\\\chosun/dataset/images\\\\cate6-00150.jpg', 'C:\\\\Users\\\\chosun/dataset/images\\\\cate6-00151.jpg', 'C:\\\\Users\\\\chosun/dataset/images\\\\cate6-00152.jpg', 'C:\\\\Users\\\\chosun/dataset/images\\\\cate6-00153.jpg', 'C:\\\\Users\\\\chosun/dataset/images\\\\cate6-00154.jpg', 'C:\\\\Users\\\\chosun/dataset/images\\\\cate6-00155.jpg', 'C:\\\\Users\\\\chosun/dataset/images\\\\cate6-00156.jpg', 'C:\\\\Users\\\\chosun/dataset/images\\\\cate6-00157.jpg', 'C:\\\\Users\\\\chosun/dataset/images\\\\cate6-00158.jpg', 'C:\\\\Users\\\\chosun/dataset/images\\\\cate6-00159.jpg', 'C:\\\\Users\\\\chosun/dataset/images\\\\cate6-00160.jpg', 'C:\\\\Users\\\\chosun/dataset/images\\\\cate6-00161.jpg', 'C:\\\\Users\\\\chosun/dataset/images\\\\cate6-00162.jpg', 'C:\\\\Users\\\\chosun/dataset/images\\\\cate6-00163.jpg', 'C:\\\\Users\\\\chosun/dataset/images\\\\cate6-00164.jpg', 'C:\\\\Users\\\\chosun/dataset/images\\\\cate6-00165.jpg', 'C:\\\\Users\\\\chosun/dataset/images\\\\cate6-00166.jpg', 'C:\\\\Users\\\\chosun/dataset/images\\\\cate6-00167.jpg', 'C:\\\\Users\\\\chosun/dataset/images\\\\cate6-00168.jpg', 'C:\\\\Users\\\\chosun/dataset/images\\\\cate6-00169.jpg', 'C:\\\\Users\\\\chosun/dataset/images\\\\cate6-00170.jpg', 'C:\\\\Users\\\\chosun/dataset/images\\\\cate7-00001.jpg', 'C:\\\\Users\\\\chosun/dataset/images\\\\cate7-00002.jpg', 'C:\\\\Users\\\\chosun/dataset/images\\\\cate7-00003.jpg', 'C:\\\\Users\\\\chosun/dataset/images\\\\cate7-00004.jpg', 'C:\\\\Users\\\\chosun/dataset/images\\\\cate7-00005.jpg', 'C:\\\\Users\\\\chosun/dataset/images\\\\cate7-00006.jpg', 'C:\\\\Users\\\\chosun/dataset/images\\\\cate7-00007.jpg', 'C:\\\\Users\\\\chosun/dataset/images\\\\cate7-00008.jpg', 'C:\\\\Users\\\\chosun/dataset/images\\\\cate7-00009.jpg', 'C:\\\\Users\\\\chosun/dataset/images\\\\cate7-00010.jpg', 'C:\\\\Users\\\\chosun/dataset/images\\\\cate7-00011.jpg', 'C:\\\\Users\\\\chosun/dataset/images\\\\cate7-00012.jpg', 'C:\\\\Users\\\\chosun/dataset/images\\\\cate7-00013.jpg', 'C:\\\\Users\\\\chosun/dataset/images\\\\cate7-00014.jpg', 'C:\\\\Users\\\\chosun/dataset/images\\\\cate7-00015.jpg', 'C:\\\\Users\\\\chosun/dataset/images\\\\cate7-00016.jpg', 'C:\\\\Users\\\\chosun/dataset/images\\\\cate7-00017.jpg', 'C:\\\\Users\\\\chosun/dataset/images\\\\cate7-00018.jpg', 'C:\\\\Users\\\\chosun/dataset/images\\\\cate7-00019.jpg', 'C:\\\\Users\\\\chosun/dataset/images\\\\cate7-00020.jpg', 'C:\\\\Users\\\\chosun/dataset/images\\\\cate7-00021.jpg', 'C:\\\\Users\\\\chosun/dataset/images\\\\cate7-00022.jpg', 'C:\\\\Users\\\\chosun/dataset/images\\\\cate7-00023.jpg', 'C:\\\\Users\\\\chosun/dataset/images\\\\cate7-00024.jpg', 'C:\\\\Users\\\\chosun/dataset/images\\\\cate7-00025.jpg', 'C:\\\\Users\\\\chosun/dataset/images\\\\cate7-00026.jpg', 'C:\\\\Users\\\\chosun/dataset/images\\\\cate7-00027.jpg', 'C:\\\\Users\\\\chosun/dataset/images\\\\cate7-00028.jpg', 'C:\\\\Users\\\\chosun/dataset/images\\\\cate7-00029.jpg', 'C:\\\\Users\\\\chosun/dataset/images\\\\cate7-00030.jpg', 'C:\\\\Users\\\\chosun/dataset/images\\\\cate7-00031.jpg', 'C:\\\\Users\\\\chosun/dataset/images\\\\cate7-00032.jpg', 'C:\\\\Users\\\\chosun/dataset/images\\\\cate7-00033.jpg', 'C:\\\\Users\\\\chosun/dataset/images\\\\cate7-00034.jpg', 'C:\\\\Users\\\\chosun/dataset/images\\\\cate7-00035.jpg', 'C:\\\\Users\\\\chosun/dataset/images\\\\cate7-00036.jpg', 'C:\\\\Users\\\\chosun/dataset/images\\\\cate7-00037.jpg', 'C:\\\\Users\\\\chosun/dataset/images\\\\cate7-00038.jpg', 'C:\\\\Users\\\\chosun/dataset/images\\\\cate7-00039.jpg', 'C:\\\\Users\\\\chosun/dataset/images\\\\cate7-00040.jpg', 'C:\\\\Users\\\\chosun/dataset/images\\\\cate7-00041.jpg', 'C:\\\\Users\\\\chosun/dataset/images\\\\cate7-00042.jpg', 'C:\\\\Users\\\\chosun/dataset/images\\\\cate7-00043.jpg', 'C:\\\\Users\\\\chosun/dataset/images\\\\cate7-00044.jpg', 'C:\\\\Users\\\\chosun/dataset/images\\\\cate7-00045.jpg', 'C:\\\\Users\\\\chosun/dataset/images\\\\cate7-00046.jpg', 'C:\\\\Users\\\\chosun/dataset/images\\\\cate7-00047.jpg', 'C:\\\\Users\\\\chosun/dataset/images\\\\cate7-00048.jpg', 'C:\\\\Users\\\\chosun/dataset/images\\\\cate7-00049.jpg', 'C:\\\\Users\\\\chosun/dataset/images\\\\cate7-00050.jpg', 'C:\\\\Users\\\\chosun/dataset/images\\\\cate7-00051.jpg', 'C:\\\\Users\\\\chosun/dataset/images\\\\cate7-00052.jpg', 'C:\\\\Users\\\\chosun/dataset/images\\\\cate7-00053.jpg', 'C:\\\\Users\\\\chosun/dataset/images\\\\cate7-00054.jpg', 'C:\\\\Users\\\\chosun/dataset/images\\\\cate7-00055.jpg', 'C:\\\\Users\\\\chosun/dataset/images\\\\cate7-00056.jpg', 'C:\\\\Users\\\\chosun/dataset/images\\\\cate7-00057.jpg', 'C:\\\\Users\\\\chosun/dataset/images\\\\cate7-00058.jpg', 'C:\\\\Users\\\\chosun/dataset/images\\\\cate7-00059.jpg', 'C:\\\\Users\\\\chosun/dataset/images\\\\cate7-00060.jpg', 'C:\\\\Users\\\\chosun/dataset/images\\\\cate7-00061.jpg', 'C:\\\\Users\\\\chosun/dataset/images\\\\cate7-00062.jpg', 'C:\\\\Users\\\\chosun/dataset/images\\\\cate7-00063.jpg', 'C:\\\\Users\\\\chosun/dataset/images\\\\cate7-00064.jpg', 'C:\\\\Users\\\\chosun/dataset/images\\\\cate7-00065.jpg', 'C:\\\\Users\\\\chosun/dataset/images\\\\cate7-00066.jpg', 'C:\\\\Users\\\\chosun/dataset/images\\\\cate7-00067.jpg', 'C:\\\\Users\\\\chosun/dataset/images\\\\cate7-00068.jpg', 'C:\\\\Users\\\\chosun/dataset/images\\\\cate7-00069.jpg', 'C:\\\\Users\\\\chosun/dataset/images\\\\cate7-00070.jpg', 'C:\\\\Users\\\\chosun/dataset/images\\\\cate7-00071.jpg', 'C:\\\\Users\\\\chosun/dataset/images\\\\cate7-00072.jpg', 'C:\\\\Users\\\\chosun/dataset/images\\\\cate7-00073.jpg', 'C:\\\\Users\\\\chosun/dataset/images\\\\cate7-00074.jpg', 'C:\\\\Users\\\\chosun/dataset/images\\\\cate7-00075.jpg', 'C:\\\\Users\\\\chosun/dataset/images\\\\cate7-00076.jpg', 'C:\\\\Users\\\\chosun/dataset/images\\\\cate7-00077.jpg', 'C:\\\\Users\\\\chosun/dataset/images\\\\cate7-00078.jpg', 'C:\\\\Users\\\\chosun/dataset/images\\\\cate7-00079.jpg', 'C:\\\\Users\\\\chosun/dataset/images\\\\cate7-00080.jpg', 'C:\\\\Users\\\\chosun/dataset/images\\\\cate7-00081.jpg', 'C:\\\\Users\\\\chosun/dataset/images\\\\cate7-00082.jpg', 'C:\\\\Users\\\\chosun/dataset/images\\\\cate7-00083.jpg', 'C:\\\\Users\\\\chosun/dataset/images\\\\cate7-00084.jpg', 'C:\\\\Users\\\\chosun/dataset/images\\\\cate7-00085.jpg', 'C:\\\\Users\\\\chosun/dataset/images\\\\cate7-00086.jpg', 'C:\\\\Users\\\\chosun/dataset/images\\\\cate7-00087.jpg', 'C:\\\\Users\\\\chosun/dataset/images\\\\cate7-00088.jpg', 'C:\\\\Users\\\\chosun/dataset/images\\\\cate7-00089.jpg', 'C:\\\\Users\\\\chosun/dataset/images\\\\cate7-00090.jpg', 'C:\\\\Users\\\\chosun/dataset/images\\\\cate7-00091.jpg', 'C:\\\\Users\\\\chosun/dataset/images\\\\cate7-00092.jpg', 'C:\\\\Users\\\\chosun/dataset/images\\\\cate7-00093.jpg', 'C:\\\\Users\\\\chosun/dataset/images\\\\cate7-00094.jpg', 'C:\\\\Users\\\\chosun/dataset/images\\\\cate7-00095.jpg', 'C:\\\\Users\\\\chosun/dataset/images\\\\cate7-00096.jpg', 'C:\\\\Users\\\\chosun/dataset/images\\\\cate7-00097.jpg', 'C:\\\\Users\\\\chosun/dataset/images\\\\cate7-00098.jpg', 'C:\\\\Users\\\\chosun/dataset/images\\\\cate7-00099.jpg', 'C:\\\\Users\\\\chosun/dataset/images\\\\cate7-00100.jpg', 'C:\\\\Users\\\\chosun/dataset/images\\\\cate7-00101.jpg', 'C:\\\\Users\\\\chosun/dataset/images\\\\cate7-00102.jpg', 'C:\\\\Users\\\\chosun/dataset/images\\\\cate7-00103.jpg', 'C:\\\\Users\\\\chosun/dataset/images\\\\cate7-00104.jpg', 'C:\\\\Users\\\\chosun/dataset/images\\\\cate7-00105.jpg', 'C:\\\\Users\\\\chosun/dataset/images\\\\cate7-00106.jpg', 'C:\\\\Users\\\\chosun/dataset/images\\\\cate7-00107.jpg', 'C:\\\\Users\\\\chosun/dataset/images\\\\cate7-00108.jpg', 'C:\\\\Users\\\\chosun/dataset/images\\\\cate7-00109.jpg', 'C:\\\\Users\\\\chosun/dataset/images\\\\cate7-00110.jpg', 'C:\\\\Users\\\\chosun/dataset/images\\\\cate7-00111.jpg', 'C:\\\\Users\\\\chosun/dataset/images\\\\cate7-00112.jpg', 'C:\\\\Users\\\\chosun/dataset/images\\\\cate7-00113.jpg', 'C:\\\\Users\\\\chosun/dataset/images\\\\cate7-00114.jpg', 'C:\\\\Users\\\\chosun/dataset/images\\\\cate7-00115.jpg', 'C:\\\\Users\\\\chosun/dataset/images\\\\cate8-00001.jpg', 'C:\\\\Users\\\\chosun/dataset/images\\\\cate8-00002.jpg', 'C:\\\\Users\\\\chosun/dataset/images\\\\cate8-00003.jpg', 'C:\\\\Users\\\\chosun/dataset/images\\\\cate8-00004.jpg', 'C:\\\\Users\\\\chosun/dataset/images\\\\cate8-00005.jpg', 'C:\\\\Users\\\\chosun/dataset/images\\\\cate8-00006.jpg', 'C:\\\\Users\\\\chosun/dataset/images\\\\cate8-00007.jpg', 'C:\\\\Users\\\\chosun/dataset/images\\\\cate8-00008.jpg', 'C:\\\\Users\\\\chosun/dataset/images\\\\cate8-00009.jpg', 'C:\\\\Users\\\\chosun/dataset/images\\\\cate8-00010.jpg', 'C:\\\\Users\\\\chosun/dataset/images\\\\cate8-00011.jpg', 'C:\\\\Users\\\\chosun/dataset/images\\\\cate8-00012.jpg', 'C:\\\\Users\\\\chosun/dataset/images\\\\cate8-00013.jpg', 'C:\\\\Users\\\\chosun/dataset/images\\\\cate8-00014.jpg', 'C:\\\\Users\\\\chosun/dataset/images\\\\cate8-00015.jpg', 'C:\\\\Users\\\\chosun/dataset/images\\\\cate8-00016.jpg', 'C:\\\\Users\\\\chosun/dataset/images\\\\cate8-00017.jpg', 'C:\\\\Users\\\\chosun/dataset/images\\\\cate8-00018.jpg', 'C:\\\\Users\\\\chosun/dataset/images\\\\cate8-00019.jpg', 'C:\\\\Users\\\\chosun/dataset/images\\\\cate8-00020.jpg', 'C:\\\\Users\\\\chosun/dataset/images\\\\cate8-00021.jpg', 'C:\\\\Users\\\\chosun/dataset/images\\\\cate8-00022.jpg', 'C:\\\\Users\\\\chosun/dataset/images\\\\cate8-00023.jpg', 'C:\\\\Users\\\\chosun/dataset/images\\\\cate8-00024.jpg', 'C:\\\\Users\\\\chosun/dataset/images\\\\cate8-00025.jpg', 'C:\\\\Users\\\\chosun/dataset/images\\\\cate8-00026.jpg', 'C:\\\\Users\\\\chosun/dataset/images\\\\cate8-00027.jpg', 'C:\\\\Users\\\\chosun/dataset/images\\\\cate8-00028.jpg', 'C:\\\\Users\\\\chosun/dataset/images\\\\cate8-00029.jpg', 'C:\\\\Users\\\\chosun/dataset/images\\\\cate8-00030.jpg', 'C:\\\\Users\\\\chosun/dataset/images\\\\cate8-00031.jpg', 'C:\\\\Users\\\\chosun/dataset/images\\\\cate8-00032.jpg', 'C:\\\\Users\\\\chosun/dataset/images\\\\cate8-00033.jpg', 'C:\\\\Users\\\\chosun/dataset/images\\\\cate8-00034.jpg', 'C:\\\\Users\\\\chosun/dataset/images\\\\cate8-00035.jpg', 'C:\\\\Users\\\\chosun/dataset/images\\\\cate8-00036.jpg', 'C:\\\\Users\\\\chosun/dataset/images\\\\cate8-00037.jpg', 'C:\\\\Users\\\\chosun/dataset/images\\\\cate8-00038.jpg', 'C:\\\\Users\\\\chosun/dataset/images\\\\cate8-00039.jpg', 'C:\\\\Users\\\\chosun/dataset/images\\\\cate8-00040.jpg', 'C:\\\\Users\\\\chosun/dataset/images\\\\cate8-00041.jpg', 'C:\\\\Users\\\\chosun/dataset/images\\\\cate8-00042.jpg', 'C:\\\\Users\\\\chosun/dataset/images\\\\cate8-00043.jpg', 'C:\\\\Users\\\\chosun/dataset/images\\\\cate8-00044.jpg', 'C:\\\\Users\\\\chosun/dataset/images\\\\cate8-00045.jpg', 'C:\\\\Users\\\\chosun/dataset/images\\\\cate8-00046.jpg', 'C:\\\\Users\\\\chosun/dataset/images\\\\cate8-00047.jpg', 'C:\\\\Users\\\\chosun/dataset/images\\\\cate8-00048.jpg', 'C:\\\\Users\\\\chosun/dataset/images\\\\cate8-00049.jpg', 'C:\\\\Users\\\\chosun/dataset/images\\\\cate8-00050.jpg', 'C:\\\\Users\\\\chosun/dataset/images\\\\cate8-00051.jpg', 'C:\\\\Users\\\\chosun/dataset/images\\\\cate8-00052.jpg', 'C:\\\\Users\\\\chosun/dataset/images\\\\cate8-00053.jpg', 'C:\\\\Users\\\\chosun/dataset/images\\\\cate8-00054.jpg', 'C:\\\\Users\\\\chosun/dataset/images\\\\cate8-00055.jpg', 'C:\\\\Users\\\\chosun/dataset/images\\\\cate8-00056.jpg', 'C:\\\\Users\\\\chosun/dataset/images\\\\cate8-00057.jpg', 'C:\\\\Users\\\\chosun/dataset/images\\\\cate8-00058.jpg', 'C:\\\\Users\\\\chosun/dataset/images\\\\cate8-00059.jpg', 'C:\\\\Users\\\\chosun/dataset/images\\\\cate8-00060.jpg', 'C:\\\\Users\\\\chosun/dataset/images\\\\cate8-00061.jpg', 'C:\\\\Users\\\\chosun/dataset/images\\\\cate8-00062.jpg', 'C:\\\\Users\\\\chosun/dataset/images\\\\cate8-00063.jpg', 'C:\\\\Users\\\\chosun/dataset/images\\\\cate8-00064.jpg', 'C:\\\\Users\\\\chosun/dataset/images\\\\cate8-00065.jpg', 'C:\\\\Users\\\\chosun/dataset/images\\\\cate8-00066.jpg', 'C:\\\\Users\\\\chosun/dataset/images\\\\cate8-00067.jpg', 'C:\\\\Users\\\\chosun/dataset/images\\\\cate8-00068.jpg', 'C:\\\\Users\\\\chosun/dataset/images\\\\cate8-00069.jpg', 'C:\\\\Users\\\\chosun/dataset/images\\\\cate8-00070.jpg', 'C:\\\\Users\\\\chosun/dataset/images\\\\cate8-00071.jpg', 'C:\\\\Users\\\\chosun/dataset/images\\\\cate8-00072.jpg', 'C:\\\\Users\\\\chosun/dataset/images\\\\cate8-00073.jpg', 'C:\\\\Users\\\\chosun/dataset/images\\\\cate8-00074.jpg', 'C:\\\\Users\\\\chosun/dataset/images\\\\cate8-00075.jpg', 'C:\\\\Users\\\\chosun/dataset/images\\\\cate8-00076.jpg', 'C:\\\\Users\\\\chosun/dataset/images\\\\cate8-00077.jpg', 'C:\\\\Users\\\\chosun/dataset/images\\\\cate8-00078.jpg', 'C:\\\\Users\\\\chosun/dataset/images\\\\cate8-00079.jpg', 'C:\\\\Users\\\\chosun/dataset/images\\\\cate8-00080.jpg', 'C:\\\\Users\\\\chosun/dataset/images\\\\cate8-00081.jpg', 'C:\\\\Users\\\\chosun/dataset/images\\\\cate8-00082.jpg', 'C:\\\\Users\\\\chosun/dataset/images\\\\cate8-00083.jpg', 'C:\\\\Users\\\\chosun/dataset/images\\\\cate8-00084.jpg', 'C:\\\\Users\\\\chosun/dataset/images\\\\cate8-00085.jpg', 'C:\\\\Users\\\\chosun/dataset/images\\\\cate8-00086.jpg', 'C:\\\\Users\\\\chosun/dataset/images\\\\cate8-00087.jpg', 'C:\\\\Users\\\\chosun/dataset/images\\\\cate8-00088.jpg', 'C:\\\\Users\\\\chosun/dataset/images\\\\cate8-00089.jpg', 'C:\\\\Users\\\\chosun/dataset/images\\\\cate8-00090.jpg', 'C:\\\\Users\\\\chosun/dataset/images\\\\cate8-00091.jpg', 'C:\\\\Users\\\\chosun/dataset/images\\\\cate8-00092.jpg', 'C:\\\\Users\\\\chosun/dataset/images\\\\cate8-00093.jpg', 'C:\\\\Users\\\\chosun/dataset/images\\\\cate8-00094.jpg', 'C:\\\\Users\\\\chosun/dataset/images\\\\cate8-00095.jpg', 'C:\\\\Users\\\\chosun/dataset/images\\\\cate8-00096.jpg', 'C:\\\\Users\\\\chosun/dataset/images\\\\cate8-00097.jpg', 'C:\\\\Users\\\\chosun/dataset/images\\\\cate8-00098.jpg', 'C:\\\\Users\\\\chosun/dataset/images\\\\cate8-00099.jpg', 'C:\\\\Users\\\\chosun/dataset/images\\\\cate8-00100.jpg', 'C:\\\\Users\\\\chosun/dataset/images\\\\cate8-00101.jpg', 'C:\\\\Users\\\\chosun/dataset/images\\\\cate8-00102.jpg', 'C:\\\\Users\\\\chosun/dataset/images\\\\cate8-00103.jpg', 'C:\\\\Users\\\\chosun/dataset/images\\\\cate8-00104.jpg', 'C:\\\\Users\\\\chosun/dataset/images\\\\cate8-00105.jpg', 'C:\\\\Users\\\\chosun/dataset/images\\\\cate8-00106.jpg', 'C:\\\\Users\\\\chosun/dataset/images\\\\cate8-00107.jpg', 'C:\\\\Users\\\\chosun/dataset/images\\\\cate8-00108.jpg', 'C:\\\\Users\\\\chosun/dataset/images\\\\cate8-00109.jpg', 'C:\\\\Users\\\\chosun/dataset/images\\\\cate8-00110.jpg', 'C:\\\\Users\\\\chosun/dataset/images\\\\cate8-00111.jpg', 'C:\\\\Users\\\\chosun/dataset/images\\\\cate8-00112.jpg', 'C:\\\\Users\\\\chosun/dataset/images\\\\cate8-00113.jpg', 'C:\\\\Users\\\\chosun/dataset/images\\\\cate8-00114.jpg', 'C:\\\\Users\\\\chosun/dataset/images\\\\cate8-00115.jpg', 'C:\\\\Users\\\\chosun/dataset/images\\\\cate8-00116.jpg', 'C:\\\\Users\\\\chosun/dataset/images\\\\cate8-00117.jpg', 'C:\\\\Users\\\\chosun/dataset/images\\\\cate8-00118.jpg', 'C:\\\\Users\\\\chosun/dataset/images\\\\cate8-00119.jpg', 'C:\\\\Users\\\\chosun/dataset/images\\\\cate8-00120.jpg', 'C:\\\\Users\\\\chosun/dataset/images\\\\cate8-00121.jpg', 'C:\\\\Users\\\\chosun/dataset/images\\\\cate8-00122.jpg', 'C:\\\\Users\\\\chosun/dataset/images\\\\cate8-00123.jpg', 'C:\\\\Users\\\\chosun/dataset/images\\\\cate8-00124.jpg', 'C:\\\\Users\\\\chosun/dataset/images\\\\cate8-00125.jpg', 'C:\\\\Users\\\\chosun/dataset/images\\\\cate8-00126.jpg', 'C:\\\\Users\\\\chosun/dataset/images\\\\cate8-00127.jpg', 'C:\\\\Users\\\\chosun/dataset/images\\\\cate8-00128.jpg', 'C:\\\\Users\\\\chosun/dataset/images\\\\cate8-00129.jpg', 'C:\\\\Users\\\\chosun/dataset/images\\\\cate8-00130.jpg', 'C:\\\\Users\\\\chosun/dataset/images\\\\cate8-00131.jpg', 'C:\\\\Users\\\\chosun/dataset/images\\\\cate8-00132.jpg', 'C:\\\\Users\\\\chosun/dataset/images\\\\cate8-00133.jpg', 'C:\\\\Users\\\\chosun/dataset/images\\\\cate8-00134.jpg', 'C:\\\\Users\\\\chosun/dataset/images\\\\cate8-00135.jpg', 'C:\\\\Users\\\\chosun/dataset/images\\\\cate8-00136.jpg', 'C:\\\\Users\\\\chosun/dataset/images\\\\cate8-00137.jpg', 'C:\\\\Users\\\\chosun/dataset/images\\\\cate8-00138.jpg', 'C:\\\\Users\\\\chosun/dataset/images\\\\cate8-00139.jpg', 'C:\\\\Users\\\\chosun/dataset/images\\\\cate8-00140.jpg', 'C:\\\\Users\\\\chosun/dataset/images\\\\cate8-00141.jpg', 'C:\\\\Users\\\\chosun/dataset/images\\\\cate8-00142.jpg', 'C:\\\\Users\\\\chosun/dataset/images\\\\cate8-00143.jpg', 'C:\\\\Users\\\\chosun/dataset/images\\\\cate8-00144.jpg', 'C:\\\\Users\\\\chosun/dataset/images\\\\cate8-00145.jpg', 'C:\\\\Users\\\\chosun/dataset/images\\\\cate8-00146.jpg', 'C:\\\\Users\\\\chosun/dataset/images\\\\cate8-00147.jpg', 'C:\\\\Users\\\\chosun/dataset/images\\\\cate8-00148.jpg', 'C:\\\\Users\\\\chosun/dataset/images\\\\cate8-00149.jpg', 'C:\\\\Users\\\\chosun/dataset/images\\\\cate8-00150.jpg', 'C:\\\\Users\\\\chosun/dataset/images\\\\cate8-00151.jpg', 'C:\\\\Users\\\\chosun/dataset/images\\\\cate8-00152.jpg', 'C:\\\\Users\\\\chosun/dataset/images\\\\cate8-00153.jpg', 'C:\\\\Users\\\\chosun/dataset/images\\\\cate8-00154.jpg', 'C:\\\\Users\\\\chosun/dataset/images\\\\cate8-00155.jpg', 'C:\\\\Users\\\\chosun/dataset/images\\\\cate8-00156.jpg', 'C:\\\\Users\\\\chosun/dataset/images\\\\cate8-00157.jpg', 'C:\\\\Users\\\\chosun/dataset/images\\\\cate8-00158.jpg', 'C:\\\\Users\\\\chosun/dataset/images\\\\cate8-00159.jpg', 'C:\\\\Users\\\\chosun/dataset/images\\\\cate8-00160.jpg', 'C:\\\\Users\\\\chosun/dataset/images\\\\cate8-00161.jpg', 'C:\\\\Users\\\\chosun/dataset/images\\\\cate8-00162.jpg', 'C:\\\\Users\\\\chosun/dataset/images\\\\cate8-00163.jpg', 'C:\\\\Users\\\\chosun/dataset/images\\\\cate8-00164.jpg', 'C:\\\\Users\\\\chosun/dataset/images\\\\cate8-00165.jpg', 'C:\\\\Users\\\\chosun/dataset/images\\\\cate8-00166.jpg', 'C:\\\\Users\\\\chosun/dataset/images\\\\cate8-00167.jpg', 'C:\\\\Users\\\\chosun/dataset/images\\\\cate8-00168.jpg', 'C:\\\\Users\\\\chosun/dataset/images\\\\cate8-00169.jpg', 'C:\\\\Users\\\\chosun/dataset/images\\\\cate8-00170.jpg', 'C:\\\\Users\\\\chosun/dataset/images\\\\cate8-00171.jpg', 'C:\\\\Users\\\\chosun/dataset/images\\\\cate8-00172.jpg', 'C:\\\\Users\\\\chosun/dataset/images\\\\cate8-00173.jpg', 'C:\\\\Users\\\\chosun/dataset/images\\\\cate8-00174.jpg', 'C:\\\\Users\\\\chosun/dataset/images\\\\cate8-00175.jpg', 'C:\\\\Users\\\\chosun/dataset/images\\\\cate8-00176.jpg', 'C:\\\\Users\\\\chosun/dataset/images\\\\cate8-00177.jpg', 'C:\\\\Users\\\\chosun/dataset/images\\\\cate8-00178.jpg', 'C:\\\\Users\\\\chosun/dataset/images\\\\cate8-00179.jpg', 'C:\\\\Users\\\\chosun/dataset/images\\\\cate8-00180.jpg', 'C:\\\\Users\\\\chosun/dataset/images\\\\cate8-00181.jpg', 'C:\\\\Users\\\\chosun/dataset/images\\\\cate8-00182.jpg', 'C:\\\\Users\\\\chosun/dataset/images\\\\cate8-00183.jpg', 'C:\\\\Users\\\\chosun/dataset/images\\\\cate8-00184.jpg', 'C:\\\\Users\\\\chosun/dataset/images\\\\cate8-00185.jpg', 'C:\\\\Users\\\\chosun/dataset/images\\\\cate8-00186.jpg', 'C:\\\\Users\\\\chosun/dataset/images\\\\cate8-00187.jpg', 'C:\\\\Users\\\\chosun/dataset/images\\\\cate8-00188.jpg', 'C:\\\\Users\\\\chosun/dataset/images\\\\cate8-00189.jpg', 'C:\\\\Users\\\\chosun/dataset/images\\\\cate8-00190.jpg', 'C:\\\\Users\\\\chosun/dataset/images\\\\cate8-00191.jpg', 'C:\\\\Users\\\\chosun/dataset/images\\\\cate8-00192.jpg', 'C:\\\\Users\\\\chosun/dataset/images\\\\cate8-00193.jpg', 'C:\\\\Users\\\\chosun/dataset/images\\\\cate8-00194.jpg', 'C:\\\\Users\\\\chosun/dataset/images\\\\cate8-00195.jpg', 'C:\\\\Users\\\\chosun/dataset/images\\\\cate8-00196.jpg', 'C:\\\\Users\\\\chosun/dataset/images\\\\cate8-00197.jpg', 'C:\\\\Users\\\\chosun/dataset/images\\\\cate8-00198.jpg', 'C:\\\\Users\\\\chosun/dataset/images\\\\cate8-00199.jpg', 'C:\\\\Users\\\\chosun/dataset/images\\\\cate8-00200.jpg', 'C:\\\\Users\\\\chosun/dataset/images\\\\cate8-00201.jpg', 'C:\\\\Users\\\\chosun/dataset/images\\\\cate8-00202.jpg', 'C:\\\\Users\\\\chosun/dataset/images\\\\cate8-00203.jpg', 'C:\\\\Users\\\\chosun/dataset/images\\\\cate8-00204.jpg', 'C:\\\\Users\\\\chosun/dataset/images\\\\cate8-00205.jpg', 'C:\\\\Users\\\\chosun/dataset/images\\\\cate8-00206.jpg', 'C:\\\\Users\\\\chosun/dataset/images\\\\cate8-00207.jpg', 'C:\\\\Users\\\\chosun/dataset/images\\\\cate8-00208.jpg', 'C:\\\\Users\\\\chosun/dataset/images\\\\cate8-00209.jpg', 'C:\\\\Users\\\\chosun/dataset/images\\\\cate8-00210.jpg', 'C:\\\\Users\\\\chosun/dataset/images\\\\cate8-00211.jpg', 'C:\\\\Users\\\\chosun/dataset/images\\\\cate8-00212.jpg', 'C:\\\\Users\\\\chosun/dataset/images\\\\cate8-00213.jpg', 'C:\\\\Users\\\\chosun/dataset/images\\\\cate8-00214.jpg', 'C:\\\\Users\\\\chosun/dataset/images\\\\cate8-00215.jpg', 'C:\\\\Users\\\\chosun/dataset/images\\\\cate8-00216.jpg', 'C:\\\\Users\\\\chosun/dataset/images\\\\cate8-00217.jpg', 'C:\\\\Users\\\\chosun/dataset/images\\\\cate8-00218.jpg', 'C:\\\\Users\\\\chosun/dataset/images\\\\cate8-00219.jpg', 'C:\\\\Users\\\\chosun/dataset/images\\\\cate8-00220.jpg', 'C:\\\\Users\\\\chosun/dataset/images\\\\cate8-00221.jpg', 'C:\\\\Users\\\\chosun/dataset/images\\\\cate8-00222.jpg', 'C:\\\\Users\\\\chosun/dataset/images\\\\cate8-00223.jpg', 'C:\\\\Users\\\\chosun/dataset/images\\\\cate8-00224.jpg', 'C:\\\\Users\\\\chosun/dataset/images\\\\cate8-00225.jpg', 'C:\\\\Users\\\\chosun/dataset/images\\\\cate8-00226.jpg', 'C:\\\\Users\\\\chosun/dataset/images\\\\cate8-00227.jpg', 'C:\\\\Users\\\\chosun/dataset/images\\\\cate8-00228.jpg', 'C:\\\\Users\\\\chosun/dataset/images\\\\cate8-00229.jpg', 'C:\\\\Users\\\\chosun/dataset/images\\\\cate8-00230.jpg', 'C:\\\\Users\\\\chosun/dataset/images\\\\cate8-00231.jpg', 'C:\\\\Users\\\\chosun/dataset/images\\\\cate8-00232.jpg', 'C:\\\\Users\\\\chosun/dataset/images\\\\cate8-00233.jpg', 'C:\\\\Users\\\\chosun/dataset/images\\\\cate8-00234.jpg', 'C:\\\\Users\\\\chosun/dataset/images\\\\cate8-00235.jpg', 'C:\\\\Users\\\\chosun/dataset/images\\\\cate8-00236.jpg', 'C:\\\\Users\\\\chosun/dataset/images\\\\cate8-00237.jpg', 'C:\\\\Users\\\\chosun/dataset/images\\\\cate8-00238.jpg', 'C:\\\\Users\\\\chosun/dataset/images\\\\cate8-00239.jpg', 'C:\\\\Users\\\\chosun/dataset/images\\\\cate8-00240.jpg', 'C:\\\\Users\\\\chosun/dataset/images\\\\cate8-00241.jpg', 'C:\\\\Users\\\\chosun/dataset/images\\\\cate8-00242.jpg', 'C:\\\\Users\\\\chosun/dataset/images\\\\cate8-00243.jpg', 'C:\\\\Users\\\\chosun/dataset/images\\\\cate8-00244.jpg', 'C:\\\\Users\\\\chosun/dataset/images\\\\cate8-00245.jpg', 'C:\\\\Users\\\\chosun/dataset/images\\\\cate8-00246.jpg', 'C:\\\\Users\\\\chosun/dataset/images\\\\cate8-00247.jpg', 'C:\\\\Users\\\\chosun/dataset/images\\\\cate8-00248.jpg', 'C:\\\\Users\\\\chosun/dataset/images\\\\cate8-00249.jpg', 'C:\\\\Users\\\\chosun/dataset/images\\\\cate8-00250.jpg', 'C:\\\\Users\\\\chosun/dataset/images\\\\cate8-00251.jpg', 'C:\\\\Users\\\\chosun/dataset/images\\\\cate8-00252.jpg', 'C:\\\\Users\\\\chosun/dataset/images\\\\cate8-00253.jpg', 'C:\\\\Users\\\\chosun/dataset/images\\\\cate8-00254.jpg', 'C:\\\\Users\\\\chosun/dataset/images\\\\cate8-00255.jpg', 'C:\\\\Users\\\\chosun/dataset/images\\\\cate8-00256.jpg', 'C:\\\\Users\\\\chosun/dataset/images\\\\cate8-00257.jpg', 'C:\\\\Users\\\\chosun/dataset/images\\\\cate8-00258.jpg', 'C:\\\\Users\\\\chosun/dataset/images\\\\cate8-00259.jpg', 'C:\\\\Users\\\\chosun/dataset/images\\\\cate8-00260.jpg', 'C:\\\\Users\\\\chosun/dataset/images\\\\cate8-00261.jpg', 'C:\\\\Users\\\\chosun/dataset/images\\\\cate8-00262.jpg', 'C:\\\\Users\\\\chosun/dataset/images\\\\cate8-00263.jpg', 'C:\\\\Users\\\\chosun/dataset/images\\\\cate8-00264.jpg', 'C:\\\\Users\\\\chosun/dataset/images\\\\cate8-00265.jpg', 'C:\\\\Users\\\\chosun/dataset/images\\\\cate8-00266.jpg', 'C:\\\\Users\\\\chosun/dataset/images\\\\cate8-00267.jpg', 'C:\\\\Users\\\\chosun/dataset/images\\\\cate8-00268.jpg', 'C:\\\\Users\\\\chosun/dataset/images\\\\cate8-00269.jpg', 'C:\\\\Users\\\\chosun/dataset/images\\\\cate8-00270.jpg', 'C:\\\\Users\\\\chosun/dataset/images\\\\cate8-00271.jpg', 'C:\\\\Users\\\\chosun/dataset/images\\\\cate8-00272.jpg', 'C:\\\\Users\\\\chosun/dataset/images\\\\cate8-00273.jpg', 'C:\\\\Users\\\\chosun/dataset/images\\\\cate8-00274.jpg', 'C:\\\\Users\\\\chosun/dataset/images\\\\cate8-00275.jpg', 'C:\\\\Users\\\\chosun/dataset/images\\\\cate8-00276.jpg', 'C:\\\\Users\\\\chosun/dataset/images\\\\cate8-00277.jpg', 'C:\\\\Users\\\\chosun/dataset/images\\\\cate8-00278.jpg', 'C:\\\\Users\\\\chosun/dataset/images\\\\cate8-00279.jpg', 'C:\\\\Users\\\\chosun/dataset/images\\\\cate8-00280.jpg', 'C:\\\\Users\\\\chosun/dataset/images\\\\cate8-00281.jpg', 'C:\\\\Users\\\\chosun/dataset/images\\\\cate8-00282.jpg', 'C:\\\\Users\\\\chosun/dataset/images\\\\cate8-00283.jpg', 'C:\\\\Users\\\\chosun/dataset/images\\\\cate8-00284.jpg', 'C:\\\\Users\\\\chosun/dataset/images\\\\cate8-00285.jpg', 'C:\\\\Users\\\\chosun/dataset/images\\\\cate8-00286.jpg', 'C:\\\\Users\\\\chosun/dataset/images\\\\cate8-00287.jpg', 'C:\\\\Users\\\\chosun/dataset/images\\\\cate8-00288.jpg', 'C:\\\\Users\\\\chosun/dataset/images\\\\cate8-00289.jpg', 'C:\\\\Users\\\\chosun/dataset/images\\\\cate8-00290.jpg', 'C:\\\\Users\\\\chosun/dataset/images\\\\cate8-00291.jpg', 'C:\\\\Users\\\\chosun/dataset/images\\\\cate8-00292.jpg', 'C:\\\\Users\\\\chosun/dataset/images\\\\cate8-00293.jpg', 'C:\\\\Users\\\\chosun/dataset/images\\\\cate8-00294.jpg', 'C:\\\\Users\\\\chosun/dataset/images\\\\cate8-00295.jpg', 'C:\\\\Users\\\\chosun/dataset/images\\\\cate8-00296.jpg', 'C:\\\\Users\\\\chosun/dataset/images\\\\cate8-00297.jpg', 'C:\\\\Users\\\\chosun/dataset/images\\\\cate8-00298.jpg', 'C:\\\\Users\\\\chosun/dataset/images\\\\cate8-00299.jpg', 'C:\\\\Users\\\\chosun/dataset/images\\\\cate8-00300.jpg', 'C:\\\\Users\\\\chosun/dataset/images\\\\cate8-00301.jpg', 'C:\\\\Users\\\\chosun/dataset/images\\\\cate8-00302.jpg', 'C:\\\\Users\\\\chosun/dataset/images\\\\cate8-00303.jpg', 'C:\\\\Users\\\\chosun/dataset/images\\\\cate8-00304.jpg', 'C:\\\\Users\\\\chosun/dataset/images\\\\cate8-00305.jpg', 'C:\\\\Users\\\\chosun/dataset/images\\\\cate8-00306.jpg', 'C:\\\\Users\\\\chosun/dataset/images\\\\cate8-00307.jpg', 'C:\\\\Users\\\\chosun/dataset/images\\\\cate8-00308.jpg', 'C:\\\\Users\\\\chosun/dataset/images\\\\cate8-00309.jpg', 'C:\\\\Users\\\\chosun/dataset/images\\\\cate8-00310.jpg', 'C:\\\\Users\\\\chosun/dataset/images\\\\cate8-00311.jpg', 'C:\\\\Users\\\\chosun/dataset/images\\\\cate8-00312.jpg', 'C:\\\\Users\\\\chosun/dataset/images\\\\cate8-00313.jpg', 'C:\\\\Users\\\\chosun/dataset/images\\\\cate8-00314.jpg', 'C:\\\\Users\\\\chosun/dataset/images\\\\cate8-00315.jpg', 'C:\\\\Users\\\\chosun/dataset/images\\\\cate8-00316.jpg', 'C:\\\\Users\\\\chosun/dataset/images\\\\cate8-00317.jpg', 'C:\\\\Users\\\\chosun/dataset/images\\\\cate8-00318.jpg', 'C:\\\\Users\\\\chosun/dataset/images\\\\cate8-00319.jpg', 'C:\\\\Users\\\\chosun/dataset/images\\\\cate8-00320.jpg', 'C:\\\\Users\\\\chosun/dataset/images\\\\cate8-00321.jpg', 'C:\\\\Users\\\\chosun/dataset/images\\\\cate8-00322.jpg', 'C:\\\\Users\\\\chosun/dataset/images\\\\cate8-00323.jpg', 'C:\\\\Users\\\\chosun/dataset/images\\\\cate8-00324.jpg', 'C:\\\\Users\\\\chosun/dataset/images\\\\cate8-00325.jpg', 'C:\\\\Users\\\\chosun/dataset/images\\\\cate8-00326.jpg', 'C:\\\\Users\\\\chosun/dataset/images\\\\cate8-00327.jpg', 'C:\\\\Users\\\\chosun/dataset/images\\\\cate8-00328.jpg', 'C:\\\\Users\\\\chosun/dataset/images\\\\cate8-00329.jpg', 'C:\\\\Users\\\\chosun/dataset/images\\\\cate8-00330.jpg', 'C:\\\\Users\\\\chosun/dataset/images\\\\cate8-00331.jpg', 'C:\\\\Users\\\\chosun/dataset/images\\\\cate8-00332.jpg', 'C:\\\\Users\\\\chosun/dataset/images\\\\cate8-00333.jpg', 'C:\\\\Users\\\\chosun/dataset/images\\\\cate8-00334.jpg', 'C:\\\\Users\\\\chosun/dataset/images\\\\cate8-00335.jpg', 'C:\\\\Users\\\\chosun/dataset/images\\\\cate8-00336.jpg', 'C:\\\\Users\\\\chosun/dataset/images\\\\cate8-00337.jpg', 'C:\\\\Users\\\\chosun/dataset/images\\\\cate8-00338.jpg', 'C:\\\\Users\\\\chosun/dataset/images\\\\cate8-00339.jpg', 'C:\\\\Users\\\\chosun/dataset/images\\\\cate8-00340.jpg', 'C:\\\\Users\\\\chosun/dataset/images\\\\cate8-00341.jpg', 'C:\\\\Users\\\\chosun/dataset/images\\\\cate8-00342.jpg', 'C:\\\\Users\\\\chosun/dataset/images\\\\cate8-00343.jpg', 'C:\\\\Users\\\\chosun/dataset/images\\\\cate8-00344.jpg', 'C:\\\\Users\\\\chosun/dataset/images\\\\cate8-00345.jpg', 'C:\\\\Users\\\\chosun/dataset/images\\\\cate8-00346.jpg', 'C:\\\\Users\\\\chosun/dataset/images\\\\cate8-00347.jpg', 'C:\\\\Users\\\\chosun/dataset/images\\\\cate8-00348.jpg', 'C:\\\\Users\\\\chosun/dataset/images\\\\cate8-00349.jpg', 'C:\\\\Users\\\\chosun/dataset/images\\\\cate8-00350.jpg', 'C:\\\\Users\\\\chosun/dataset/images\\\\cate8-00351.jpg', 'C:\\\\Users\\\\chosun/dataset/images\\\\cate8-00352.jpg', 'C:\\\\Users\\\\chosun/dataset/images\\\\cate8-00353.jpg', 'C:\\\\Users\\\\chosun/dataset/images\\\\cate8-00354.jpg', 'C:\\\\Users\\\\chosun/dataset/images\\\\cate8-00355.jpg', 'C:\\\\Users\\\\chosun/dataset/images\\\\cate8-00356.jpg', 'C:\\\\Users\\\\chosun/dataset/images\\\\cate8-00357.jpg', 'C:\\\\Users\\\\chosun/dataset/images\\\\cate8-00358.jpg', 'C:\\\\Users\\\\chosun/dataset/images\\\\cate8-00359.jpg', 'C:\\\\Users\\\\chosun/dataset/images\\\\cate8-00360.jpg', 'C:\\\\Users\\\\chosun/dataset/images\\\\cate8-00361.jpg', 'C:\\\\Users\\\\chosun/dataset/images\\\\cate8-00362.jpg', 'C:\\\\Users\\\\chosun/dataset/images\\\\cate8-00363.jpg', 'C:\\\\Users\\\\chosun/dataset/images\\\\cate8-00364.jpg', 'C:\\\\Users\\\\chosun/dataset/images\\\\cate8-00365.jpg', 'C:\\\\Users\\\\chosun/dataset/images\\\\cate8-00366.jpg', 'C:\\\\Users\\\\chosun/dataset/images\\\\cate8-00367.jpg', 'C:\\\\Users\\\\chosun/dataset/images\\\\cate8-00368.jpg', 'C:\\\\Users\\\\chosun/dataset/images\\\\cate8-00369.jpg', 'C:\\\\Users\\\\chosun/dataset/images\\\\cate8-00370.jpg', 'C:\\\\Users\\\\chosun/dataset/images\\\\cate8-00371.jpg', 'C:\\\\Users\\\\chosun/dataset/images\\\\cate8-00372.jpg', 'C:\\\\Users\\\\chosun/dataset/images\\\\cate8-00373.jpg', 'C:\\\\Users\\\\chosun/dataset/images\\\\cate8-00374.jpg', 'C:\\\\Users\\\\chosun/dataset/images\\\\cate8-00375.jpg', 'C:\\\\Users\\\\chosun/dataset/images\\\\cate8-00376.jpg', 'C:\\\\Users\\\\chosun/dataset/images\\\\cate8-00377.jpg', 'C:\\\\Users\\\\chosun/dataset/images\\\\cate8-00378.jpg', 'C:\\\\Users\\\\chosun/dataset/images\\\\cate8-00379.jpg', 'C:\\\\Users\\\\chosun/dataset/images\\\\cate8-00380.jpg', 'C:\\\\Users\\\\chosun/dataset/images\\\\cate8-00381.jpg', 'C:\\\\Users\\\\chosun/dataset/images\\\\cate8-00382.jpg', 'C:\\\\Users\\\\chosun/dataset/images\\\\cate8-00383.jpg', 'C:\\\\Users\\\\chosun/dataset/images\\\\cate8-00384.jpg', 'C:\\\\Users\\\\chosun/dataset/images\\\\cate8-00385.jpg', 'C:\\\\Users\\\\chosun/dataset/images\\\\cate8-00386.jpg', 'C:\\\\Users\\\\chosun/dataset/images\\\\cate8-00387.jpg', 'C:\\\\Users\\\\chosun/dataset/images\\\\cate8-00388.jpg', 'C:\\\\Users\\\\chosun/dataset/images\\\\cate8-00389.jpg', 'C:\\\\Users\\\\chosun/dataset/images\\\\cate8-00390.jpg', 'C:\\\\Users\\\\chosun/dataset/images\\\\cate8-00391.jpg', 'C:\\\\Users\\\\chosun/dataset/images\\\\cate8-00392.jpg', 'C:\\\\Users\\\\chosun/dataset/images\\\\cate8-00393.jpg', 'C:\\\\Users\\\\chosun/dataset/images\\\\cate8-00394.jpg', 'C:\\\\Users\\\\chosun/dataset/images\\\\cate8-00395.jpg', 'C:\\\\Users\\\\chosun/dataset/images\\\\cate8-00396.jpg', 'C:\\\\Users\\\\chosun/dataset/images\\\\cate8-00397.jpg', 'C:\\\\Users\\\\chosun/dataset/images\\\\cate8-00398.jpg', 'C:\\\\Users\\\\chosun/dataset/images\\\\cate8-00399.jpg', 'C:\\\\Users\\\\chosun/dataset/images\\\\cate8-00400.jpg', 'C:\\\\Users\\\\chosun/dataset/images\\\\cate8-00401.jpg', 'C:\\\\Users\\\\chosun/dataset/images\\\\cate8-00402.jpg', 'C:\\\\Users\\\\chosun/dataset/images\\\\cate8-00403.jpg', 'C:\\\\Users\\\\chosun/dataset/images\\\\cate8-00404.jpg', 'C:\\\\Users\\\\chosun/dataset/images\\\\cate8-00405.jpg', 'C:\\\\Users\\\\chosun/dataset/images\\\\cate8-00406.jpg', 'C:\\\\Users\\\\chosun/dataset/images\\\\cate8-00407.jpg', 'C:\\\\Users\\\\chosun/dataset/images\\\\cate8-00408.jpg', 'C:\\\\Users\\\\chosun/dataset/images\\\\cate8-00409.jpg', 'C:\\\\Users\\\\chosun/dataset/images\\\\cate8-00410.jpg', 'C:\\\\Users\\\\chosun/dataset/images\\\\cate8-00411.jpg', 'C:\\\\Users\\\\chosun/dataset/images\\\\cate8-00412.jpg', 'C:\\\\Users\\\\chosun/dataset/images\\\\cate8-00413.jpg', 'C:\\\\Users\\\\chosun/dataset/images\\\\cate8-00414.jpg', 'C:\\\\Users\\\\chosun/dataset/images\\\\cate8-00415.jpg', 'C:\\\\Users\\\\chosun/dataset/images\\\\cate8-00416.jpg', 'C:\\\\Users\\\\chosun/dataset/images\\\\cate8-00417.jpg', 'C:\\\\Users\\\\chosun/dataset/images\\\\cate8-00418.jpg', 'C:\\\\Users\\\\chosun/dataset/images\\\\cate8-00419.jpg', 'C:\\\\Users\\\\chosun/dataset/images\\\\cate8-00420.jpg', 'C:\\\\Users\\\\chosun/dataset/images\\\\cate8-00421.jpg', 'C:\\\\Users\\\\chosun/dataset/images\\\\cate8-00422.jpg', 'C:\\\\Users\\\\chosun/dataset/images\\\\cate8-00423.jpg', 'C:\\\\Users\\\\chosun/dataset/images\\\\cate8-00424.jpg', 'C:\\\\Users\\\\chosun/dataset/images\\\\cate8-00425.jpg', 'C:\\\\Users\\\\chosun/dataset/images\\\\cate8-00426.jpg', 'C:\\\\Users\\\\chosun/dataset/images\\\\cate8-00427.jpg', 'C:\\\\Users\\\\chosun/dataset/images\\\\cate8-00428.jpg', 'C:\\\\Users\\\\chosun/dataset/images\\\\cate8-00429.jpg', 'C:\\\\Users\\\\chosun/dataset/images\\\\cate8-00430.jpg', 'C:\\\\Users\\\\chosun/dataset/images\\\\cate8-00431.jpg', 'C:\\\\Users\\\\chosun/dataset/images\\\\cate8-00432.jpg', 'C:\\\\Users\\\\chosun/dataset/images\\\\cate8-00433.jpg', 'C:\\\\Users\\\\chosun/dataset/images\\\\cate8-00434.jpg', 'C:\\\\Users\\\\chosun/dataset/images\\\\cate8-00435.jpg', 'C:\\\\Users\\\\chosun/dataset/images\\\\cate8-00436.jpg', 'C:\\\\Users\\\\chosun/dataset/images\\\\cate8-00437.jpg', 'C:\\\\Users\\\\chosun/dataset/images\\\\cate8-00438.jpg', 'C:\\\\Users\\\\chosun/dataset/images\\\\cate8-00439.jpg', 'C:\\\\Users\\\\chosun/dataset/images\\\\cate8-00440.jpg', 'C:\\\\Users\\\\chosun/dataset/images\\\\cate8-00441.jpg', 'C:\\\\Users\\\\chosun/dataset/images\\\\cate8-00442.jpg', 'C:\\\\Users\\\\chosun/dataset/images\\\\cate8-00443.jpg', 'C:\\\\Users\\\\chosun/dataset/images\\\\cate8-00444.jpg', 'C:\\\\Users\\\\chosun/dataset/images\\\\cate8-00445.jpg', 'C:\\\\Users\\\\chosun/dataset/images\\\\cate8-00446.jpg', 'C:\\\\Users\\\\chosun/dataset/images\\\\cate8-00447.jpg', 'C:\\\\Users\\\\chosun/dataset/images\\\\cate8-00448.jpg', 'C:\\\\Users\\\\chosun/dataset/images\\\\cate8-00449.jpg', 'C:\\\\Users\\\\chosun/dataset/images\\\\cate8-00450.jpg', 'C:\\\\Users\\\\chosun/dataset/images\\\\cate8-00451.jpg', 'C:\\\\Users\\\\chosun/dataset/images\\\\cate8-00452.jpg', 'C:\\\\Users\\\\chosun/dataset/images\\\\cate8-00453.jpg', 'C:\\\\Users\\\\chosun/dataset/images\\\\cate8-00454.jpg', 'C:\\\\Users\\\\chosun/dataset/images\\\\cate8-00455.jpg', 'C:\\\\Users\\\\chosun/dataset/images\\\\cate8-00456.jpg', 'C:\\\\Users\\\\chosun/dataset/images\\\\cate8-00457.jpg', 'C:\\\\Users\\\\chosun/dataset/images\\\\cate9-00001.jpg', 'C:\\\\Users\\\\chosun/dataset/images\\\\cate9-00002.jpg', 'C:\\\\Users\\\\chosun/dataset/images\\\\cate9-00003.jpg', 'C:\\\\Users\\\\chosun/dataset/images\\\\cate9-00004.jpg', 'C:\\\\Users\\\\chosun/dataset/images\\\\cate9-00005.jpg', 'C:\\\\Users\\\\chosun/dataset/images\\\\cate9-00006.jpg', 'C:\\\\Users\\\\chosun/dataset/images\\\\cate9-00007.jpg', 'C:\\\\Users\\\\chosun/dataset/images\\\\cate9-00008.jpg', 'C:\\\\Users\\\\chosun/dataset/images\\\\cate9-00009.jpg', 'C:\\\\Users\\\\chosun/dataset/images\\\\cate9-00010.jpg', 'C:\\\\Users\\\\chosun/dataset/images\\\\cate9-00011.jpg', 'C:\\\\Users\\\\chosun/dataset/images\\\\cate9-00012.jpg', 'C:\\\\Users\\\\chosun/dataset/images\\\\cate9-00013.jpg', 'C:\\\\Users\\\\chosun/dataset/images\\\\cate9-00014.jpg', 'C:\\\\Users\\\\chosun/dataset/images\\\\cate9-00015.jpg', 'C:\\\\Users\\\\chosun/dataset/images\\\\cate9-00016.jpg', 'C:\\\\Users\\\\chosun/dataset/images\\\\cate9-00017.jpg', 'C:\\\\Users\\\\chosun/dataset/images\\\\cate9-00018.jpg', 'C:\\\\Users\\\\chosun/dataset/images\\\\cate9-00019.jpg', 'C:\\\\Users\\\\chosun/dataset/images\\\\cate9-00020.jpg', 'C:\\\\Users\\\\chosun/dataset/images\\\\cate9-00021.jpg', 'C:\\\\Users\\\\chosun/dataset/images\\\\cate9-00022.jpg', 'C:\\\\Users\\\\chosun/dataset/images\\\\cate9-00023.jpg', 'C:\\\\Users\\\\chosun/dataset/images\\\\cate9-00024.jpg', 'C:\\\\Users\\\\chosun/dataset/images\\\\cate9-00025.jpg', 'C:\\\\Users\\\\chosun/dataset/images\\\\cate9-00026.jpg', 'C:\\\\Users\\\\chosun/dataset/images\\\\cate9-00027.jpg', 'C:\\\\Users\\\\chosun/dataset/images\\\\cate9-00028.jpg', 'C:\\\\Users\\\\chosun/dataset/images\\\\cate9-00029.jpg', 'C:\\\\Users\\\\chosun/dataset/images\\\\cate9-00030.jpg', 'C:\\\\Users\\\\chosun/dataset/images\\\\cate9-00031.jpg', 'C:\\\\Users\\\\chosun/dataset/images\\\\cate9-00032.jpg', 'C:\\\\Users\\\\chosun/dataset/images\\\\cate9-00033.jpg', 'C:\\\\Users\\\\chosun/dataset/images\\\\cate9-00034.jpg', 'C:\\\\Users\\\\chosun/dataset/images\\\\cate9-00035.jpg', 'C:\\\\Users\\\\chosun/dataset/images\\\\cate9-00036.jpg', 'C:\\\\Users\\\\chosun/dataset/images\\\\cate9-00037.jpg', 'C:\\\\Users\\\\chosun/dataset/images\\\\cate9-00038.jpg', 'C:\\\\Users\\\\chosun/dataset/images\\\\cate9-00039.jpg', 'C:\\\\Users\\\\chosun/dataset/images\\\\cate9-00040.jpg', 'C:\\\\Users\\\\chosun/dataset/images\\\\cate9-00041.jpg', 'C:\\\\Users\\\\chosun/dataset/images\\\\cate9-00042.jpg', 'C:\\\\Users\\\\chosun/dataset/images\\\\cate9-00043.jpg', 'C:\\\\Users\\\\chosun/dataset/images\\\\cate9-00044.jpg', 'C:\\\\Users\\\\chosun/dataset/images\\\\cate9-00045.jpg']\n"
     ]
    }
   ],
   "source": [
    "import os\n",
    "from glob import glob\n",
    "def create_dir(path):\n",
    "    if not os.path.exists(path):\n",
    "        os.makedirs(path)\n",
    "def load_data(dataset_path, split=0.2):\n",
    "    images = sorted(glob(os.path.join(dataset_path, \"images\", \"*.jpg\")))\n",
    "    masks = sorted(glob(os.path.join(dataset_path, \"tooth-semantic-masks\", \"*.png\")))\n",
    "dataset_path = os.getcwd()\n",
    "dataset_path=dataset_path+\"/dataset/\"\n",
    "images = sorted(glob(os.path.join(dataset_path, \"images\", \"*.jpg\")))\n",
    "print(images)"
   ]
  },
  {
   "cell_type": "code",
   "execution_count": null,
   "id": "2d55bdda",
   "metadata": {},
   "outputs": [],
   "source": []
  }
 ],
 "metadata": {
  "kernelspec": {
   "display_name": "Python 3 (ipykernel)",
   "language": "python",
   "name": "python3"
  },
  "language_info": {
   "codemirror_mode": {
    "name": "ipython",
    "version": 3
   },
   "file_extension": ".py",
   "mimetype": "text/x-python",
   "name": "python",
   "nbconvert_exporter": "python",
   "pygments_lexer": "ipython3",
   "version": "3.7.9"
  }
 },
 "nbformat": 4,
 "nbformat_minor": 5
}
