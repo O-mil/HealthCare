{
 "cells": [
  {
   "cell_type": "code",
   "execution_count": 2,
   "id": "ee5d7e40",
   "metadata": {},
   "outputs": [],
   "source": [
    "#Metrices\n",
    "\n",
    "import numpy as np\n",
    "import tensorflow as tf\n",
    "from tensorflow.keras import backend as K\n",
    "\n",
    "def iou(y_true, y_pred):\n",
    "    def f(y_true, y_pred):\n",
    "        intersection = (y_true * y_pred).sum()\n",
    "        union = y_true.sum() + y_pred.sum() - intersection\n",
    "        x = (intersection + 1e-15) / (union + 1e-15)\n",
    "        x = x.astype(np.float32)\n",
    "        return x\n",
    "    return tf.numpy_function(f, [y_true, y_pred], tf.float32)\n",
    "\n",
    "smooth = 1e-15\n",
    "def dice_coef(y_true, y_pred):\n",
    "    y_true = tf.keras.layers.Flatten()(y_true)\n",
    "    y_pred = tf.keras.layers.Flatten()(y_pred)\n",
    "    intersection = tf.reduce_sum(y_true * y_pred)\n",
    "    return (2. * intersection + smooth) / (tf.reduce_sum(y_true) + tf.reduce_sum(y_pred) + smooth)\n",
    "\n",
    "def dice_loss(y_true, y_pred):\n",
    "    return 1.0 - dice_coef(y_true, y_pred)"
   ]
  },
  {
   "cell_type": "code",
   "execution_count": 3,
   "id": "56d44b2a",
   "metadata": {},
   "outputs": [],
   "source": [
    "#Model\n",
    "\n",
    "from tensorflow.keras.layers import Conv2D, BatchNormalization, Activation, MaxPool2D, Conv2DTranspose, Concatenate, Input, Dropout\n",
    "from tensorflow.keras.layers import Input, Activation, Conv2D, MaxPooling2D, UpSampling2D, Dropout,BatchNormalization\n",
    "from tensorflow.keras.models import Model\n",
    "\n",
    "\n",
    "def mnet(input_shape):\n",
    "\n",
    "    # Input\n",
    "    input1 = Input(input_shape)\n",
    "\n",
    "    # Encoder\n",
    "    conv1 = Conv2D(16, (3, 3), padding='same')(input1)\n",
    "    conv1 = BatchNormalization()(conv1)\n",
    "    conv1 = Activation('relu')(conv1)\n",
    "    conv1 = Dropout(0.2)(conv1)\n",
    "\n",
    "    conv1 = Concatenate()([input1, conv1])\n",
    "    conv1 = Conv2D(32, (3, 3), padding='same')(conv1)\n",
    "    conv1 = BatchNormalization()(conv1)\n",
    "    conv1 = Activation('relu')(conv1)\n",
    "    pool1 = MaxPool2D(pool_size=(2, 2))(conv1)\n",
    "\n",
    "    #\n",
    "    input2 = MaxPool2D(pool_size=(2, 2))(input1)\n",
    "    conv21 = Concatenate()([input2, pool1])\n",
    "\n",
    "    conv2 = Conv2D(32, (3, 3), padding='same')(conv21)\n",
    "    conv2 = BatchNormalization()(conv2)\n",
    "    conv2 = Activation('relu')(conv2)\n",
    "    conv2 = Dropout(0.2)(conv2)\n",
    "\n",
    "    conv2 = Concatenate()([conv21, conv2])\n",
    "    conv2 = Conv2D(48, (3, 3), padding='same')(conv2)\n",
    "    conv2 = BatchNormalization()(conv2)\n",
    "    conv2 = Activation('relu')(conv2)\n",
    "    pool2 = MaxPool2D(pool_size=(2, 2))(conv2)\n",
    "\n",
    "    #\n",
    "    input3 = MaxPool2D(pool_size=(2, 2))(input2)\n",
    "    conv31 = Concatenate()([input3, pool2])\n",
    "\n",
    "    conv3 = Conv2D(48, (3, 3), padding='same')(conv31)\n",
    "    conv3 = BatchNormalization()(conv3)\n",
    "    conv3 = Activation('relu')(conv3)\n",
    "    conv3 = Dropout(0.2)(conv3)\n",
    "    \n",
    "    conv3 = Concatenate()([conv31, conv3])\n",
    "    conv3 = Conv2D(64, (3, 3), padding='same')(conv3)\n",
    "    conv3 = BatchNormalization()(conv3)\n",
    "    conv3 = Activation('relu')(conv3)\n",
    "    pool3 = MaxPool2D(pool_size=(2, 2))(conv3)\n",
    "\n",
    "    #\n",
    "    input4 = MaxPool2D(pool_size=(2, 2))(input3)\n",
    "    conv41 = Concatenate()([input4, pool3])\n",
    "\n",
    "    conv4 = Conv2D(64, (3, 3), padding='same')(conv41)\n",
    "    conv4 = BatchNormalization()(conv4)\n",
    "    conv4 = Activation('relu')(conv4)\n",
    "    conv4 = Dropout(0.2)(conv4)\n",
    "    \n",
    "    conv4 = Concatenate()([conv41, conv4])\n",
    "    conv4 = Conv2D(128, (3, 3), padding='same')(conv4)\n",
    "    conv4 = BatchNormalization()(conv4)\n",
    "    conv4 = Activation('relu')(conv4)\n",
    "    conv4 = Dropout(0.2)(conv4)\n",
    "\n",
    "    conv4 = Conv2D(64, (3, 3), padding='same')(conv4)\n",
    "    conv4 = BatchNormalization()(conv4)\n",
    "    conv4 = Activation('relu')(conv4)\n",
    "\n",
    "    # Decoder\n",
    "    conv5 = UpSampling2D(size=(2, 2))(conv4)\n",
    "    conv51 = Concatenate()([conv3, conv5])\n",
    "\n",
    "    conv5 = Conv2D(64, (3, 3), padding='same')(conv51)\n",
    "    conv5 = BatchNormalization()(conv5)\n",
    "    conv5 = Activation('relu')(conv5)\n",
    "    conv5 = Dropout(0.2)(conv5)\n",
    "    \n",
    "    conv5 = Concatenate()([conv51, conv5])\n",
    "    conv5 = Conv2D(48, (3, 3), padding='same')(conv5)\n",
    "    conv5 = BatchNormalization()(conv5)\n",
    "    conv5 = Activation('relu')(conv5)\n",
    "\n",
    "    #\n",
    "    conv6 = UpSampling2D(size=(2, 2))(conv5)\n",
    "    conv61 = Concatenate()([conv2, conv6])\n",
    "\n",
    "    conv6 = Conv2D(48, (3, 3), padding='same')(conv61)\n",
    "    conv6 = BatchNormalization()(conv6)\n",
    "    conv6 = Activation('relu')(conv6)\n",
    "    conv6 = Dropout(0.2)(conv6)\n",
    "    \n",
    "    conv6 = Concatenate()([conv61, conv6])\n",
    "    conv6 = Conv2D(32, (3, 3), padding='same')(conv6)\n",
    "    conv6 = BatchNormalization()(conv6)\n",
    "    conv6 = Activation('relu')(conv6)\n",
    "\n",
    "    #\n",
    "    conv7 = UpSampling2D(size=(2, 2))(conv6)\n",
    "    conv71 = Concatenate()([conv1, conv7])\n",
    "\n",
    "    conv7 = Conv2D(32, (3, 3), padding='same')(conv71)\n",
    "    conv7 = BatchNormalization()(conv7)\n",
    "    conv7 = Activation('relu')(conv7)\n",
    "    conv7 = Dropout(0.2)(conv7)\n",
    "    \n",
    "    conv7 = Concatenate()([conv71, conv7])\n",
    "    conv7 = Conv2D(16, (3, 3), padding='same')(conv7)\n",
    "    conv7 = BatchNormalization()(conv7)\n",
    "    conv7 = Activation('relu')(conv7)\n",
    "\n",
    "    # Final\n",
    "    conv81 = UpSampling2D(size=(8, 8))(conv4)\n",
    "    conv82 = UpSampling2D(size=(4, 4))(conv5)\n",
    "    conv83 = UpSampling2D(size=(2, 2))(conv6)\n",
    "    conv8 = Concatenate()([conv81, conv82, conv83, conv7])\n",
    "    conv8 = Conv2D(1, 1, activation='sigmoid')(conv8)\n",
    "\n",
    "    ############\n",
    "    model = Model(inputs=input1, outputs=conv8)\n",
    "\n",
    "    \n",
    "    return model"
   ]
  },
  {
   "cell_type": "code",
   "execution_count": 5,
   "id": "97572d09",
   "metadata": {},
   "outputs": [
    {
     "name": "stdout",
     "output_type": "stream",
     "text": [
      "Train: 900 - 900\n",
      "Valid: 300 - 300\n",
      "Test: 300 - 300\n",
      "Model: \"model_1\"\n",
      "__________________________________________________________________________________________________\n",
      "Layer (type)                    Output Shape         Param #     Connected to                     \n",
      "==================================================================================================\n",
      "input_2 (InputLayer)            [(None, 256, 256, 3) 0                                            \n",
      "__________________________________________________________________________________________________\n",
      "conv2d_16 (Conv2D)              (None, 256, 256, 16) 448         input_2[0][0]                    \n",
      "__________________________________________________________________________________________________\n",
      "batch_normalization_15 (BatchNo (None, 256, 256, 16) 64          conv2d_16[0][0]                  \n",
      "__________________________________________________________________________________________________\n",
      "activation_15 (Activation)      (None, 256, 256, 16) 0           batch_normalization_15[0][0]     \n",
      "__________________________________________________________________________________________________\n",
      "dropout_8 (Dropout)             (None, 256, 256, 16) 0           activation_15[0][0]              \n",
      "__________________________________________________________________________________________________\n",
      "concatenate_14 (Concatenate)    (None, 256, 256, 19) 0           input_2[0][0]                    \n",
      "                                                                 dropout_8[0][0]                  \n",
      "__________________________________________________________________________________________________\n",
      "conv2d_17 (Conv2D)              (None, 256, 256, 32) 5504        concatenate_14[0][0]             \n",
      "__________________________________________________________________________________________________\n",
      "batch_normalization_16 (BatchNo (None, 256, 256, 32) 128         conv2d_17[0][0]                  \n",
      "__________________________________________________________________________________________________\n",
      "activation_16 (Activation)      (None, 256, 256, 32) 0           batch_normalization_16[0][0]     \n",
      "__________________________________________________________________________________________________\n",
      "max_pooling2d_7 (MaxPooling2D)  (None, 128, 128, 3)  0           input_2[0][0]                    \n",
      "__________________________________________________________________________________________________\n",
      "max_pooling2d_6 (MaxPooling2D)  (None, 128, 128, 32) 0           activation_16[0][0]              \n",
      "__________________________________________________________________________________________________\n",
      "concatenate_15 (Concatenate)    (None, 128, 128, 35) 0           max_pooling2d_7[0][0]            \n",
      "                                                                 max_pooling2d_6[0][0]            \n",
      "__________________________________________________________________________________________________\n",
      "conv2d_18 (Conv2D)              (None, 128, 128, 32) 10112       concatenate_15[0][0]             \n",
      "__________________________________________________________________________________________________\n",
      "batch_normalization_17 (BatchNo (None, 128, 128, 32) 128         conv2d_18[0][0]                  \n",
      "__________________________________________________________________________________________________\n",
      "activation_17 (Activation)      (None, 128, 128, 32) 0           batch_normalization_17[0][0]     \n",
      "__________________________________________________________________________________________________\n",
      "dropout_9 (Dropout)             (None, 128, 128, 32) 0           activation_17[0][0]              \n",
      "__________________________________________________________________________________________________\n",
      "concatenate_16 (Concatenate)    (None, 128, 128, 67) 0           concatenate_15[0][0]             \n",
      "                                                                 dropout_9[0][0]                  \n",
      "__________________________________________________________________________________________________\n",
      "conv2d_19 (Conv2D)              (None, 128, 128, 48) 28992       concatenate_16[0][0]             \n",
      "__________________________________________________________________________________________________\n",
      "batch_normalization_18 (BatchNo (None, 128, 128, 48) 192         conv2d_19[0][0]                  \n",
      "__________________________________________________________________________________________________\n",
      "activation_18 (Activation)      (None, 128, 128, 48) 0           batch_normalization_18[0][0]     \n",
      "__________________________________________________________________________________________________\n",
      "max_pooling2d_9 (MaxPooling2D)  (None, 64, 64, 3)    0           max_pooling2d_7[0][0]            \n",
      "__________________________________________________________________________________________________\n",
      "max_pooling2d_8 (MaxPooling2D)  (None, 64, 64, 48)   0           activation_18[0][0]              \n",
      "__________________________________________________________________________________________________\n",
      "concatenate_17 (Concatenate)    (None, 64, 64, 51)   0           max_pooling2d_9[0][0]            \n",
      "                                                                 max_pooling2d_8[0][0]            \n",
      "__________________________________________________________________________________________________\n",
      "conv2d_20 (Conv2D)              (None, 64, 64, 48)   22080       concatenate_17[0][0]             \n",
      "__________________________________________________________________________________________________\n",
      "batch_normalization_19 (BatchNo (None, 64, 64, 48)   192         conv2d_20[0][0]                  \n",
      "__________________________________________________________________________________________________\n",
      "activation_19 (Activation)      (None, 64, 64, 48)   0           batch_normalization_19[0][0]     \n",
      "__________________________________________________________________________________________________\n",
      "dropout_10 (Dropout)            (None, 64, 64, 48)   0           activation_19[0][0]              \n",
      "__________________________________________________________________________________________________\n",
      "concatenate_18 (Concatenate)    (None, 64, 64, 99)   0           concatenate_17[0][0]             \n",
      "                                                                 dropout_10[0][0]                 \n",
      "__________________________________________________________________________________________________\n",
      "conv2d_21 (Conv2D)              (None, 64, 64, 64)   57088       concatenate_18[0][0]             \n",
      "__________________________________________________________________________________________________\n",
      "batch_normalization_20 (BatchNo (None, 64, 64, 64)   256         conv2d_21[0][0]                  \n",
      "__________________________________________________________________________________________________\n",
      "activation_20 (Activation)      (None, 64, 64, 64)   0           batch_normalization_20[0][0]     \n",
      "__________________________________________________________________________________________________\n",
      "max_pooling2d_11 (MaxPooling2D) (None, 32, 32, 3)    0           max_pooling2d_9[0][0]            \n",
      "__________________________________________________________________________________________________\n",
      "max_pooling2d_10 (MaxPooling2D) (None, 32, 32, 64)   0           activation_20[0][0]              \n",
      "__________________________________________________________________________________________________\n",
      "concatenate_19 (Concatenate)    (None, 32, 32, 67)   0           max_pooling2d_11[0][0]           \n",
      "                                                                 max_pooling2d_10[0][0]           \n",
      "__________________________________________________________________________________________________\n",
      "conv2d_22 (Conv2D)              (None, 32, 32, 64)   38656       concatenate_19[0][0]             \n",
      "__________________________________________________________________________________________________\n",
      "batch_normalization_21 (BatchNo (None, 32, 32, 64)   256         conv2d_22[0][0]                  \n",
      "__________________________________________________________________________________________________\n",
      "activation_21 (Activation)      (None, 32, 32, 64)   0           batch_normalization_21[0][0]     \n",
      "__________________________________________________________________________________________________\n",
      "dropout_11 (Dropout)            (None, 32, 32, 64)   0           activation_21[0][0]              \n",
      "__________________________________________________________________________________________________\n",
      "concatenate_20 (Concatenate)    (None, 32, 32, 131)  0           concatenate_19[0][0]             \n",
      "                                                                 dropout_11[0][0]                 \n",
      "__________________________________________________________________________________________________\n",
      "conv2d_23 (Conv2D)              (None, 32, 32, 128)  151040      concatenate_20[0][0]             \n",
      "__________________________________________________________________________________________________\n",
      "batch_normalization_22 (BatchNo (None, 32, 32, 128)  512         conv2d_23[0][0]                  \n",
      "__________________________________________________________________________________________________\n",
      "activation_22 (Activation)      (None, 32, 32, 128)  0           batch_normalization_22[0][0]     \n",
      "__________________________________________________________________________________________________\n",
      "dropout_12 (Dropout)            (None, 32, 32, 128)  0           activation_22[0][0]              \n",
      "__________________________________________________________________________________________________\n",
      "conv2d_24 (Conv2D)              (None, 32, 32, 64)   73792       dropout_12[0][0]                 \n",
      "__________________________________________________________________________________________________\n",
      "batch_normalization_23 (BatchNo (None, 32, 32, 64)   256         conv2d_24[0][0]                  \n",
      "__________________________________________________________________________________________________\n",
      "activation_23 (Activation)      (None, 32, 32, 64)   0           batch_normalization_23[0][0]     \n",
      "__________________________________________________________________________________________________\n",
      "up_sampling2d_6 (UpSampling2D)  (None, 64, 64, 64)   0           activation_23[0][0]              \n",
      "__________________________________________________________________________________________________\n",
      "concatenate_21 (Concatenate)    (None, 64, 64, 128)  0           activation_20[0][0]              \n",
      "                                                                 up_sampling2d_6[0][0]            \n",
      "__________________________________________________________________________________________________\n",
      "conv2d_25 (Conv2D)              (None, 64, 64, 64)   73792       concatenate_21[0][0]             \n",
      "__________________________________________________________________________________________________\n",
      "batch_normalization_24 (BatchNo (None, 64, 64, 64)   256         conv2d_25[0][0]                  \n",
      "__________________________________________________________________________________________________\n",
      "activation_24 (Activation)      (None, 64, 64, 64)   0           batch_normalization_24[0][0]     \n",
      "__________________________________________________________________________________________________\n",
      "dropout_13 (Dropout)            (None, 64, 64, 64)   0           activation_24[0][0]              \n",
      "__________________________________________________________________________________________________\n",
      "concatenate_22 (Concatenate)    (None, 64, 64, 192)  0           concatenate_21[0][0]             \n",
      "                                                                 dropout_13[0][0]                 \n",
      "__________________________________________________________________________________________________\n",
      "conv2d_26 (Conv2D)              (None, 64, 64, 48)   82992       concatenate_22[0][0]             \n",
      "__________________________________________________________________________________________________\n",
      "batch_normalization_25 (BatchNo (None, 64, 64, 48)   192         conv2d_26[0][0]                  \n",
      "__________________________________________________________________________________________________\n",
      "activation_25 (Activation)      (None, 64, 64, 48)   0           batch_normalization_25[0][0]     \n",
      "__________________________________________________________________________________________________\n",
      "up_sampling2d_7 (UpSampling2D)  (None, 128, 128, 48) 0           activation_25[0][0]              \n",
      "__________________________________________________________________________________________________\n",
      "concatenate_23 (Concatenate)    (None, 128, 128, 96) 0           activation_18[0][0]              \n",
      "                                                                 up_sampling2d_7[0][0]            \n",
      "__________________________________________________________________________________________________\n",
      "conv2d_27 (Conv2D)              (None, 128, 128, 48) 41520       concatenate_23[0][0]             \n",
      "__________________________________________________________________________________________________\n",
      "batch_normalization_26 (BatchNo (None, 128, 128, 48) 192         conv2d_27[0][0]                  \n",
      "__________________________________________________________________________________________________\n",
      "activation_26 (Activation)      (None, 128, 128, 48) 0           batch_normalization_26[0][0]     \n",
      "__________________________________________________________________________________________________\n",
      "dropout_14 (Dropout)            (None, 128, 128, 48) 0           activation_26[0][0]              \n",
      "__________________________________________________________________________________________________\n",
      "concatenate_24 (Concatenate)    (None, 128, 128, 144 0           concatenate_23[0][0]             \n",
      "                                                                 dropout_14[0][0]                 \n",
      "__________________________________________________________________________________________________\n",
      "conv2d_28 (Conv2D)              (None, 128, 128, 32) 41504       concatenate_24[0][0]             \n",
      "__________________________________________________________________________________________________\n",
      "batch_normalization_27 (BatchNo (None, 128, 128, 32) 128         conv2d_28[0][0]                  \n",
      "__________________________________________________________________________________________________\n",
      "activation_27 (Activation)      (None, 128, 128, 32) 0           batch_normalization_27[0][0]     \n",
      "__________________________________________________________________________________________________\n",
      "up_sampling2d_8 (UpSampling2D)  (None, 256, 256, 32) 0           activation_27[0][0]              \n",
      "__________________________________________________________________________________________________\n",
      "concatenate_25 (Concatenate)    (None, 256, 256, 64) 0           activation_16[0][0]              \n",
      "                                                                 up_sampling2d_8[0][0]            \n",
      "__________________________________________________________________________________________________\n",
      "conv2d_29 (Conv2D)              (None, 256, 256, 32) 18464       concatenate_25[0][0]             \n",
      "__________________________________________________________________________________________________\n",
      "batch_normalization_28 (BatchNo (None, 256, 256, 32) 128         conv2d_29[0][0]                  \n",
      "__________________________________________________________________________________________________\n",
      "activation_28 (Activation)      (None, 256, 256, 32) 0           batch_normalization_28[0][0]     \n",
      "__________________________________________________________________________________________________\n",
      "dropout_15 (Dropout)            (None, 256, 256, 32) 0           activation_28[0][0]              \n",
      "__________________________________________________________________________________________________\n",
      "concatenate_26 (Concatenate)    (None, 256, 256, 96) 0           concatenate_25[0][0]             \n",
      "                                                                 dropout_15[0][0]                 \n",
      "__________________________________________________________________________________________________\n",
      "conv2d_30 (Conv2D)              (None, 256, 256, 16) 13840       concatenate_26[0][0]             \n",
      "__________________________________________________________________________________________________\n",
      "batch_normalization_29 (BatchNo (None, 256, 256, 16) 64          conv2d_30[0][0]                  \n",
      "__________________________________________________________________________________________________\n",
      "up_sampling2d_9 (UpSampling2D)  (None, 256, 256, 64) 0           activation_23[0][0]              \n",
      "__________________________________________________________________________________________________\n",
      "up_sampling2d_10 (UpSampling2D) (None, 256, 256, 48) 0           activation_25[0][0]              \n",
      "__________________________________________________________________________________________________\n",
      "up_sampling2d_11 (UpSampling2D) (None, 256, 256, 32) 0           activation_27[0][0]              \n",
      "__________________________________________________________________________________________________\n",
      "activation_29 (Activation)      (None, 256, 256, 16) 0           batch_normalization_29[0][0]     \n",
      "__________________________________________________________________________________________________\n",
      "concatenate_27 (Concatenate)    (None, 256, 256, 160 0           up_sampling2d_9[0][0]            \n",
      "                                                                 up_sampling2d_10[0][0]           \n",
      "                                                                 up_sampling2d_11[0][0]           \n",
      "                                                                 activation_29[0][0]              \n",
      "__________________________________________________________________________________________________\n",
      "conv2d_31 (Conv2D)              (None, 256, 256, 1)  161         concatenate_27[0][0]             \n",
      "==================================================================================================\n",
      "Total params: 662,929\n",
      "Trainable params: 661,457\n",
      "Non-trainable params: 1,472\n",
      "__________________________________________________________________________________________________\n"
     ]
    },
    {
     "name": "stderr",
     "output_type": "stream",
     "text": [
      "2022-08-19 00:02:11.054331: I tensorflow/core/profiler/lib/profiler_session.cc:126] Profiler session initializing.\n",
      "2022-08-19 00:02:11.054346: I tensorflow/core/profiler/lib/profiler_session.cc:141] Profiler session started.\n",
      "2022-08-19 00:02:11.054359: I tensorflow/core/profiler/lib/profiler_session.cc:159] Profiler session tear down.\n",
      "2022-08-19 00:02:11.974936: I tensorflow/core/grappler/optimizers/custom_graph_optimizer_registry.cc:112] Plugin optimizer for device_type GPU is enabled.\n"
     ]
    },
    {
     "name": "stdout",
     "output_type": "stream",
     "text": [
      "  2/900 [..............................] - ETA: 5:23 - loss: 0.9525 - dice_coef: 0.3196 - iou: 0.1904 - recall_1: 0.8677 - precision_1: 0.2162 "
     ]
    },
    {
     "name": "stderr",
     "output_type": "stream",
     "text": [
      "2022-08-19 00:02:12.657383: I tensorflow/core/profiler/lib/profiler_session.cc:126] Profiler session initializing.\n",
      "2022-08-19 00:02:12.657396: I tensorflow/core/profiler/lib/profiler_session.cc:141] Profiler session started.\n"
     ]
    },
    {
     "name": "stdout",
     "output_type": "stream",
     "text": [
      "\b\b\b\b\b\b\b\b\b\b\b\b\b\b\b\b\b\b\b\b\b\b\b\b\b\b\b\b\b\b\b\b\b\b\b\b\b\b\b\b\b\b\b\b\b\b\b\b\b\b\b\b\b\b\b\b\b\b\b\b\b\b\b\b\b\b\b\b\b\b\b\b\b\b\b\b\b\b\b\b\b\b\b\b\b\b\b\b\b\b\b\b\b\b\b\b\b\b\b\b\b\b\b\b\b\b\b\b\b\b\b\b\b\b\b\b\b\b\b\b\b\b\b\b\b\b\b\b\b\b\b\b\b\b\b\b\b\b\b\b\b\b\r",
      "  3/900 [..............................] - ETA: 17:31 - loss: 0.9063 - dice_coef: 0.3594 - iou: 0.2206 - recall_1: 0.8767 - precision_1: 0.2545"
     ]
    },
    {
     "name": "stderr",
     "output_type": "stream",
     "text": [
      "2022-08-19 00:02:14.604048: I tensorflow/core/profiler/lib/profiler_session.cc:66] Profiler session collecting data.\n",
      "2022-08-19 00:02:14.605103: I tensorflow/core/profiler/lib/profiler_session.cc:159] Profiler session tear down.\n",
      "2022-08-19 00:02:14.607184: I tensorflow/core/profiler/rpc/client/save_profile.cc:137] Creating directory: logs/train/plugins/profile/2022_08_19_00_02_14\n",
      "2022-08-19 00:02:14.608264: I tensorflow/core/profiler/rpc/client/save_profile.cc:143] Dumped gzipped tool data for trace.json.gz to logs/train/plugins/profile/2022_08_19_00_02_14/Kimhwajeong-MacBookPro.local.trace.json.gz\n",
      "2022-08-19 00:02:14.609151: I tensorflow/core/profiler/rpc/client/save_profile.cc:137] Creating directory: logs/train/plugins/profile/2022_08_19_00_02_14\n",
      "2022-08-19 00:02:14.609681: I tensorflow/core/profiler/rpc/client/save_profile.cc:143] Dumped gzipped tool data for memory_profile.json.gz to logs/train/plugins/profile/2022_08_19_00_02_14/Kimhwajeong-MacBookPro.local.memory_profile.json.gz\n",
      "2022-08-19 00:02:14.610087: I tensorflow/core/profiler/rpc/client/capture_profile.cc:251] Creating directory: logs/train/plugins/profile/2022_08_19_00_02_14Dumped tool data for xplane.pb to logs/train/plugins/profile/2022_08_19_00_02_14/Kimhwajeong-MacBookPro.local.xplane.pb\n",
      "Dumped tool data for overview_page.pb to logs/train/plugins/profile/2022_08_19_00_02_14/Kimhwajeong-MacBookPro.local.overview_page.pb\n",
      "Dumped tool data for input_pipeline.pb to logs/train/plugins/profile/2022_08_19_00_02_14/Kimhwajeong-MacBookPro.local.input_pipeline.pb\n",
      "Dumped tool data for tensorflow_stats.pb to logs/train/plugins/profile/2022_08_19_00_02_14/Kimhwajeong-MacBookPro.local.tensorflow_stats.pb\n",
      "Dumped tool data for kernel_stats.pb to logs/train/plugins/profile/2022_08_19_00_02_14/Kimhwajeong-MacBookPro.local.kernel_stats.pb\n",
      "\n"
     ]
    },
    {
     "name": "stdout",
     "output_type": "stream",
     "text": [
      "900/900 [==============================] - ETA: 0s - loss: 0.1962 - dice_coef: 0.7262 - iou: 0.5821 - recall_1: 0.8370 - precision_1: 0.8302"
     ]
    },
    {
     "name": "stderr",
     "output_type": "stream",
     "text": [
      "2022-08-19 00:03:49.465312: I tensorflow/core/grappler/optimizers/custom_graph_optimizer_registry.cc:112] Plugin optimizer for device_type GPU is enabled.\n"
     ]
    },
    {
     "name": "stdout",
     "output_type": "stream",
     "text": [
      "900/900 [==============================] - 108s 118ms/step - loss: 0.1962 - dice_coef: 0.7262 - iou: 0.5821 - recall_1: 0.8370 - precision_1: 0.8302 - val_loss: 0.2609 - val_dice_coef: 0.6791 - val_iou: 0.5201 - val_recall_1: 0.5500 - val_precision_1: 0.9697\n",
      "\n",
      "Epoch 00001: val_loss improved from inf to 0.26094, saving model to filesmnet/model.h5\n"
     ]
    }
   ],
   "source": [
    "#train\n",
    "\n",
    "import os\n",
    "#os.environ[\"TF_CPP_MIN_LOG_LEVEL\"] = \"0\"\n",
    "import numpy as np\n",
    "import cv2\n",
    "from glob import glob\n",
    "from sklearn.utils import shuffle\n",
    "from sklearn.model_selection import train_test_split\n",
    "import tensorflow as tf\n",
    "from tensorflow.keras.callbacks import ModelCheckpoint, CSVLogger, ReduceLROnPlateau, EarlyStopping, TensorBoard\n",
    "from tensorflow.keras.optimizers import Adam\n",
    "from tensorflow.keras.metrics import Recall, Precision\n",
    "#from model import build_unet\n",
    "#from metrics import dice_coef, iou\n",
    "\n",
    "H = 256\n",
    "W = 256\n",
    "\n",
    "def create_dir(path):\n",
    "    if not os.path.exists(path):\n",
    "        os.makedirs(path)\n",
    "\n",
    "def shuffling(x, y):\n",
    "    x, y = shuffle(x, y, random_state=42)\n",
    "    return x, y\n",
    "\n",
    "def load_data(dataset_path, split=0.2):\n",
    "    dataset_path = os.getcwd()\n",
    "    dataset_path=dataset_path+\"/dataset/\"\n",
    "    images = sorted(glob(os.path.join(dataset_path, \"images\", \"*.jpg\")))\n",
    "    masks = sorted(glob(os.path.join(dataset_path, \"tooth-semantic-masks\", \"*.png\")))\n",
    "\n",
    "    test_size = int(len(images) * split)\n",
    "\n",
    "    train_x, valid_x = train_test_split(images, test_size=test_size, random_state=42)\n",
    "    train_y, valid_y = train_test_split(masks, test_size=test_size, random_state=42)\n",
    "\n",
    "    train_x, test_x = train_test_split(train_x, test_size=test_size, random_state=42)\n",
    "    train_y, test_y = train_test_split(train_y, test_size=test_size, random_state=42)\n",
    "\n",
    "    return (train_x, train_y), (valid_x, valid_y), (test_x, test_y)\n",
    "\n",
    "def read_image(path):\n",
    "    path = path.decode()\n",
    "    x = cv2.imread(path, cv2.IMREAD_COLOR)  ## (H, W, 3)\n",
    "    x = cv2.resize(x, (W, H))\n",
    "    x = x/255.0\n",
    "    x = x.astype(np.float32)\n",
    "    return x                                ## (256, 256, 3)\n",
    "\n",
    "def read_mask(path):\n",
    "    path = path.decode()\n",
    "    x = cv2.imread(path, cv2.IMREAD_GRAYSCALE)  ## (H, W)\n",
    "    x = cv2.resize(x, (W, H))\n",
    "    x = x/255.0\n",
    "    x = x.astype(np.float32)                    ## (256, 256)\n",
    "    x = np.expand_dims(x, axis=-1)              ## (256, 256, 1)\n",
    "    return x\n",
    "\n",
    "def tf_parse(x, y):\n",
    "    def _parse(x, y):\n",
    "        x = read_image(x)\n",
    "        y = read_mask(y)\n",
    "        return x, y\n",
    "\n",
    "    x, y = tf.numpy_function(_parse, [x, y], [tf.float32, tf.float32])\n",
    "    x.set_shape([H, W, 3])\n",
    "    y.set_shape([H, W, 1])\n",
    "    return x, y\n",
    "\n",
    "def tf_dataset(X, Y, batch):\n",
    "    dataset = tf.data.Dataset.from_tensor_slices((X, Y))\n",
    "    dataset = dataset.map(tf_parse)\n",
    "    dataset = dataset.batch(batch)\n",
    "    dataset = dataset.prefetch(10)\n",
    "    return dataset\n",
    "\n",
    "if __name__ == \"__main__\":\n",
    "    \"\"\" Seeding \"\"\"\n",
    "    np.random.seed(42)\n",
    "    tf.random.set_seed(42)\n",
    "\n",
    "    \"\"\" Folder for saving data \"\"\"\n",
    "    create_dir(\"filesmnet\")\n",
    "\n",
    "    \"\"\" Hyperparameters \"\"\"\n",
    "    batch_size = 1\n",
    "    lr = 1e-4 ## (0.0001)\n",
    "    num_epoch = 1\n",
    "    model_path = \"filesmnet/model.h5\"\n",
    "    csv_path = \"filesmnet/data.csv\"\n",
    "\n",
    "    \"\"\" Dataset : 60/20/20 \"\"\"\n",
    "    dataset_path = os.getcwd()\n",
    "    (train_x, train_y), (valid_x, valid_y), (test_x, test_y) = load_data(dataset_path)\n",
    "\n",
    "    print(f\"Train: {len(train_x)} - {len(train_y)}\")\n",
    "    print(f\"Valid: {len(valid_x)} - {len(valid_y)}\")\n",
    "    print(f\"Test: {len(test_x)} - {len(test_y)}\")\n",
    "\n",
    "    train_dataset = tf_dataset(train_x, train_y, batch_size)\n",
    "    valid_dataset = tf_dataset(valid_x, valid_y, batch_size)\n",
    "\n",
    "    train_steps = len(train_x)//batch_size\n",
    "    valid_steps = len(valid_x)//batch_size\n",
    "\n",
    "    if len(train_x) % batch_size != 0:\n",
    "        train_steps += 1\n",
    "\n",
    "    if len(valid_x) % batch_size != 0:\n",
    "        valid_steps += 1\n",
    "\n",
    "    \"\"\" Model \"\"\"\n",
    "    model = mnet((H, W, 3))\n",
    "    metrics = [dice_coef, iou, Recall(), Precision()]\n",
    "    model.compile(loss=\"binary_crossentropy\", optimizer=Adam(lr), metrics=metrics)\n",
    "    model.summary()\n",
    "\n",
    "    callbacks = [\n",
    "        ModelCheckpoint(model_path, verbose=1, save_best_only=True),\n",
    "        ReduceLROnPlateau(monitor='val_loss', factor=0.1, patience=5, min_lr=1e-7, verbose=1),\n",
    "        CSVLogger(csv_path),\n",
    "        TensorBoard(),\n",
    "        EarlyStopping(monitor='val_loss', patience=20, restore_best_weights=False)\n",
    "    ]\n",
    "\n",
    "    model.fit(\n",
    "        train_dataset,\n",
    "        epochs=num_epoch,\n",
    "        validation_data=valid_dataset,\n",
    "        steps_per_epoch=train_steps,\n",
    "        validation_steps=valid_steps,\n",
    "        callbacks=callbacks\n",
    "    )"
   ]
  },
  {
   "cell_type": "code",
   "execution_count": 6,
   "id": "a99877bb",
   "metadata": {},
   "outputs": [
    {
     "name": "stderr",
     "output_type": "stream",
     "text": [
      "  0%|                                                             | 0/300 [00:00<?, ?it/s]2022-08-19 00:04:49.118708: I tensorflow/core/grappler/optimizers/custom_graph_optimizer_registry.cc:112] Plugin optimizer for device_type GPU is enabled.\n",
      "  1%|▎                                                    | 2/300 [00:00<00:55,  5.35it/s]"
     ]
    },
    {
     "name": "stdout",
     "output_type": "stream",
     "text": [
      "resultsmnet/cate6-00093.jpg\n",
      "resultsmnet/cate2-00058.jpg\n"
     ]
    },
    {
     "name": "stderr",
     "output_type": "stream",
     "text": [
      "  1%|▋                                                    | 4/300 [00:00<00:40,  7.30it/s]"
     ]
    },
    {
     "name": "stdout",
     "output_type": "stream",
     "text": [
      "resultsmnet/cate3-00004.jpg\n",
      "resultsmnet/cate2-00147.jpg\n"
     ]
    },
    {
     "name": "stderr",
     "output_type": "stream",
     "text": [
      "  2%|█                                                    | 6/300 [00:00<00:35,  8.17it/s]"
     ]
    },
    {
     "name": "stdout",
     "output_type": "stream",
     "text": [
      "resultsmnet/cate5-00027.jpg\n",
      "resultsmnet/cate2-00014.jpg\n"
     ]
    },
    {
     "name": "stderr",
     "output_type": "stream",
     "text": [
      "  3%|█▍                                                   | 8/300 [00:01<00:33,  8.63it/s]"
     ]
    },
    {
     "name": "stdout",
     "output_type": "stream",
     "text": [
      "resultsmnet/cate2-00040.jpg\n",
      "resultsmnet/cate8-00359.jpg\n"
     ]
    },
    {
     "name": "stderr",
     "output_type": "stream",
     "text": [
      "  3%|█▋                                                  | 10/300 [00:01<00:32,  8.95it/s]"
     ]
    },
    {
     "name": "stdout",
     "output_type": "stream",
     "text": [
      "resultsmnet/cate6-00055.jpg\n",
      "resultsmnet/cate5-00092.jpg\n"
     ]
    },
    {
     "name": "stderr",
     "output_type": "stream",
     "text": [
      "  4%|██                                                  | 12/300 [00:01<00:31,  9.29it/s]"
     ]
    },
    {
     "name": "stdout",
     "output_type": "stream",
     "text": [
      "resultsmnet/cate6-00154.jpg\n",
      "resultsmnet/cate8-00109.jpg\n"
     ]
    },
    {
     "name": "stderr",
     "output_type": "stream",
     "text": [
      "\r",
      "  5%|██▍                                                 | 14/300 [00:01<00:30,  9.53it/s]"
     ]
    },
    {
     "name": "stdout",
     "output_type": "stream",
     "text": [
      "resultsmnet/cate8-00199.jpg\n",
      "resultsmnet/cate7-00089.jpg\n"
     ]
    },
    {
     "name": "stderr",
     "output_type": "stream",
     "text": [
      "  5%|██▊                                                 | 16/300 [00:01<00:29,  9.65it/s]"
     ]
    },
    {
     "name": "stdout",
     "output_type": "stream",
     "text": [
      "resultsmnet/cate8-00421.jpg\n",
      "resultsmnet/cate10-00057.jpg\n",
      "resultsmnet/cate2-00068.jpg\n"
     ]
    },
    {
     "name": "stderr",
     "output_type": "stream",
     "text": [
      "  6%|███▎                                                | 19/300 [00:02<00:28,  9.78it/s]"
     ]
    },
    {
     "name": "stdout",
     "output_type": "stream",
     "text": [
      "resultsmnet/cate8-00192.jpg\n",
      "resultsmnet/cate2-00117.jpg\n"
     ]
    },
    {
     "name": "stderr",
     "output_type": "stream",
     "text": [
      "  7%|███▋                                                | 21/300 [00:02<00:28,  9.77it/s]"
     ]
    },
    {
     "name": "stdout",
     "output_type": "stream",
     "text": [
      "resultsmnet/cate9-00013.jpg\n",
      "resultsmnet/cate6-00157.jpg\n"
     ]
    },
    {
     "name": "stderr",
     "output_type": "stream",
     "text": [
      "  8%|███▉                                                | 23/300 [00:02<00:28,  9.66it/s]"
     ]
    },
    {
     "name": "stdout",
     "output_type": "stream",
     "text": [
      "resultsmnet/cate8-00333.jpg\n",
      "resultsmnet/cate10-00113.jpg\n"
     ]
    },
    {
     "name": "stderr",
     "output_type": "stream",
     "text": [
      "  8%|████▎                                               | 25/300 [00:02<00:28,  9.53it/s]"
     ]
    },
    {
     "name": "stdout",
     "output_type": "stream",
     "text": [
      "resultsmnet/cate5-00038.jpg\n",
      "resultsmnet/cate8-00341.jpg\n"
     ]
    },
    {
     "name": "stderr",
     "output_type": "stream",
     "text": [
      "  9%|████▋                                               | 27/300 [00:03<00:28,  9.63it/s]"
     ]
    },
    {
     "name": "stdout",
     "output_type": "stream",
     "text": [
      "resultsmnet/cate2-00138.jpg\n",
      "resultsmnet/cate1-00042.jpg\n"
     ]
    },
    {
     "name": "stderr",
     "output_type": "stream",
     "text": [
      " 10%|█████                                               | 29/300 [00:03<00:27,  9.71it/s]"
     ]
    },
    {
     "name": "stdout",
     "output_type": "stream",
     "text": [
      "resultsmnet/cate8-00426.jpg\n",
      "resultsmnet/cate2-00028.jpg\n"
     ]
    },
    {
     "name": "stderr",
     "output_type": "stream",
     "text": [
      " 10%|█████▎                                              | 31/300 [00:03<00:27,  9.67it/s]"
     ]
    },
    {
     "name": "stdout",
     "output_type": "stream",
     "text": [
      "resultsmnet/cate2-00160.jpg\n",
      "resultsmnet/cate8-00277.jpg\n"
     ]
    },
    {
     "name": "stderr",
     "output_type": "stream",
     "text": [
      " 11%|█████▋                                              | 33/300 [00:03<00:27,  9.63it/s]"
     ]
    },
    {
     "name": "stdout",
     "output_type": "stream",
     "text": [
      "resultsmnet/cate4-00065.jpg\n",
      "resultsmnet/cate1-00069.jpg\n"
     ]
    },
    {
     "name": "stderr",
     "output_type": "stream",
     "text": [
      " 12%|██████                                              | 35/300 [00:03<00:27,  9.67it/s]"
     ]
    },
    {
     "name": "stdout",
     "output_type": "stream",
     "text": [
      "resultsmnet/cate1-00037.jpg\n",
      "resultsmnet/cate8-00027.jpg\n"
     ]
    },
    {
     "name": "stderr",
     "output_type": "stream",
     "text": [
      " 12%|██████▍                                             | 37/300 [00:04<00:27,  9.40it/s]"
     ]
    },
    {
     "name": "stdout",
     "output_type": "stream",
     "text": [
      "resultsmnet/cate4-00052.jpg\n",
      "resultsmnet/cate8-00152.jpg\n"
     ]
    },
    {
     "name": "stderr",
     "output_type": "stream",
     "text": [
      " 13%|██████▊                                             | 39/300 [00:04<00:28,  9.31it/s]"
     ]
    },
    {
     "name": "stdout",
     "output_type": "stream",
     "text": [
      "resultsmnet/cate10-00083.jpg\n",
      "resultsmnet/cate8-00220.jpg\n"
     ]
    },
    {
     "name": "stderr",
     "output_type": "stream",
     "text": [
      " 14%|███████                                             | 41/300 [00:04<00:27,  9.36it/s]"
     ]
    },
    {
     "name": "stdout",
     "output_type": "stream",
     "text": [
      "resultsmnet/cate10-00095.jpg\n",
      "resultsmnet/cate8-00379.jpg\n"
     ]
    },
    {
     "name": "stderr",
     "output_type": "stream",
     "text": [
      " 14%|███████▍                                            | 43/300 [00:04<00:27,  9.27it/s]"
     ]
    },
    {
     "name": "stdout",
     "output_type": "stream",
     "text": [
      "resultsmnet/cate2-00183.jpg\n",
      "resultsmnet/cate8-00079.jpg\n"
     ]
    },
    {
     "name": "stderr",
     "output_type": "stream",
     "text": [
      "\r",
      " 15%|███████▋                                            | 44/300 [00:04<00:27,  9.32it/s]"
     ]
    },
    {
     "name": "stdout",
     "output_type": "stream",
     "text": [
      "resultsmnet/cate8-00170.jpg\n",
      "resultsmnet/cate8-00420.jpg\n",
      "resultsmnet/cate5-00068.jpg\n"
     ]
    },
    {
     "name": "stderr",
     "output_type": "stream",
     "text": [
      " 16%|████████▏                                           | 47/300 [00:05<00:26,  9.71it/s]"
     ]
    },
    {
     "name": "stdout",
     "output_type": "stream",
     "text": [
      "resultsmnet/cate2-00124.jpg\n",
      "resultsmnet/cate6-00129.jpg\n",
      "resultsmnet/cate8-00179.jpg\n"
     ]
    },
    {
     "name": "stderr",
     "output_type": "stream",
     "text": [
      " 17%|████████▊                                           | 51/300 [00:05<00:25,  9.74it/s]"
     ]
    },
    {
     "name": "stdout",
     "output_type": "stream",
     "text": [
      "resultsmnet/cate4-00115.jpg\n",
      "resultsmnet/cate6-00048.jpg\n"
     ]
    },
    {
     "name": "stderr",
     "output_type": "stream",
     "text": [
      "\r",
      " 17%|█████████                                           | 52/300 [00:05<00:25,  9.70it/s]"
     ]
    },
    {
     "name": "stdout",
     "output_type": "stream",
     "text": [
      "resultsmnet/cate4-00056.jpg\n",
      "resultsmnet/cate5-00032.jpg\n",
      "resultsmnet/cate5-00021.jpg\n"
     ]
    },
    {
     "name": "stderr",
     "output_type": "stream",
     "text": [
      " 19%|█████████▋                                          | 56/300 [00:06<00:24,  9.97it/s]"
     ]
    },
    {
     "name": "stdout",
     "output_type": "stream",
     "text": [
      "resultsmnet/cate4-00003.jpg\n",
      "resultsmnet/cate2-00024.jpg\n",
      "resultsmnet/cate7-00099.jpg\n"
     ]
    },
    {
     "name": "stderr",
     "output_type": "stream",
     "text": [
      "\r",
      " 19%|██████████                                          | 58/300 [00:06<00:24, 10.06it/s]"
     ]
    },
    {
     "name": "stdout",
     "output_type": "stream",
     "text": [
      "resultsmnet/cate4-00007.jpg\n",
      "resultsmnet/cate8-00411.jpg\n",
      "resultsmnet/cate6-00096.jpg\n"
     ]
    },
    {
     "name": "stderr",
     "output_type": "stream",
     "text": [
      " 21%|██████████▋                                         | 62/300 [00:06<00:24,  9.90it/s]"
     ]
    },
    {
     "name": "stdout",
     "output_type": "stream",
     "text": [
      "resultsmnet/cate2-00189.jpg\n",
      "resultsmnet/cate8-00071.jpg\n"
     ]
    },
    {
     "name": "stderr",
     "output_type": "stream",
     "text": [
      " 21%|███████████                                         | 64/300 [00:06<00:24,  9.58it/s]"
     ]
    },
    {
     "name": "stdout",
     "output_type": "stream",
     "text": [
      "resultsmnet/cate4-00025.jpg\n",
      "resultsmnet/cate8-00180.jpg\n"
     ]
    },
    {
     "name": "stderr",
     "output_type": "stream",
     "text": [
      " 22%|███████████▍                                        | 66/300 [00:07<00:24,  9.56it/s]"
     ]
    },
    {
     "name": "stdout",
     "output_type": "stream",
     "text": [
      "resultsmnet/cate4-00100.jpg\n",
      "resultsmnet/cate2-00213.jpg\n"
     ]
    },
    {
     "name": "stderr",
     "output_type": "stream",
     "text": [
      " 23%|███████████▊                                        | 68/300 [00:07<00:24,  9.60it/s]"
     ]
    },
    {
     "name": "stdout",
     "output_type": "stream",
     "text": [
      "resultsmnet/cate4-00099.jpg\n",
      "resultsmnet/cate6-00034.jpg\n"
     ]
    },
    {
     "name": "stderr",
     "output_type": "stream",
     "text": [
      " 23%|████████████▏                                       | 70/300 [00:07<00:23,  9.77it/s]"
     ]
    },
    {
     "name": "stdout",
     "output_type": "stream",
     "text": [
      "resultsmnet/cate1-00008.jpg\n",
      "resultsmnet/cate5-00052.jpg\n"
     ]
    },
    {
     "name": "stderr",
     "output_type": "stream",
     "text": [
      " 24%|████████████▍                                       | 72/300 [00:07<00:23,  9.76it/s]"
     ]
    },
    {
     "name": "stdout",
     "output_type": "stream",
     "text": [
      "resultsmnet/cate10-00111.jpg\n",
      "resultsmnet/cate6-00015.jpg\n"
     ]
    },
    {
     "name": "stderr",
     "output_type": "stream",
     "text": [
      "\r",
      " 24%|████████████▋                                       | 73/300 [00:07<00:23,  9.81it/s]"
     ]
    },
    {
     "name": "stdout",
     "output_type": "stream",
     "text": [
      "resultsmnet/cate4-00014.jpg\n",
      "resultsmnet/cate7-00041.jpg\n",
      "resultsmnet/cate8-00439.jpg\n"
     ]
    },
    {
     "name": "stderr",
     "output_type": "stream",
     "text": [
      " 26%|█████████████▎                                      | 77/300 [00:08<00:22, 10.06it/s]"
     ]
    },
    {
     "name": "stdout",
     "output_type": "stream",
     "text": [
      "resultsmnet/cate10-00033.jpg\n",
      "resultsmnet/cate6-00040.jpg\n",
      "resultsmnet/cate5-00025.jpg\n"
     ]
    },
    {
     "name": "stderr",
     "output_type": "stream",
     "text": [
      "\r",
      " 26%|█████████████▋                                      | 79/300 [00:08<00:21, 10.14it/s]"
     ]
    },
    {
     "name": "stdout",
     "output_type": "stream",
     "text": [
      "resultsmnet/cate4-00134.jpg\n",
      "resultsmnet/cate5-00061.jpg\n",
      "resultsmnet/cate5-00107.jpg\n"
     ]
    },
    {
     "name": "stderr",
     "output_type": "stream",
     "text": [
      " 28%|██████████████▍                                     | 83/300 [00:08<00:21, 10.18it/s]"
     ]
    },
    {
     "name": "stdout",
     "output_type": "stream",
     "text": [
      "resultsmnet/cate8-00292.jpg\n",
      "resultsmnet/cate8-00417.jpg\n",
      "resultsmnet/cate10-00037.jpg\n"
     ]
    },
    {
     "name": "stderr",
     "output_type": "stream",
     "text": [
      "\r",
      " 28%|██████████████▋                                     | 85/300 [00:08<00:21, 10.20it/s]"
     ]
    },
    {
     "name": "stdout",
     "output_type": "stream",
     "text": [
      "resultsmnet/cate9-00038.jpg\n",
      "resultsmnet/cate8-00259.jpg\n",
      "resultsmnet/cate5-00091.jpg\n"
     ]
    },
    {
     "name": "stderr",
     "output_type": "stream",
     "text": [
      " 30%|███████████████▍                                    | 89/300 [00:09<00:20, 10.15it/s]"
     ]
    },
    {
     "name": "stdout",
     "output_type": "stream",
     "text": [
      "resultsmnet/cate5-00088.jpg\n",
      "resultsmnet/cate8-00334.jpg\n",
      "resultsmnet/cate8-00182.jpg\n"
     ]
    },
    {
     "name": "stderr",
     "output_type": "stream",
     "text": [
      "\r",
      " 30%|███████████████▊                                    | 91/300 [00:09<00:20, 10.15it/s]"
     ]
    },
    {
     "name": "stdout",
     "output_type": "stream",
     "text": [
      "resultsmnet/cate8-00231.jpg\n",
      "resultsmnet/cate8-00214.jpg\n",
      "resultsmnet/cate4-00051.jpg\n"
     ]
    },
    {
     "name": "stderr",
     "output_type": "stream",
     "text": [
      " 32%|████████████████▍                                   | 95/300 [00:09<00:20, 10.14it/s]"
     ]
    },
    {
     "name": "stdout",
     "output_type": "stream",
     "text": [
      "resultsmnet/cate6-00143.jpg\n",
      "resultsmnet/cate5-00049.jpg\n",
      "resultsmnet/cate10-00090.jpg\n"
     ]
    },
    {
     "name": "stderr",
     "output_type": "stream",
     "text": [
      "\r",
      " 32%|████████████████▊                                   | 97/300 [00:10<00:19, 10.18it/s]"
     ]
    },
    {
     "name": "stdout",
     "output_type": "stream",
     "text": [
      "resultsmnet/cate10-00072.jpg\n",
      "resultsmnet/cate2-00038.jpg\n",
      "resultsmnet/cate1-00006.jpg\n"
     ]
    },
    {
     "name": "stderr",
     "output_type": "stream",
     "text": [
      " 34%|█████████████████▏                                 | 101/300 [00:10<00:19, 10.14it/s]"
     ]
    },
    {
     "name": "stdout",
     "output_type": "stream",
     "text": [
      "resultsmnet/cate4-00077.jpg\n",
      "resultsmnet/cate6-00102.jpg\n",
      "resultsmnet/cate8-00136.jpg\n"
     ]
    },
    {
     "name": "stderr",
     "output_type": "stream",
     "text": [
      "\r",
      " 34%|█████████████████▌                                 | 103/300 [00:10<00:19, 10.16it/s]"
     ]
    },
    {
     "name": "stdout",
     "output_type": "stream",
     "text": [
      "resultsmnet/cate4-00004.jpg\n",
      "resultsmnet/cate8-00249.jpg\n",
      "resultsmnet/cate2-00003.jpg\n"
     ]
    },
    {
     "name": "stderr",
     "output_type": "stream",
     "text": [
      " 36%|██████████████████▏                                | 107/300 [00:11<00:18, 10.17it/s]"
     ]
    },
    {
     "name": "stdout",
     "output_type": "stream",
     "text": [
      "resultsmnet/cate6-00016.jpg\n",
      "resultsmnet/cate8-00067.jpg\n",
      "resultsmnet/cate6-00085.jpg\n"
     ]
    },
    {
     "name": "stderr",
     "output_type": "stream",
     "text": [
      "\r",
      " 36%|██████████████████▌                                | 109/300 [00:11<00:18, 10.08it/s]"
     ]
    },
    {
     "name": "stdout",
     "output_type": "stream",
     "text": [
      "resultsmnet/cate4-00022.jpg\n",
      "resultsmnet/cate10-00080.jpg\n",
      "resultsmnet/cate2-00149.jpg\n"
     ]
    },
    {
     "name": "stderr",
     "output_type": "stream",
     "text": [
      " 38%|███████████████████▏                               | 113/300 [00:11<00:18, 10.13it/s]"
     ]
    },
    {
     "name": "stdout",
     "output_type": "stream",
     "text": [
      "resultsmnet/cate4-00044.jpg\n",
      "resultsmnet/cate8-00208.jpg\n",
      "resultsmnet/cate2-00092.jpg\n"
     ]
    },
    {
     "name": "stderr",
     "output_type": "stream",
     "text": [
      "\r",
      " 38%|███████████████████▌                               | 115/300 [00:11<00:18, 10.16it/s]"
     ]
    },
    {
     "name": "stdout",
     "output_type": "stream",
     "text": [
      "resultsmnet/cate10-00109.jpg\n",
      "resultsmnet/cate8-00015.jpg\n",
      "resultsmnet/cate8-00415.jpg\n"
     ]
    },
    {
     "name": "stderr",
     "output_type": "stream",
     "text": [
      " 40%|████████████████████▏                              | 119/300 [00:12<00:17, 10.12it/s]"
     ]
    },
    {
     "name": "stdout",
     "output_type": "stream",
     "text": [
      "resultsmnet/cate1-00011.jpg\n",
      "resultsmnet/cate8-00431.jpg\n",
      "resultsmnet/cate8-00298.jpg\n"
     ]
    },
    {
     "name": "stderr",
     "output_type": "stream",
     "text": [
      "\r",
      " 40%|████████████████████▌                              | 121/300 [00:12<00:17, 10.12it/s]"
     ]
    },
    {
     "name": "stdout",
     "output_type": "stream",
     "text": [
      "resultsmnet/cate8-00384.jpg\n",
      "resultsmnet/cate8-00022.jpg\n",
      "resultsmnet/cate2-00197.jpg\n"
     ]
    },
    {
     "name": "stderr",
     "output_type": "stream",
     "text": [
      " 42%|█████████████████████▎                             | 125/300 [00:12<00:17, 10.15it/s]"
     ]
    },
    {
     "name": "stdout",
     "output_type": "stream",
     "text": [
      "resultsmnet/cate5-00020.jpg\n",
      "resultsmnet/cate9-00032.jpg\n",
      "resultsmnet/cate8-00399.jpg\n"
     ]
    },
    {
     "name": "stderr",
     "output_type": "stream",
     "text": [
      "\r",
      " 42%|█████████████████████▌                             | 127/300 [00:13<00:16, 10.20it/s]"
     ]
    },
    {
     "name": "stdout",
     "output_type": "stream",
     "text": [
      "resultsmnet/cate8-00078.jpg\n",
      "resultsmnet/cate2-00099.jpg\n",
      "resultsmnet/cate8-00357.jpg\n"
     ]
    },
    {
     "name": "stderr",
     "output_type": "stream",
     "text": [
      " 44%|██████████████████████▎                            | 131/300 [00:13<00:16, 10.15it/s]"
     ]
    },
    {
     "name": "stdout",
     "output_type": "stream",
     "text": [
      "resultsmnet/cate2-00113.jpg\n",
      "resultsmnet/cate2-00037.jpg\n",
      "resultsmnet/cate5-00008.jpg\n"
     ]
    },
    {
     "name": "stderr",
     "output_type": "stream",
     "text": [
      "\r",
      " 44%|██████████████████████▌                            | 133/300 [00:13<00:16, 10.19it/s]"
     ]
    },
    {
     "name": "stdout",
     "output_type": "stream",
     "text": [
      "resultsmnet/cate8-00391.jpg\n",
      "resultsmnet/cate8-00382.jpg\n",
      "resultsmnet/cate8-00197.jpg\n"
     ]
    },
    {
     "name": "stderr",
     "output_type": "stream",
     "text": [
      " 46%|███████████████████████▎                           | 137/300 [00:14<00:15, 10.24it/s]"
     ]
    },
    {
     "name": "stdout",
     "output_type": "stream",
     "text": [
      "resultsmnet/cate6-00163.jpg\n",
      "resultsmnet/cate10-00092.jpg\n",
      "resultsmnet/cate8-00038.jpg\n"
     ]
    },
    {
     "name": "stderr",
     "output_type": "stream",
     "text": [
      "\r",
      " 46%|███████████████████████▋                           | 139/300 [00:14<00:15, 10.23it/s]"
     ]
    },
    {
     "name": "stdout",
     "output_type": "stream",
     "text": [
      "resultsmnet/cate3-00041.jpg\n",
      "resultsmnet/cate8-00161.jpg\n",
      "resultsmnet/cate4-00068.jpg\n"
     ]
    },
    {
     "name": "stderr",
     "output_type": "stream",
     "text": [
      " 48%|████████████████████████▎                          | 143/300 [00:14<00:15, 10.29it/s]"
     ]
    },
    {
     "name": "stdout",
     "output_type": "stream",
     "text": [
      "resultsmnet/cate2-00064.jpg\n",
      "resultsmnet/cate5-00011.jpg\n",
      "resultsmnet/cate8-00380.jpg\n"
     ]
    },
    {
     "name": "stderr",
     "output_type": "stream",
     "text": [
      "\r",
      " 48%|████████████████████████▋                          | 145/300 [00:14<00:15, 10.23it/s]"
     ]
    },
    {
     "name": "stdout",
     "output_type": "stream",
     "text": [
      "resultsmnet/cate2-00148.jpg\n",
      "resultsmnet/cate6-00011.jpg\n",
      "resultsmnet/cate6-00167.jpg\n"
     ]
    },
    {
     "name": "stderr",
     "output_type": "stream",
     "text": [
      " 50%|█████████████████████████▎                         | 149/300 [00:15<00:14, 10.11it/s]"
     ]
    },
    {
     "name": "stdout",
     "output_type": "stream",
     "text": [
      "resultsmnet/cate6-00130.jpg\n",
      "resultsmnet/cate9-00034.jpg\n",
      "resultsmnet/cate6-00122.jpg\n"
     ]
    },
    {
     "name": "stderr",
     "output_type": "stream",
     "text": [
      "\r",
      " 50%|█████████████████████████▋                         | 151/300 [00:15<00:14, 10.12it/s]"
     ]
    },
    {
     "name": "stdout",
     "output_type": "stream",
     "text": [
      "resultsmnet/cate4-00040.jpg\n",
      "resultsmnet/cate6-00081.jpg\n",
      "resultsmnet/cate5-00070.jpg\n"
     ]
    },
    {
     "name": "stderr",
     "output_type": "stream",
     "text": [
      " 52%|██████████████████████████▎                        | 155/300 [00:15<00:14, 10.18it/s]"
     ]
    },
    {
     "name": "stdout",
     "output_type": "stream",
     "text": [
      "resultsmnet/cate8-00225.jpg\n",
      "resultsmnet/cate8-00273.jpg\n",
      "resultsmnet/cate4-00028.jpg\n"
     ]
    },
    {
     "name": "stderr",
     "output_type": "stream",
     "text": [
      "\r",
      " 52%|██████████████████████████▋                        | 157/300 [00:16<00:13, 10.22it/s]"
     ]
    },
    {
     "name": "stdout",
     "output_type": "stream",
     "text": [
      "resultsmnet/cate1-00067.jpg\n",
      "resultsmnet/cate10-00099.jpg\n",
      "resultsmnet/cate9-00042.jpg\n"
     ]
    },
    {
     "name": "stderr",
     "output_type": "stream",
     "text": [
      "/Users/kimhwajeong/miniforge3/envs/tf25/lib/python3.8/site-packages/sklearn/metrics/_classification.py:1334: UndefinedMetricWarning: Precision is ill-defined and being set to 0.0 due to no predicted samples. Use `zero_division` parameter to control this behavior.\n",
      "  _warn_prf(average, modifier, msg_start, len(result))\n",
      " 54%|███████████████████████████▎                       | 161/300 [00:16<00:13, 10.20it/s]"
     ]
    },
    {
     "name": "stdout",
     "output_type": "stream",
     "text": [
      "resultsmnet/cate9-00020.jpg\n",
      "resultsmnet/cate8-00244.jpg\n",
      "resultsmnet/cate8-00442.jpg\n"
     ]
    },
    {
     "name": "stderr",
     "output_type": "stream",
     "text": [
      "\r",
      " 54%|███████████████████████████▋                       | 163/300 [00:16<00:13, 10.21it/s]"
     ]
    },
    {
     "name": "stdout",
     "output_type": "stream",
     "text": [
      "resultsmnet/cate5-00056.jpg\n",
      "resultsmnet/cate4-00106.jpg\n",
      "resultsmnet/cate4-00015.jpg\n"
     ]
    },
    {
     "name": "stderr",
     "output_type": "stream",
     "text": [
      " 56%|████████████████████████████▍                      | 167/300 [00:17<00:13, 10.15it/s]"
     ]
    },
    {
     "name": "stdout",
     "output_type": "stream",
     "text": [
      "resultsmnet/cate10-00047.jpg\n",
      "resultsmnet/cate2-00056.jpg\n",
      "resultsmnet/cate10-00108.jpg\n"
     ]
    },
    {
     "name": "stderr",
     "output_type": "stream",
     "text": [
      "\r",
      " 56%|████████████████████████████▋                      | 169/300 [00:17<00:12, 10.15it/s]"
     ]
    },
    {
     "name": "stdout",
     "output_type": "stream",
     "text": [
      "resultsmnet/cate7-00053.jpg\n",
      "resultsmnet/cate7-00010.jpg\n",
      "resultsmnet/cate6-00139.jpg\n"
     ]
    },
    {
     "name": "stderr",
     "output_type": "stream",
     "text": [
      " 58%|█████████████████████████████▍                     | 173/300 [00:17<00:12, 10.16it/s]"
     ]
    },
    {
     "name": "stdout",
     "output_type": "stream",
     "text": [
      "resultsmnet/cate8-00017.jpg\n",
      "resultsmnet/cate7-00011.jpg\n",
      "resultsmnet/cate2-00055.jpg\n"
     ]
    },
    {
     "name": "stderr",
     "output_type": "stream",
     "text": [
      "\r",
      " 58%|█████████████████████████████▊                     | 175/300 [00:17<00:12, 10.14it/s]"
     ]
    },
    {
     "name": "stdout",
     "output_type": "stream",
     "text": [
      "resultsmnet/cate8-00051.jpg\n",
      "resultsmnet/cate2-00071.jpg\n",
      "resultsmnet/cate4-00054.jpg\n"
     ]
    },
    {
     "name": "stderr",
     "output_type": "stream",
     "text": [
      " 60%|██████████████████████████████▍                    | 179/300 [00:18<00:11, 10.24it/s]"
     ]
    },
    {
     "name": "stdout",
     "output_type": "stream",
     "text": [
      "resultsmnet/cate8-00107.jpg\n",
      "resultsmnet/cate2-00159.jpg\n",
      "resultsmnet/cate9-00004.jpg\n"
     ]
    },
    {
     "name": "stderr",
     "output_type": "stream",
     "text": [
      "\r",
      " 60%|██████████████████████████████▊                    | 181/300 [00:18<00:11, 10.23it/s]"
     ]
    },
    {
     "name": "stdout",
     "output_type": "stream",
     "text": [
      "resultsmnet/cate8-00123.jpg\n",
      "resultsmnet/cate9-00045.jpg\n",
      "resultsmnet/cate3-00003.jpg\n"
     ]
    },
    {
     "name": "stderr",
     "output_type": "stream",
     "text": [
      " 62%|███████████████████████████████▍                   | 185/300 [00:18<00:11, 10.25it/s]"
     ]
    },
    {
     "name": "stdout",
     "output_type": "stream",
     "text": [
      "resultsmnet/cate5-00089.jpg\n",
      "resultsmnet/cate1-00040.jpg\n",
      "resultsmnet/cate2-00015.jpg\n"
     ]
    },
    {
     "name": "stderr",
     "output_type": "stream",
     "text": [
      "\r",
      " 62%|███████████████████████████████▊                   | 187/300 [00:18<00:11, 10.25it/s]"
     ]
    },
    {
     "name": "stdout",
     "output_type": "stream",
     "text": [
      "resultsmnet/cate9-00031.jpg\n",
      "resultsmnet/cate8-00005.jpg\n",
      "resultsmnet/cate8-00215.jpg\n"
     ]
    },
    {
     "name": "stderr",
     "output_type": "stream",
     "text": [
      " 64%|████████████████████████████████▍                  | 191/300 [00:19<00:10, 10.18it/s]"
     ]
    },
    {
     "name": "stdout",
     "output_type": "stream",
     "text": [
      "resultsmnet/cate6-00066.jpg\n",
      "resultsmnet/cate2-00076.jpg\n",
      "resultsmnet/cate7-00002.jpg\n"
     ]
    },
    {
     "name": "stderr",
     "output_type": "stream",
     "text": [
      "\r",
      " 64%|████████████████████████████████▊                  | 193/300 [00:19<00:10, 10.22it/s]"
     ]
    },
    {
     "name": "stdout",
     "output_type": "stream",
     "text": [
      "resultsmnet/cate3-00022.jpg\n",
      "resultsmnet/cate8-00118.jpg\n",
      "resultsmnet/cate5-00081.jpg\n"
     ]
    },
    {
     "name": "stderr",
     "output_type": "stream",
     "text": [
      "/Users/kimhwajeong/miniforge3/envs/tf25/lib/python3.8/site-packages/sklearn/metrics/_classification.py:1334: UndefinedMetricWarning: Precision is ill-defined and being set to 0.0 due to no predicted samples. Use `zero_division` parameter to control this behavior.\n",
      "  _warn_prf(average, modifier, msg_start, len(result))\n",
      " 66%|█████████████████████████████████▍                 | 197/300 [00:19<00:10, 10.28it/s]"
     ]
    },
    {
     "name": "stdout",
     "output_type": "stream",
     "text": [
      "resultsmnet/cate8-00243.jpg\n",
      "resultsmnet/cate2-00001.jpg\n",
      "resultsmnet/cate8-00412.jpg\n"
     ]
    },
    {
     "name": "stderr",
     "output_type": "stream",
     "text": [
      "\r",
      " 66%|█████████████████████████████████▊                 | 199/300 [00:20<00:09, 10.26it/s]"
     ]
    },
    {
     "name": "stdout",
     "output_type": "stream",
     "text": [
      "resultsmnet/cate8-00210.jpg\n",
      "resultsmnet/cate7-00081.jpg\n",
      "resultsmnet/cate10-00044.jpg\n"
     ]
    },
    {
     "name": "stderr",
     "output_type": "stream",
     "text": [
      " 68%|██████████████████████████████████▌                | 203/300 [00:20<00:09, 10.23it/s]"
     ]
    },
    {
     "name": "stdout",
     "output_type": "stream",
     "text": [
      "resultsmnet/cate2-00096.jpg\n",
      "resultsmnet/cate8-00403.jpg\n",
      "resultsmnet/cate3-00045.jpg\n"
     ]
    },
    {
     "name": "stderr",
     "output_type": "stream",
     "text": [
      "\r",
      " 68%|██████████████████████████████████▊                | 205/300 [00:20<00:09, 10.17it/s]"
     ]
    },
    {
     "name": "stdout",
     "output_type": "stream",
     "text": [
      "resultsmnet/cate8-00254.jpg\n",
      "resultsmnet/cate8-00369.jpg\n",
      "resultsmnet/cate10-00021.jpg\n"
     ]
    },
    {
     "name": "stderr",
     "output_type": "stream",
     "text": [
      " 70%|███████████████████████████████████▌               | 209/300 [00:21<00:08, 10.31it/s]"
     ]
    },
    {
     "name": "stdout",
     "output_type": "stream",
     "text": [
      "resultsmnet/cate10-00104.jpg\n",
      "resultsmnet/cate8-00313.jpg\n",
      "resultsmnet/cate2-00108.jpg\n"
     ]
    },
    {
     "name": "stderr",
     "output_type": "stream",
     "text": [
      "\r",
      " 70%|███████████████████████████████████▊               | 211/300 [00:21<00:08, 10.27it/s]"
     ]
    },
    {
     "name": "stdout",
     "output_type": "stream",
     "text": [
      "resultsmnet/cate8-00241.jpg\n",
      "resultsmnet/cate8-00011.jpg\n",
      "resultsmnet/cate1-00043.jpg\n"
     ]
    },
    {
     "name": "stderr",
     "output_type": "stream",
     "text": [
      " 72%|████████████████████████████████████▌              | 215/300 [00:21<00:08, 10.22it/s]"
     ]
    },
    {
     "name": "stdout",
     "output_type": "stream",
     "text": [
      "resultsmnet/cate1-00017.jpg\n",
      "resultsmnet/cate6-00165.jpg\n",
      "resultsmnet/cate10-00066.jpg\n"
     ]
    },
    {
     "name": "stderr",
     "output_type": "stream",
     "text": [
      "\r",
      " 72%|████████████████████████████████████▉              | 217/300 [00:21<00:08, 10.28it/s]"
     ]
    },
    {
     "name": "stdout",
     "output_type": "stream",
     "text": [
      "resultsmnet/cate8-00432.jpg\n",
      "resultsmnet/cate4-00006.jpg\n",
      "resultsmnet/cate7-00112.jpg\n"
     ]
    },
    {
     "name": "stderr",
     "output_type": "stream",
     "text": [
      " 74%|█████████████████████████████████████▌             | 221/300 [00:22<00:07, 10.20it/s]"
     ]
    },
    {
     "name": "stdout",
     "output_type": "stream",
     "text": [
      "resultsmnet/cate8-00151.jpg\n",
      "resultsmnet/cate9-00021.jpg\n",
      "resultsmnet/cate4-00020.jpg\n"
     ]
    },
    {
     "name": "stderr",
     "output_type": "stream",
     "text": [
      "\r",
      " 74%|█████████████████████████████████████▉             | 223/300 [00:22<00:07, 10.13it/s]"
     ]
    },
    {
     "name": "stdout",
     "output_type": "stream",
     "text": [
      "resultsmnet/cate8-00325.jpg\n",
      "resultsmnet/cate8-00227.jpg\n",
      "resultsmnet/cate4-00095.jpg\n"
     ]
    },
    {
     "name": "stderr",
     "output_type": "stream",
     "text": [
      " 76%|██████████████████████████████████████▌            | 227/300 [00:22<00:07, 10.19it/s]"
     ]
    },
    {
     "name": "stdout",
     "output_type": "stream",
     "text": [
      "resultsmnet/cate1-00010.jpg\n",
      "resultsmnet/cate4-00063.jpg\n",
      "resultsmnet/cate7-00067.jpg\n"
     ]
    },
    {
     "name": "stderr",
     "output_type": "stream",
     "text": [
      "\r",
      " 76%|██████████████████████████████████████▉            | 229/300 [00:23<00:07, 10.14it/s]"
     ]
    },
    {
     "name": "stdout",
     "output_type": "stream",
     "text": [
      "resultsmnet/cate10-00016.jpg\n",
      "resultsmnet/cate8-00453.jpg\n",
      "resultsmnet/cate8-00162.jpg\n"
     ]
    },
    {
     "name": "stderr",
     "output_type": "stream",
     "text": [
      " 78%|███████████████████████████████████████▌           | 233/300 [00:23<00:06, 10.13it/s]"
     ]
    },
    {
     "name": "stdout",
     "output_type": "stream",
     "text": [
      "resultsmnet/cate8-00441.jpg\n",
      "resultsmnet/cate8-00434.jpg\n",
      "resultsmnet/cate1-00029.jpg\n"
     ]
    },
    {
     "name": "stderr",
     "output_type": "stream",
     "text": [
      "\r",
      " 78%|███████████████████████████████████████▉           | 235/300 [00:23<00:06, 10.08it/s]"
     ]
    },
    {
     "name": "stdout",
     "output_type": "stream",
     "text": [
      "resultsmnet/cate4-00036.jpg\n"
     ]
    },
    {
     "name": "stderr",
     "output_type": "stream",
     "text": [
      "\r",
      " 79%|████████████████████████████████████████▎          | 237/300 [00:24<00:08,  7.49it/s]"
     ]
    },
    {
     "name": "stdout",
     "output_type": "stream",
     "text": [
      "resultsmnet/cate1-00073.jpg\n",
      "resultsmnet/cate6-00072.jpg\n"
     ]
    },
    {
     "name": "stderr",
     "output_type": "stream",
     "text": [
      "\r",
      " 80%|████████████████████████████████████████▋          | 239/300 [00:24<00:07,  8.16it/s]"
     ]
    },
    {
     "name": "stdout",
     "output_type": "stream",
     "text": [
      "resultsmnet/cate8-00449.jpg\n",
      "resultsmnet/cate8-00047.jpg\n",
      "resultsmnet/cate4-00117.jpg\n"
     ]
    },
    {
     "name": "stderr",
     "output_type": "stream",
     "text": [
      " 80%|████████████████████████████████████████▉          | 241/300 [00:24<00:06,  8.68it/s]"
     ]
    },
    {
     "name": "stdout",
     "output_type": "stream",
     "text": [
      "resultsmnet/cate7-00107.jpg\n",
      "resultsmnet/cate4-00067.jpg\n",
      "resultsmnet/cate8-00232.jpg\n"
     ]
    },
    {
     "name": "stderr",
     "output_type": "stream",
     "text": [
      " 82%|█████████████████████████████████████████▋         | 245/300 [00:24<00:05,  9.50it/s]"
     ]
    },
    {
     "name": "stdout",
     "output_type": "stream",
     "text": [
      "resultsmnet/cate4-00037.jpg\n",
      "resultsmnet/cate10-00098.jpg\n",
      "resultsmnet/cate5-00105.jpg\n"
     ]
    },
    {
     "name": "stderr",
     "output_type": "stream",
     "text": [
      " 83%|██████████████████████████████████████████▏        | 248/300 [00:25<00:05,  9.81it/s]"
     ]
    },
    {
     "name": "stdout",
     "output_type": "stream",
     "text": [
      "resultsmnet/cate2-00035.jpg\n",
      "resultsmnet/cate5-00095.jpg\n",
      "resultsmnet/cate8-00222.jpg\n"
     ]
    },
    {
     "name": "stderr",
     "output_type": "stream",
     "text": [
      " 84%|██████████████████████████████████████████▋        | 251/300 [00:25<00:04,  9.94it/s]"
     ]
    },
    {
     "name": "stdout",
     "output_type": "stream",
     "text": [
      "resultsmnet/cate5-00059.jpg\n",
      "resultsmnet/cate8-00350.jpg\n",
      "resultsmnet/cate1-00056.jpg\n"
     ]
    },
    {
     "name": "stderr",
     "output_type": "stream",
     "text": [
      "\r",
      " 84%|███████████████████████████████████████████        | 253/300 [00:25<00:04, 10.08it/s]"
     ]
    },
    {
     "name": "stdout",
     "output_type": "stream",
     "text": [
      "resultsmnet/cate6-00073.jpg\n",
      "resultsmnet/cate7-00084.jpg\n",
      "resultsmnet/cate9-00009.jpg\n"
     ]
    },
    {
     "name": "stderr",
     "output_type": "stream",
     "text": [
      " 86%|███████████████████████████████████████████▋       | 257/300 [00:26<00:04, 10.17it/s]"
     ]
    },
    {
     "name": "stdout",
     "output_type": "stream",
     "text": [
      "resultsmnet/cate8-00112.jpg\n",
      "resultsmnet/cate6-00153.jpg\n",
      "resultsmnet/cate10-00046.jpg\n"
     ]
    },
    {
     "name": "stderr",
     "output_type": "stream",
     "text": [
      "\r",
      " 86%|████████████████████████████████████████████       | 259/300 [00:26<00:04, 10.13it/s]"
     ]
    },
    {
     "name": "stdout",
     "output_type": "stream",
     "text": [
      "resultsmnet/cate4-00097.jpg\n",
      "resultsmnet/cate2-00065.jpg\n",
      "resultsmnet/cate7-00102.jpg\n"
     ]
    },
    {
     "name": "stderr",
     "output_type": "stream",
     "text": [
      " 88%|████████████████████████████████████████████▋      | 263/300 [00:26<00:03, 10.17it/s]"
     ]
    },
    {
     "name": "stdout",
     "output_type": "stream",
     "text": [
      "resultsmnet/cate1-00003.jpg\n",
      "resultsmnet/cate6-00142.jpg\n",
      "resultsmnet/cate6-00145.jpg\n"
     ]
    },
    {
     "name": "stderr",
     "output_type": "stream",
     "text": [
      "\r",
      " 88%|█████████████████████████████████████████████      | 265/300 [00:26<00:03, 10.17it/s]"
     ]
    },
    {
     "name": "stdout",
     "output_type": "stream",
     "text": [
      "resultsmnet/cate2-00047.jpg\n",
      "resultsmnet/cate6-00049.jpg\n",
      "resultsmnet/cate2-00170.jpg\n"
     ]
    },
    {
     "name": "stderr",
     "output_type": "stream",
     "text": [
      " 90%|█████████████████████████████████████████████▋     | 269/300 [00:27<00:03, 10.23it/s]"
     ]
    },
    {
     "name": "stdout",
     "output_type": "stream",
     "text": [
      "resultsmnet/cate8-00039.jpg\n",
      "resultsmnet/cate1-00038.jpg\n",
      "resultsmnet/cate8-00082.jpg\n"
     ]
    },
    {
     "name": "stderr",
     "output_type": "stream",
     "text": [
      "\r",
      " 90%|██████████████████████████████████████████████     | 271/300 [00:27<00:02, 10.25it/s]"
     ]
    },
    {
     "name": "stdout",
     "output_type": "stream",
     "text": [
      "resultsmnet/cate8-00111.jpg\n",
      "resultsmnet/cate7-00013.jpg\n",
      "resultsmnet/cate8-00116.jpg\n"
     ]
    },
    {
     "name": "stderr",
     "output_type": "stream",
     "text": [
      " 92%|██████████████████████████████████████████████▊    | 275/300 [00:27<00:02, 10.22it/s]"
     ]
    },
    {
     "name": "stdout",
     "output_type": "stream",
     "text": [
      "resultsmnet/cate8-00342.jpg\n",
      "resultsmnet/cate9-00014.jpg\n",
      "resultsmnet/cate4-00131.jpg\n"
     ]
    },
    {
     "name": "stderr",
     "output_type": "stream",
     "text": [
      "\r",
      " 92%|███████████████████████████████████████████████    | 277/300 [00:28<00:02, 10.21it/s]"
     ]
    },
    {
     "name": "stdout",
     "output_type": "stream",
     "text": [
      "resultsmnet/cate9-00029.jpg\n",
      "resultsmnet/cate2-00161.jpg\n",
      "resultsmnet/cate10-00008.jpg\n"
     ]
    },
    {
     "name": "stderr",
     "output_type": "stream",
     "text": [
      " 94%|███████████████████████████████████████████████▊   | 281/300 [00:28<00:01, 10.24it/s]"
     ]
    },
    {
     "name": "stdout",
     "output_type": "stream",
     "text": [
      "resultsmnet/cate7-00026.jpg\n",
      "resultsmnet/cate8-00183.jpg\n",
      "resultsmnet/cate8-00065.jpg\n"
     ]
    },
    {
     "name": "stderr",
     "output_type": "stream",
     "text": [
      "\r",
      " 94%|████████████████████████████████████████████████   | 283/300 [00:28<00:01, 10.17it/s]"
     ]
    },
    {
     "name": "stdout",
     "output_type": "stream",
     "text": [
      "resultsmnet/cate8-00115.jpg\n",
      "resultsmnet/cate8-00445.jpg\n",
      "resultsmnet/cate7-00012.jpg\n"
     ]
    },
    {
     "name": "stderr",
     "output_type": "stream",
     "text": [
      " 96%|████████████████████████████████████████████████▊  | 287/300 [00:29<00:01, 10.04it/s]"
     ]
    },
    {
     "name": "stdout",
     "output_type": "stream",
     "text": [
      "resultsmnet/cate8-00257.jpg\n",
      "resultsmnet/cate10-00101.jpg\n",
      "resultsmnet/cate1-00051.jpg\n"
     ]
    },
    {
     "name": "stderr",
     "output_type": "stream",
     "text": [
      "\r",
      " 96%|█████████████████████████████████████████████████▏ | 289/300 [00:29<00:01,  9.99it/s]"
     ]
    },
    {
     "name": "stdout",
     "output_type": "stream",
     "text": [
      "resultsmnet/cate2-00030.jpg\n",
      "resultsmnet/cate10-00026.jpg\n"
     ]
    },
    {
     "name": "stderr",
     "output_type": "stream",
     "text": [
      "\r",
      " 97%|█████████████████████████████████████████████████▍ | 291/300 [00:29<00:00,  9.99it/s]"
     ]
    },
    {
     "name": "stdout",
     "output_type": "stream",
     "text": [
      "resultsmnet/cate6-00025.jpg\n",
      "resultsmnet/cate2-00198.jpg\n",
      "resultsmnet/cate2-00061.jpg\n"
     ]
    },
    {
     "name": "stderr",
     "output_type": "stream",
     "text": [
      " 98%|██████████████████████████████████████████████████▏| 295/300 [00:29<00:00, 10.05it/s]"
     ]
    },
    {
     "name": "stdout",
     "output_type": "stream",
     "text": [
      "resultsmnet/cate6-00035.jpg\n",
      "resultsmnet/cate7-00105.jpg\n",
      "resultsmnet/cate6-00056.jpg\n"
     ]
    },
    {
     "name": "stderr",
     "output_type": "stream",
     "text": [
      "\r",
      " 99%|██████████████████████████████████████████████████▍| 297/300 [00:30<00:00, 10.08it/s]"
     ]
    },
    {
     "name": "stdout",
     "output_type": "stream",
     "text": [
      "resultsmnet/cate2-00217.jpg\n",
      "resultsmnet/cate7-00090.jpg\n",
      "resultsmnet/cate9-00017.jpg\n"
     ]
    },
    {
     "name": "stderr",
     "output_type": "stream",
     "text": [
      "100%|███████████████████████████████████████████████████| 300/300 [00:30<00:00,  9.89it/s]"
     ]
    },
    {
     "name": "stdout",
     "output_type": "stream",
     "text": [
      "resultsmnet/cate4-00112.jpg\n",
      "Accuracy: 0.91129\n",
      "F1: 0.70329\n",
      "Jaccard: 0.55393\n",
      "Recall: 0.57233\n",
      "Precision: 0.94820\n"
     ]
    },
    {
     "name": "stderr",
     "output_type": "stream",
     "text": [
      "\n"
     ]
    }
   ],
   "source": [
    "#test\n",
    "import os\n",
    "os.environ[\"TF_CPP_MIN_LOG_LEVEL\"] = \"0\"\n",
    "import numpy as np\n",
    "import cv2\n",
    "import pandas as pd\n",
    "from glob import glob\n",
    "from tqdm import tqdm\n",
    "import tensorflow as tf\n",
    "from tensorflow.keras.utils import CustomObjectScope\n",
    "from sklearn.metrics import accuracy_score, f1_score, jaccard_score, precision_score, recall_score\n",
    "#from metrics import dice_loss, dice_coef, iou\n",
    "#from train import load_data, create_dir\n",
    "\n",
    "H = 256\n",
    "W = 256\n",
    "\n",
    "def read_image(path):\n",
    "    x = cv2.imread(path, cv2.IMREAD_COLOR)  ## (H, W, 3)\n",
    "    x = cv2.resize(x, (W, H))\n",
    "    ori_x = x\n",
    "    x = x/255.0\n",
    "    x = x.astype(np.float32)\n",
    "    x = np.expand_dims(x, axis=0)\n",
    "    return ori_x, x                                ## (1, 256, 256, 3)\n",
    "\n",
    "\n",
    "def read_mask(path):\n",
    "    x = cv2.imread(path, cv2.IMREAD_GRAYSCALE)  ## (H, W)\n",
    "    x = cv2.resize(x, (W, H))\n",
    "    ori_x = x\n",
    "    x = x/255.0\n",
    "    x = x.astype(np.int32)                    ## (256, 256)\n",
    "    return ori_x, x\n",
    "\n",
    "def save_results(ori_x, ori_y, y_pred, save_image_path):\n",
    "    line = np.ones((H, 10, 3)) * 255\n",
    "\n",
    "    ori_y = np.expand_dims(ori_y, axis=-1)  ## (256, 256, 1)\n",
    "    ori_y = np.concatenate([ori_y, ori_y, ori_y], axis=-1) ## (256, 256, 3)\n",
    "\n",
    "    y_pred = np.expand_dims(y_pred, axis=-1)  ## (256, 256, 1)\n",
    "    y_pred = np.concatenate([y_pred, y_pred, y_pred], axis=-1) ## (256, 256, 3)\n",
    "\n",
    "    cat_images = np.concatenate([ori_x, line, ori_y, line, y_pred*255], axis=1)\n",
    "    cv2.imwrite(save_image_path, cat_images)\n",
    "\n",
    "def load_data(dataset_path, split=0.2):\n",
    "    dataset_path=dataset_path+\"/Dataset/\"\n",
    "    images = sorted(glob(os.path.join(dataset_path, \"images\", \"*.jpg\")))\n",
    "    masks = sorted(glob(os.path.join(dataset_path, \"tooth-semantic-masks\", \"*.png\")))\n",
    "\n",
    "    test_size = int(len(images) * split)\n",
    "\n",
    "    train_x, valid_x = train_test_split(images, test_size=test_size, random_state=42)\n",
    "    train_y, valid_y = train_test_split(masks, test_size=test_size, random_state=42)\n",
    "\n",
    "    train_x, test_x = train_test_split(train_x, test_size=test_size, random_state=42)\n",
    "    train_y, test_y = train_test_split(train_y, test_size=test_size, random_state=42)\n",
    "\n",
    "    return (train_x, train_y), (valid_x, valid_y), (test_x, test_y)\n",
    "\n",
    "\n",
    "if __name__ == \"__main__\":\n",
    "    \"\"\" Seeding \"\"\"\n",
    "    np.random.seed(42)\n",
    "    tf.random.set_seed(42)\n",
    "\n",
    "    \"\"\" Folder for saving results \"\"\"\n",
    "    create_dir(\"resultsmnet\")\n",
    "\n",
    "    \"\"\" Load the model \"\"\"\n",
    "    with CustomObjectScope({'iou': iou, 'dice_coef': dice_coef}):\n",
    "        model = tf.keras.models.load_model(\"filesmnet/model.h5\")\n",
    "\n",
    "    \"\"\" Load the test data \"\"\"\n",
    "    dataset_path = os.getcwd()\n",
    "    (train_x, train_y), (valid_x, valid_y), (test_x, test_y) = load_data(dataset_path)\n",
    "\n",
    "    SCORE = []\n",
    "    for x, y in tqdm(zip(test_x, test_y), total=len(test_x)):\n",
    "        \"\"\" Exctracting the image name \"\"\"\n",
    "        name = x.split(\"/\")[-1]\n",
    "\n",
    "        \"\"\" Read the image and mask \"\"\"\n",
    "        ori_x, x = read_image(x)\n",
    "        ori_y, y = read_mask(y)\n",
    "\n",
    "        \"\"\" Predicting the mask \"\"\"\n",
    "        y_pred = model.predict(x)[0] > 0.5\n",
    "        y_pred = np.squeeze(y_pred, axis=-1)\n",
    "        y_pred = y_pred.astype(np.int32)\n",
    "\n",
    "        \"\"\" Saving the predicted mask \"\"\"\n",
    "        save_image_path = f\"resultsmnet/{name}\"\n",
    "        save_results(ori_x, ori_y, y_pred, save_image_path)\n",
    "        print(save_image_path)\n",
    "\n",
    "        \"\"\" Flatten the array \"\"\"\n",
    "        y = y.flatten()\n",
    "        y_pred = y_pred.flatten()\n",
    "\n",
    "        \"\"\" Calculating metrics values \"\"\"\n",
    "        acc_value = accuracy_score(y, y_pred)\n",
    "        f1_value = f1_score(y, y_pred, labels=[0, 1], average=\"binary\")\n",
    "        jac_value = jaccard_score(y, y_pred, labels=[0, 1], average=\"binary\")\n",
    "        recall_value = recall_score(y, y_pred, labels=[0, 1], average=\"binary\")\n",
    "        precision_value = precision_score(y, y_pred, labels=[0, 1], average=\"binary\")\n",
    "        SCORE.append([name, acc_value, f1_value, jac_value, recall_value, precision_value])\n",
    "\n",
    "    \"\"\" mean metrics values \"\"\"\n",
    "    score = [s[1:] for s in SCORE]\n",
    "    score = np.mean(score, axis=0)\n",
    "    print(f\"Accuracy: {score[0]:0.5f}\")\n",
    "    print(f\"F1: {score[1]:0.5f}\")\n",
    "    print(f\"Jaccard: {score[2]:0.5f}\")\n",
    "    print(f\"Recall: {score[3]:0.5f}\")\n",
    "    print(f\"Precision: {score[4]:0.5f}\")\n",
    "\n",
    "    df = pd.DataFrame(SCORE, columns = [\"Image Name\", \"Acc\", \"F1\", \"Jaccard\", \"Recall\", \"Precision\"])\n",
    "    df.to_csv(\"filesmnet/score.csv\")"
   ]
  }
 ],
 "metadata": {
  "kernelspec": {
   "display_name": "Python 3 (ipykernel)",
   "language": "python",
   "name": "python3"
  },
  "language_info": {
   "codemirror_mode": {
    "name": "ipython",
    "version": 3
   },
   "file_extension": ".py",
   "mimetype": "text/x-python",
   "name": "python",
   "nbconvert_exporter": "python",
   "pygments_lexer": "ipython3",
   "version": "3.8.6"
  }
 },
 "nbformat": 4,
 "nbformat_minor": 5
}
